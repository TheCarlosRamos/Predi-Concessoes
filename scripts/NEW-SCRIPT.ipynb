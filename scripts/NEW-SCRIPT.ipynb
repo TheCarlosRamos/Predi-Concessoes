{
 "cells": [
  {
   "cell_type": "code",
   "execution_count": 1,
   "metadata": {},
   "outputs": [
    {
     "ename": "SyntaxError",
     "evalue": "invalid syntax (24827941.py, line 1)",
     "output_type": "error",
     "traceback": [
      "  \u001b[36mCell\u001b[39m\u001b[36m \u001b[39m\u001b[32mIn[1]\u001b[39m\u001b[32m, line 1\u001b[39m\n\u001b[31m    \u001b[39m\u001b[31m<h1><b><i>SCRIPT PRINCIPAL</b></i></h1>\u001b[39m\n    ^\n\u001b[31mSyntaxError\u001b[39m\u001b[31m:\u001b[39m invalid syntax\n"
     ]
    }
   ],
   "source": [
    "<h1><b><i>SCRIPT PRINCIPAL</b></i></h1>\n",
    "<h2><b><i>Importação de Bibliotécas</b></i></h2>"
   ]
  },
  {
   "cell_type": "code",
   "execution_count": null,
   "metadata": {},
   "outputs": [],
   "source": [
    "import pandas as pd\n",
    "import openpyxl\n",
    "import numpy as np\n",
    "import os"
   ]
  },
  {
   "cell_type": "code",
   "execution_count": null,
   "metadata": {},
   "outputs": [],
   "source": [
    "# ==============================================================================\n",
    "# 1. SETUP INICIAL E CARREGAMENTO\n",
    "#    (Melhor prática: definir constantes e carregar o arquivo de forma segura)\n",
    "# ==============================================================================\n",
    "\n",
    "# Definição do caminho do arquivo em uma variável para fácil manutenção\n",
    "FILE_PATH = 'Planilha de Monitoramento_PPI_2025_31_03_25_PPI_R21.xlsx'\n",
    "OUTPUT_DIR = 'Dados Gerados'\n",
    "\n",
    "# Verifica se o arquivo existe antes de tentar carregá-lo\n",
    "if not os.path.exists(FILE_PATH):\n",
    "    print(f\"ERRO: O arquivo '{FILE_PATH}' não foi encontrado.\")\n",
    "    # Encerra o script ou lança uma exceção se o arquivo principal não existir\n",
    "    exit()\n",
    "\n",
    "# Cria a pasta de saída se ela não existir\n",
    "os.makedirs(OUTPUT_DIR, exist_ok=True)\n",
    "\n",
    "print(f\"Arquivo '{FILE_PATH}' encontrado. Iniciando processamento...\")"
   ]
  },
  {
   "cell_type": "code",
   "execution_count": null,
   "metadata": {},
   "outputs": [],
   "source": [
    "# Listar todas as planilhas disponíveis no arquivo\n",
    "sheet_names = xls.sheet_names\n",
    "sheet_names"
   ]
  },
  {
   "cell_type": "code",
   "execution_count": null,
   "metadata": {},
   "outputs": [],
   "source": [
    "file_path = 'Planilha de Monitoramento_PPI_2025_31_03_25_PPI_R21.xlsx'"
   ]
  },
  {
   "cell_type": "code",
   "execution_count": null,
   "metadata": {},
   "outputs": [],
   "source": [
    "# Carregar as planilhas\n",
    "\n",
    "df_informacoes = pd.read_excel(file_path, sheet_name='INFORMAÇÕES (1)')\n",
    "df_per = pd.read_excel(file_path, sheet_name='PER (1)')\n",
    "df_plan_exec_ano_ant = pd.read_excel(file_path, sheet_name='PLAN_EXEC ATÉ ANO ANTERIOR (22)')\n",
    "df_meta_23 = pd.read_excel(file_path, sheet_name='META(1) 2023')\n",
    "df_meta_24 = pd.read_excel(file_path, sheet_name='META(2024)')\n",
    "df_meta_25 = pd.read_excel(file_path, sheet_name='META(2025)')\n",
    "df_meta_26 = pd.read_excel(file_path, sheet_name='META(2026)')\n",
    "df_meta_27 = pd.read_excel(file_path, sheet_name='META(2027)')\n",
    "df_inexec = pd.read_excel(file_path, sheet_name='iNEXECUTADO (pendências até 24)')\n",
    "df_a_executar = pd.read_excel(file_path, sheet_name='À EXECUTAR (2026 DIANTE)')"
   ]
  },
  {
   "cell_type": "markdown",
   "metadata": {},
   "source": [
    "<h1><b><i>INFORMAÇÕES (1)</b></i></h1>"
   ]
  },
  {
   "cell_type": "code",
   "execution_count": null,
   "metadata": {},
   "outputs": [],
   "source": [
    "#CHECKPOINT\n",
    "df_informacoes_copy = df_informacoes.copy()"
   ]
  },
  {
   "cell_type": "code",
   "execution_count": null,
   "metadata": {},
   "outputs": [],
   "source": [
    "df_informacoes_copy = pd.read_excel(file_path, sheet_name='INFORMAÇÕES (1)', header=2)\n",
    "df_informacoes_copy.columns"
   ]
  },
  {
   "cell_type": "code",
   "execution_count": null,
   "metadata": {},
   "outputs": [],
   "source": [
    "df_informacoes_copy"
   ]
  },
  {
   "cell_type": "code",
   "execution_count": null,
   "metadata": {},
   "outputs": [],
   "source": [
    "df_informacoes_copy = df_informacoes_copy.drop([0, 1, 2], axis = 0)"
   ]
  },
  {
   "cell_type": "code",
   "execution_count": null,
   "metadata": {},
   "outputs": [],
   "source": [
    "df_informacoes_copy = df_informacoes_copy.dropna(subset=['BR'])"
   ]
  },
  {
   "cell_type": "code",
   "execution_count": null,
   "metadata": {},
   "outputs": [],
   "source": [
    "df_informacoes_copy['Etapa'] = None\n",
    "df_informacoes_copy['Descrição do Trecho'] = None\n",
    "etapa_atual = None\n",
    "\n",
    "for index, row in df_informacoes_copy.iterrows():\n",
    "    if 'ETAPA' in str(row['TRECHO']):\n",
    "        etapa_atual = row['TRECHO']\n",
    "    df_informacoes_copy.at[index, 'Etapa'] = etapa_atual\n",
    "    if pd.notna(row['TRECHO']) and 'ETAPA' not in str(row['TRECHO']):\n",
    "        df_informacoes_copy.at[index, 'Descrição do Trecho'] = row['TRECHO']"
   ]
  },
  {
   "cell_type": "code",
   "execution_count": null,
   "metadata": {},
   "outputs": [],
   "source": [
    "df_informacoes_copy.drop('TRECHO', axis=1, inplace=True)"
   ]
  },
  {
   "cell_type": "code",
   "execution_count": null,
   "metadata": {},
   "outputs": [],
   "source": [
    "# Updating the 'Região' column based on the 'UF' mapping\n",
    "region_mapping = {\n",
    "    'AC': 'Norte', 'AP': 'Norte', 'AM': 'Norte', 'PA': 'Norte', 'RO': 'Norte', 'RR': 'Norte', 'TO': 'Norte',\n",
    "    'AL': 'Nordeste', 'BA': 'Nordeste', 'CE': 'Nordeste', 'MA': 'Nordeste', 'PB': 'Nordeste', 'PE': 'Nordeste',\n",
    "    'PI': 'Nordeste', 'RN': 'Nordeste', 'SE': 'Nordeste',\n",
    "    'DF': 'Centro-Oeste', 'GO': 'Centro-Oeste', 'MS': 'Centro-Oeste', 'MT': 'Centro-Oeste',\n",
    "    'ES': 'Sudeste', 'MG': 'Sudeste', 'RJ': 'Sudeste', 'SP': 'Sudeste',\n",
    "    'PR': 'Sul', 'SC': 'Sul', 'RS': 'Sul'\n",
    "}\n",
    "df_informacoes_copy['Região'] = df_informacoes_copy['UF'].map(region_mapping)"
   ]
  },
  {
   "cell_type": "code",
   "execution_count": null,
   "metadata": {},
   "outputs": [],
   "source": [
    "columns_to_fill = ['ESTADO/LOTE', 'EMPREENDIMENTO', 'PROPONENTE', 'EXECUTOR             (Grupo Controlador)',\n",
    "       'ESTRUTURADOR DO PROJETO', 'ANO LEILÃO', 'DATA DE INÍCIO']\n",
    "df_informacoes_copy[columns_to_fill] = df_informacoes_copy.groupby((df_informacoes_copy['BR'] == 1).cumsum())[columns_to_fill].transform(lambda x: x.ffill())"
   ]
  },
  {
   "cell_type": "code",
   "execution_count": null,
   "metadata": {},
   "outputs": [],
   "source": [
    "df_informacoes_copy['CAPEX (BI)'].unique()"
   ]
  },
  {
   "cell_type": "code",
   "execution_count": null,
   "metadata": {},
   "outputs": [],
   "source": [
    "df_informacoes_copy"
   ]
  },
  {
   "cell_type": "code",
   "execution_count": null,
   "metadata": {},
   "outputs": [],
   "source": [
    "df_informacoes_copy['Situação'] = df_informacoes_copy['KM Inicial'].apply(lambda x: x if str(x) in ['ATIVO', 'CADUCIDADE', 'JUDICIAL', 'RELICITAÇÃO', 'RENEGOCIAÇÃO'] else pd.NA)\n",
    "\n",
    "# Agora preenchemos para baixo até encontrar o próximo valor não-NaN (isto é, a próxima 'Situação')\n",
    "df_informacoes_copy['Situação'] = df_informacoes_copy['Situação'].fillna(method='ffill')\n",
    "\n",
    "# Agora, separemos os valores numéricos para uma nova coluna 'KM Inicial Num'\n",
    "df_informacoes_copy['km (i)'] = df_informacoes_copy['KM Inicial'].apply(lambda x: x if isinstance(x, float) else pd.NA)"
   ]
  },
  {
   "cell_type": "code",
   "execution_count": null,
   "metadata": {},
   "outputs": [],
   "source": [
    "df_informacoes_copy.drop('KM Inicial', axis=1, inplace=True)"
   ]
  },
  {
   "cell_type": "code",
   "execution_count": null,
   "metadata": {},
   "outputs": [],
   "source": [
    "# Renomear Coluna ['EXECUTOR...']\n",
    "# DROP de Colunas e Realocação.\n",
    "\n",
    "df_informacoes_copy.rename(columns={'EXECUTOR             (Grupo Controlador)': 'EXECUTOR (Grupo Controlador)'}, inplace=True)\n",
    "df_informacoes_copy.rename(columns={'EXTENSÃO\\n (km)': 'EXTENSÃO (km)'}, inplace=True)\n",
    "df_informacoes_copy.rename(columns={'KM Final': 'km (f)'}, inplace=True)\n",
    "\n",
    "df_informacoes_copy = df_informacoes_copy[['Região', 'SETOR', 'UF', 'ESTADO/LOTE', 'BR', 'EMPREENDIMENTO', 'PROPONENTE',\n",
    "       'EXECUTOR (Grupo Controlador)', 'ESTRUTURADOR DO PROJETO',\n",
    "       'ANO LEILÃO', 'DATA DE INÍCIO', 'ANO DA CONCESSÃO',\n",
    "       'PRAZO (anos)', 'CAPEX (BI)', 'OPEX (BI)', 'INVESTIMENTO TOTAL (BI)', \n",
    "       'Etapa', 'Descrição do Trecho',\n",
    "       'Situação', 'km (i)', 'km (f)', 'EXTENSÃO (km)']]"
   ]
  },
  {
   "cell_type": "code",
   "execution_count": null,
   "metadata": {},
   "outputs": [],
   "source": [
    "df_informacoes_copy['ESTRUTURADOR DO PROJETO'].unique()"
   ]
  },
  {
   "cell_type": "code",
   "execution_count": null,
   "metadata": {},
   "outputs": [],
   "source": [
    "df_informacoes_copy['PROPONENTE'].unique()"
   ]
  },
  {
   "cell_type": "code",
   "execution_count": null,
   "metadata": {},
   "outputs": [],
   "source": [
    "df_informacoes_copy.columns"
   ]
  },
  {
   "cell_type": "code",
   "execution_count": null,
   "metadata": {},
   "outputs": [],
   "source": [
    "# Converter colunas para 'category'\n",
    "df_informacoes_copy['SETOR'] = df_informacoes_copy['SETOR'].astype('category')\n",
    "df_informacoes_copy['UF'] = df_informacoes_copy['UF'].astype('category')\n",
    "df_informacoes_copy['ESTADO/LOTE'] = df_informacoes_copy['ESTADO/LOTE'].astype('category')\n",
    "df_informacoes_copy['PROPONENTE'] = df_informacoes_copy['PROPONENTE'].astype('category')\n",
    "df_informacoes_copy['EXECUTOR (Grupo Controlador)'] = df_informacoes_copy['EXECUTOR (Grupo Controlador)'].astype('category')\n",
    "df_informacoes_copy['ESTRUTURADOR DO PROJETO'] = df_informacoes_copy['ESTRUTURADOR DO PROJETO'].astype('category')\n",
    "\n",
    "# Converter colunas para 'int'\n",
    "df_informacoes_copy['ANO DA CONCESSÃO'] = pd.to_numeric(df_informacoes_copy['ANO DA CONCESSÃO'], errors='coerce').fillna(0).astype(int)\n",
    "df_informacoes_copy['PRAZO (anos)'] = pd.to_numeric(df_informacoes_copy['PRAZO (anos)'], errors='coerce').fillna(0).astype(int)\n",
    "\n",
    "# Converter colunas para 'float'\n",
    "df_informacoes_copy['CAPEX (BI)'] = pd.to_numeric(df_informacoes_copy['CAPEX (BI)'], errors='coerce')\n",
    "df_informacoes_copy['OPEX (BI)'] = pd.to_numeric(df_informacoes_copy['OPEX (BI)'], errors='coerce')\n",
    "df_informacoes_copy['INVESTIMENTO TOTAL (BI)'] = df_informacoes_copy['INVESTIMENTO TOTAL (BI)'].replace('[\\$]', '', regex=True).replace(',', '.', regex=True)\n",
    "df_informacoes_copy['INVESTIMENTO TOTAL (BI)'] = pd.to_numeric(df_informacoes_copy['INVESTIMENTO TOTAL (BI)'], errors='coerce')\n",
    "\n",
    "df_informacoes_copy['km (i)'] = pd.to_numeric(df_informacoes_copy['km (i)'], errors='coerce')\n",
    "df_informacoes_copy['km (f)'] = pd.to_numeric(df_informacoes_copy['km (f)'], errors='coerce')\n",
    "df_informacoes_copy['EXTENSÃO (km)'] = pd.to_numeric(df_informacoes_copy['EXTENSÃO (km)'], errors='coerce')\n",
    "\n",
    "# Converter colunas para 'string'\n",
    "df_informacoes_copy['EMPREENDIMENTO'] = df_informacoes_copy['EMPREENDIMENTO'].astype('string') \n"
   ]
  },
  {
   "cell_type": "code",
   "execution_count": null,
   "metadata": {},
   "outputs": [],
   "source": [
    "# Função para limpar e converter as datas para o formato datetime\n",
    "def limpar_e_converter_data(data):\n",
    "    # Tratar dados como string para evitar problemas com diferentes tipos\n",
    "    data = str(data)\n",
    "    # Substituir '//'' por '/'\n",
    "    data = data.replace('//', '/')\n",
    "    # Substituir '/' por '-'\n",
    "    data = data.replace('/', '-')\n",
    "    # Tentar converter para datetime\n",
    "    return pd.to_datetime(data, errors='coerce', dayfirst=True)\n",
    "\n",
    "# Aplicar a função no DataFrame\n",
    "# Substitua 'df_informacoes_copy' pelo nome do seu DataFrame e 'DATA DE INÍCIO' pelo nome da coluna que contém as datas\n",
    "df_informacoes_copy['DATA DE INÍCIO'] = df_informacoes_copy['DATA DE INÍCIO'].apply(limpar_e_converter_data)"
   ]
  },
  {
   "cell_type": "code",
   "execution_count": null,
   "metadata": {},
   "outputs": [],
   "source": [
    "columns_to_fill = ['Região', 'ESTADO/LOTE', 'EMPREENDIMENTO', 'EXECUTOR (Grupo Controlador)']\n",
    "df_informacoes_copy[columns_to_fill] = df_informacoes_copy.groupby((df_informacoes_copy['BR'] == 1).cumsum())[columns_to_fill].transform(lambda x: x.ffill())"
   ]
  },
  {
   "cell_type": "code",
   "execution_count": null,
   "metadata": {},
   "outputs": [],
   "source": [
    "df_informacoes_copy.index = range(1, len(df_informacoes_copy) + 1)"
   ]
  },
  {
   "cell_type": "code",
   "execution_count": null,
   "metadata": {},
   "outputs": [],
   "source": [
    "df_informacoes_copy.index.name = 'ID-ÚNICO'"
   ]
  },
  {
   "cell_type": "code",
   "execution_count": null,
   "metadata": {},
   "outputs": [],
   "source": [
    "df_informacoes_copy"
   ]
  },
  {
   "cell_type": "code",
   "execution_count": null,
   "metadata": {},
   "outputs": [],
   "source": [
    "df_informacoes_copy['UF'].unique()"
   ]
  },
  {
   "cell_type": "markdown",
   "metadata": {},
   "source": [
    "---"
   ]
  },
  {
   "cell_type": "code",
   "execution_count": null,
   "metadata": {},
   "outputs": [],
   "source": [
    "df_informacoes_copy = df_informacoes_copy[df_informacoes_copy['BR'] == 1]"
   ]
  },
  {
   "cell_type": "code",
   "execution_count": null,
   "metadata": {},
   "outputs": [],
   "source": [
    "columns_to_drop = ['SETOR', 'Região', 'Descrição do Trecho', 'km (i)', 'km (f)']\n",
    "\n",
    "# Removendo as colunas extras do DataFrame df_informacoes_copy\n",
    "df_informacoes_copy = df_informacoes_copy.drop(columns=columns_to_drop)"
   ]
  },
  {
   "cell_type": "code",
   "execution_count": null,
   "metadata": {},
   "outputs": [],
   "source": [
    "# Dicionário de renomeação\n",
    "rename_dict = {\n",
    "    'UF': 'Região',\n",
    "    'Etapa': 'ETAPA',\n",
    "    'Situação': 'SITUAÇÃO'\n",
    "}\n",
    "\n",
    "# Renomear as colunas usando o dicionário\n",
    "df_informacoes_copy = df_informacoes_copy.rename(columns=rename_dict)"
   ]
  },
  {
   "cell_type": "code",
   "execution_count": null,
   "metadata": {},
   "outputs": [],
   "source": [
    "df_informacoes_copy = df_informacoes_copy[['Região', 'BR', 'EMPREENDIMENTO', 'PROPONENTE',\n",
    "       'EXECUTOR (Grupo Controlador)', 'ESTRUTURADOR DO PROJETO',\n",
    "       'ANO LEILÃO', 'DATA DE INÍCIO', 'ANO DA CONCESSÃO',\n",
    "       'PRAZO (anos)', 'CAPEX (BI)', 'OPEX (BI)', 'INVESTIMENTO TOTAL (BI)',\n",
    "       'ETAPA', 'SITUAÇÃO', 'EXTENSÃO (km)', 'ESTADO/LOTE']]"
   ]
  },
  {
   "cell_type": "code",
   "execution_count": null,
   "metadata": {},
   "outputs": [],
   "source": [
    "# Realiza a substituição na coluna 'EMPREENDIMENTO'\n",
    "df_informacoes_copy['EMPREENDIMENTO'] = df_informacoes_copy['EMPREENDIMENTO'].replace('CONCESSÃO VIA SUL', 'VIA SUL')"
   ]
  },
  {
   "cell_type": "code",
   "execution_count": null,
   "metadata": {},
   "outputs": [],
   "source": [
    "df_informacoes_copy.to_excel('Dados Gerados/INFORMAÇÕES (1).xlsx', index=False, sheet_name='INFORMAÇÕES (1)')"
   ]
  },
  {
   "cell_type": "markdown",
   "metadata": {},
   "source": [
    "<h1><b><i>PER (1)</b></i></h1>"
   ]
  },
  {
   "cell_type": "code",
   "execution_count": null,
   "metadata": {},
   "outputs": [],
   "source": [
    "#CHECKPOINT\n",
    "df_per_copy = df_per.copy()"
   ]
  },
  {
   "cell_type": "code",
   "execution_count": null,
   "metadata": {},
   "outputs": [],
   "source": [
    "df_per_copy = pd.read_excel(file_path, sheet_name='PER (1)', header=2)"
   ]
  },
  {
   "cell_type": "code",
   "execution_count": null,
   "metadata": {},
   "outputs": [],
   "source": [
    "df_per_copy"
   ]
  },
  {
   "cell_type": "code",
   "execution_count": null,
   "metadata": {},
   "outputs": [],
   "source": [
    "df_per_copy = df_per_copy.drop([0, 1, 2], axis = 0)"
   ]
  },
  {
   "cell_type": "code",
   "execution_count": null,
   "metadata": {},
   "outputs": [],
   "source": [
    "df_per_copy = df_per_copy.loc[df_per_copy['BR'] != 1]\n",
    "df_per_copy = df_per_copy.dropna(subset=['BR'])"
   ]
  },
  {
   "cell_type": "code",
   "execution_count": null,
   "metadata": {},
   "outputs": [],
   "source": [
    "df_per_copy = df_per_copy.dropna(subset=['ESTADO/LOTE'])"
   ]
  },
  {
   "cell_type": "code",
   "execution_count": null,
   "metadata": {},
   "outputs": [],
   "source": [
    "df_per_copy['ESTADO/LOTE'] = df_per_copy['ESTADO/LOTE'].apply(lambda x: x if str(x) in ['RIO GRANDE DO SUL', 'MINAS GERAIS', 'GOIÁS',\n",
    "       'SANTA CATARINA', 'TOCANTINS', 'GOIAS', 'RIO DE JANEIRO',\n",
    "       'MATO GROSSO', 'PARÁ', 'SÃO PAULO', 'PARANÁ', 'BAHIA',\n",
    "       'ESPIRITO SANTO', 'MATO GROSSO DO SUL'] else pd.NA)\n",
    "\n",
    "# Agora preenchemos para baixo até encontrar o próximo valor não-NaN (isto é, a próxima 'Situação')\n",
    "df_per_copy['ESTADO/LOTE'] = df_per_copy['ESTADO/LOTE'].fillna(method='ffill')"
   ]
  },
  {
   "cell_type": "code",
   "execution_count": null,
   "metadata": {},
   "outputs": [],
   "source": [
    "df_per_copy"
   ]
  },
  {
   "cell_type": "code",
   "execution_count": null,
   "metadata": {},
   "outputs": [],
   "source": [
    "df_per_copy = df_per_copy[~df_per_copy.apply(lambda row: row.astype(str).str.contains('TOTAL|SOMA').any(), axis=1)]"
   ]
  },
  {
   "cell_type": "code",
   "execution_count": null,
   "metadata": {},
   "outputs": [],
   "source": [
    "# Renomear Coluna ['EXECUTOR...']\n",
    "\n",
    "df_per_copy.rename(columns={'EXECUTOR             (Grupo Controlador)': 'EXECUTOR (Grupo Controlador)'}, inplace=True)\n",
    "df_per_copy.rename(columns={'PAVIMENTAÇÃO': 'PAVIMENTAÇÃO - < 2022 - Descrição'}, inplace=True)\n",
    "df_per_copy.rename(columns={'DUPLICAÇÃO': 'DUPLICAÇÃO - < 2022 - Descrição'}, inplace=True)\n",
    "df_per_copy.rename(columns={'OAE': 'OAE - < 2022 - Descrição'}, inplace=True)\n",
    "df_per_copy.rename(columns={'CONTORNO': 'CONTORNO - < 2022 - Descrição'}, inplace=True)\n",
    "df_per_copy.rename(columns={'FX ADICIONAL': 'FX ADICIONAL - < 2022 - Descrição'}, inplace=True)\n",
    "df_per_copy.rename(columns={'TERCEIRA FAIXA': 'TERCEIRA FAIXA - < 2022 - Descrição'}, inplace=True)"
   ]
  },
  {
   "cell_type": "code",
   "execution_count": null,
   "metadata": {},
   "outputs": [],
   "source": [
    "df_per_copy"
   ]
  },
  {
   "cell_type": "code",
   "execution_count": null,
   "metadata": {},
   "outputs": [],
   "source": [
    "new_column_names = ['PAVIMENTAÇÃO - < 2022 - km (i)', \n",
    "                    'PAVIMENTAÇÃO - < 2022 - km (f)', 'PAVIMENTAÇÃO - < 2022 - Ext. (km)', \n",
    "                    'PAVIMENTAÇÃO - < 2022 - PERCENTUAL (%)', 'PAVIMENTAÇÃO - < 2022 - (km)%', \n",
    "                    'PAVIMENTAÇÃO - < 2022 - FINANCEIRO (R$)', 'PAVIMENTAÇÃO - 2023 - Descrição', \n",
    "                    'PAVIMENTAÇÃO - 2023 - km (i)', 'PAVIMENTAÇÃO - 2023 - km (f)', 'PAVIMENTAÇÃO - 2023 - Ext. (km)', \n",
    "                    'PAVIMENTAÇÃO - 2023 - PERCENTUAL (%)', 'PAVIMENTAÇÃO - 2023 - (km)%', 'PAVIMENTAÇÃO - 2023 - FINANCEIRO (R$)', \n",
    "                    'PAVIMENTAÇÃO - 2024 - Descrição', 'PAVIMENTAÇÃO - 2024 - km (i)', 'PAVIMENTAÇÃO - 2024 - km (f)', \n",
    "                    'PAVIMENTAÇÃO - 2024 - Ext. (km)', 'PAVIMENTAÇÃO - 2024 - PERCENTUAL (%)', 'PAVIMENTAÇÃO - 2024 - (km)%', \n",
    "                    'PAVIMENTAÇÃO - 2024 - FINANCEIRO (R$)', 'PAVIMENTAÇÃO - 2025 - Descrição', 'PAVIMENTAÇÃO - 2025 - km (i)', \n",
    "                    'PAVIMENTAÇÃO - 2025 - km (f)', 'PAVIMENTAÇÃO - 2025 - Ext. (km)', 'PAVIMENTAÇÃO - 2025 - PERCENTUAL (%)', \n",
    "                    'PAVIMENTAÇÃO - 2025 - (km)%', 'PAVIMENTAÇÃO - 2025 - FINANCEIRO (R$)', 'PAVIMENTAÇÃO - 2026 - Descrição', \n",
    "                    'PAVIMENTAÇÃO - 2026 - km (i)', 'PAVIMENTAÇÃO - 2026 - km (f)', 'PAVIMENTAÇÃO - 2026 - Ext. (km)', \n",
    "                    'PAVIMENTAÇÃO - 2026 - PERCENTUAL (%)', 'PAVIMENTAÇÃO - 2026 - (km)%', 'PAVIMENTAÇÃO - 2026 - FINANCEIRO (R$)', \n",
    "                    'PAVIMENTAÇÃO - Pós 2026 - Descrição', 'PAVIMENTAÇÃO - Pós 2026 - km (i)', 'PAVIMENTAÇÃO - Pós 2026 - km (f)', \n",
    "                    'PAVIMENTAÇÃO - Pós 2026 - Ext. (km)', 'PAVIMENTAÇÃO - Pós 2026 - PERCENTUAL (%)', 'PAVIMENTAÇÃO - Pós 2026 - (km)%', \n",
    "                    'PAVIMENTAÇÃO - Pós 2026 - FINANCEIRO (R$)', 'PAVIMENTAÇÃO - Pós 2026 - REL. FÍSICO (km)', \n",
    "                    'PAVIMENTAÇÃO - Pós 2026 - REL.FINANCEIRO R$)', \n",
    "                    'DUPLICAÇÃO - < 2022 - Descrição', 'DUPLICAÇÃO - < 2022 - km (i)', 'DUPLICAÇÃO - < 2022 - km (f)', \n",
    "                    'DUPLICAÇÃO - < 2022 - Ext. (km)', 'DUPLICAÇÃO - < 2022 - PERCENTUAL (%)', 'DUPLICAÇÃO - < 2022 - (km)%', \n",
    "                    'DUPLICAÇÃO - < 2022 - FINANCEIRO (R$)', 'DUPLICAÇÃO - 2023 - Descrição', 'DUPLICAÇÃO - 2023 - km (i)', \n",
    "                    'DUPLICAÇÃO - 2023 - km (f)', 'DUPLICAÇÃO - 2023 - Ext. (km)', 'DUPLICAÇÃO - 2023 - PERCENTUAL (%)', \n",
    "                    'DUPLICAÇÃO - 2023 - (km)%', 'DUPLICAÇÃO - 2023 - FINANCEIRO (R$)', 'DUPLICAÇÃO - 2024 - Descrição', \n",
    "                    'DUPLICAÇÃO - 2024 - km (i)', 'DUPLICAÇÃO - 2024 - km (f)', 'DUPLICAÇÃO - 2024 - Ext. (km)', \n",
    "                    'DUPLICAÇÃO - 2024 - PERCENTUAL (%)', 'DUPLICAÇÃO - 2024 - (km)%', 'DUPLICAÇÃO - 2024 - FINANCEIRO (R$)', \n",
    "                    'DUPLICAÇÃO - 2025 - Descrição', 'DUPLICAÇÃO - 2025 - km (i)', 'DUPLICAÇÃO - 2025 - km (f)', \n",
    "                    'DUPLICAÇÃO - 2025 - Ext. (km)', 'DUPLICAÇÃO - 2025 - PERCENTUAL (%)', 'DUPLICAÇÃO - 2025 - (km)%', \n",
    "                    'DUPLICAÇÃO - 2025 - FINANCEIRO (R$)', 'DUPLICAÇÃO - 2026 - Descrição', 'DUPLICAÇÃO - 2026 - km (i)', \n",
    "                    'DUPLICAÇÃO - 2026 - km (f)', 'DUPLICAÇÃO - 2026 - Ext. (km)', 'DUPLICAÇÃO - 2026 - PERCENTUAL (%)', \n",
    "                    'DUPLICAÇÃO - 2026 - (km)%', 'DUPLICAÇÃO - 2026 - FINANCEIRO (R$)', 'DUPLICAÇÃO - Pós 2026 - Descrição', \n",
    "                    'DUPLICAÇÃO - Pós 2026 - km (i)', 'DUPLICAÇÃO - Pós 2026 - km (f)', 'DUPLICAÇÃO - Pós 2026 - Ext. (km)', \n",
    "                    'DUPLICAÇÃO - Pós 2026 - PERCENTUAL (%)', 'DUPLICAÇÃO - Pós 2026 - (km)%', 'DUPLICAÇÃO - Pós 2026 - FINANCEIRO (R$)', \n",
    "                    'DUPLICAÇÃO - Pós 2026 - REL. FÍSICO (km)', 'DUPLICAÇÃO - Pós 2026 - REL.FINANCEIRO R$)', \n",
    "                    'OAE - < 2022 - Descrição', \n",
    "                    'OAE - < 2022 - km (i)', 'OAE - < 2022 - km (f)', 'OAE - < 2022 - Ext. (km)', 'OAE - < 2022 - PERCENTUAL (%)', \n",
    "                    'OAE - < 2022 - (km)%', 'OAE - < 2022 - FINANCEIRO (R$)', 'OAE - 2023 - Descrição', 'OAE - 2023 - km (i)',\n",
    "                    'OAE - 2023 - km (f)', 'OAE - 2023 - Ext. (km)', 'OAE - 2023 - PERCENTUAL (%)', 'OAE - 2023 - (km)%', \n",
    "                    'OAE - 2023 - FINANCEIRO (R$)', 'OAE - 2024 - Descrição', 'OAE - 2024 - km (i)', 'OAE - 2024 - km (f)', \n",
    "                    'OAE - 2024 - Ext. (km)', 'OAE - 2024 - PERCENTUAL (%)', 'OAE - 2024 - (km)%', 'OAE - 2024 - FINANCEIRO (R$)', \n",
    "                    'OAE - 2025 - Descrição', 'OAE - 2025 - km (i)', 'OAE - 2025 - km (f)', 'OAE - 2025 - Ext. (km)', \n",
    "                    'OAE - 2025 - PERCENTUAL (%)', 'OAE - 2025 - (km)%', 'OAE - 2025 - FINANCEIRO (R$)', 'OAE - 2026 - Descrição', \n",
    "                    'OAE - 2026 - km (i)', 'OAE - 2026 - km (f)', 'OAE - 2026 - Ext. (km)', 'OAE - 2026 - PERCENTUAL (%)', \n",
    "                    'OAE - 2026 - (km)%', 'OAE - 2026 - FINANCEIRO (R$)', 'OAE - Pós 2026 - Descrição', 'OAE - Pós 2026 - km (i)', \n",
    "                    'OAE - Pós 2026 - km (f)', 'OAE - Pós 2026 - Ext. (km)', 'OAE - Pós 2026 - PERCENTUAL (%)', 'OAE - Pós 2026 - (km)%', \n",
    "                    'OAE - Pós 2026 - FINANCEIRO (R$)', 'OAE - Pós 2026 - REL. FÍSICO (km)', 'OAE - Pós 2026 - REL.FINANCEIRO R$)', \n",
    "                    'CONTORNO - < 2022 - Descrição', 'CONTORNO - < 2022 - km (i)', 'CONTORNO - < 2022 - km (f)', \n",
    "                    'CONTORNO - < 2022 - Ext. (km)', 'CONTORNO - < 2022 - PERCENTUAL (%)', 'CONTORNO - < 2022 - (km)%', \n",
    "                    'CONTORNO - < 2022 - FINANCEIRO (R$)', 'CONTORNO - 2023 - Descrição', 'CONTORNO - 2023 - km (i)', \n",
    "                    'CONTORNO - 2023 - km (f)', 'CONTORNO - 2023 - Ext. (km)', 'CONTORNO - 2023 - PERCENTUAL (%)', \n",
    "                    'CONTORNO - 2023 - (km)%', 'CONTORNO - 2023 - FINANCEIRO (R$)', 'CONTORNO - 2024 - Descrição', \n",
    "                    'CONTORNO - 2024 - km (i)', 'CONTORNO - 2024 - km (f)', 'CONTORNO - 2024 - Ext. (km)', \n",
    "                    'CONTORNO - 2024 - PERCENTUAL (%)', 'CONTORNO - 2024 - (km)%', 'CONTORNO - 2024 - FINANCEIRO (R$)', \n",
    "                    'CONTORNO - 2025 - Descrição', 'CONTORNO - 2025 - km (i)', 'CONTORNO - 2025 - km (f)', \n",
    "                    'CONTORNO - 2025 - Ext. (km)', 'CONTORNO - 2025 - PERCENTUAL (%)', 'CONTORNO - 2025 - (km)%', \n",
    "                    'CONTORNO - 2025 - FINANCEIRO (R$)', 'CONTORNO - 2026 - Descrição', 'CONTORNO - 2026 - km (i)', \n",
    "                    'CONTORNO - 2026 - km (f)', 'CONTORNO - 2026 - Ext. (km)', 'CONTORNO - 2026 - PERCENTUAL (%)', \n",
    "                    'CONTORNO - 2026 - (km)%', 'CONTORNO - 2026 - FINANCEIRO (R$)', 'CONTORNO - Pós 2026 - Descrição', \n",
    "                    'CONTORNO - Pós 2026 - km (i)', 'CONTORNO - Pós 2026 - km (f)', 'CONTORNO - Pós 2026 - Ext. (km)', \n",
    "                    'CONTORNO - Pós 2026 - PERCENTUAL (%)', 'CONTORNO - Pós 2026 - (km)%', 'CONTORNO - Pós 2026 - FINANCEIRO (R$)', \n",
    "                    'CONTORNO - Pós 2026 - REL. FÍSICO (km)', 'CONTORNO - Pós 2026 - REL.FINANCEIRO R$)', \n",
    "                    'FX ADICIONAL - < 2022 - Descrição', 'FX ADICIONAL - < 2022 - km (i)', \n",
    "                    'FX ADICIONAL - < 2022 - km (f)', 'FX ADICIONAL - < 2022 - Ext. (km)', \n",
    "                    'FX ADICIONAL - < 2022 - PERCENTUAL (%)', 'FX ADICIONAL - < 2022 - (km)%', \n",
    "                    'FX ADICIONAL - < 2022 - FINANCEIRO (R$)', 'FX ADICIONAL - 2023 - Descrição', \n",
    "                    'FX ADICIONAL - 2023 - km (i)', 'FX ADICIONAL - 2023 - km (f)', 'FX ADICIONAL - 2023 - Ext. (km)',\n",
    "                    'FX ADICIONAL - 2023 - PERCENTUAL (%)', 'FX ADICIONAL - 2023 - (km)%', 'FX ADICIONAL - 2023 - FINANCEIRO (R$)', \n",
    "                    'FX ADICIONAL - 2024 - Descrição', 'FX ADICIONAL - 2024 - km (i)', 'FX ADICIONAL - 2024 - km (f)', \n",
    "                    'FX ADICIONAL - 2024 - Ext. (km)', 'FX ADICIONAL - 2024 - PERCENTUAL (%)', 'FX ADICIONAL - 2024 - (km)%', \n",
    "                    'FX ADICIONAL - 2024 - FINANCEIRO (R$)', 'FX ADICIONAL - 2025 - Descrição', 'FX ADICIONAL - 2025 - km (i)', \n",
    "                    'FX ADICIONAL - 2025 - km (f)', 'FX ADICIONAL - 2025 - Ext. (km)', 'FX ADICIONAL - 2025 - PERCENTUAL (%)', \n",
    "                    'FX ADICIONAL - 2025 - (km)%', 'FX ADICIONAL - 2025 - FINANCEIRO (R$)', 'FX ADICIONAL - 2026 - Descrição',\n",
    "                    'FX ADICIONAL - 2026 - km (i)', 'FX ADICIONAL - 2026 - km (f)', 'FX ADICIONAL - 2026 - Ext. (km)', \n",
    "                    'FX ADICIONAL - 2026 - PERCENTUAL (%)', 'FX ADICIONAL - 2026 - (km)%', 'FX ADICIONAL - 2026 - FINANCEIRO (R$)', \n",
    "                    'FX ADICIONAL - Pós 2026 - Descrição', 'FX ADICIONAL - Pós 2026 - km (i)', 'FX ADICIONAL - Pós 2026 - km (f)', \n",
    "                    'FX ADICIONAL - Pós 2026 - Ext. (km)', 'FX ADICIONAL - Pós 2026 - PERCENTUAL (%)', 'FX ADICIONAL - Pós 2026 - (km)%', \n",
    "                    'FX ADICIONAL - Pós 2026 - FINANCEIRO (R$)', 'FX ADICIONAL - Pós 2026 - REL. FÍSICO (km)', \n",
    "                    'FX ADICIONAL - Pós 2026 - REL.FINANCEIRO R$)', \n",
    "                    'TERCEIRA FAIXA - < 2022 - Descrição', \n",
    "                    'TERCEIRA FAIXA - < 2022 - km (i)', 'TERCEIRA FAIXA - < 2022 - km (f)', \n",
    "                    'TERCEIRA FAIXA - < 2022 - Ext. (km)', 'TERCEIRA FAIXA - < 2022 - PERCENTUAL (%)',\n",
    "                    'TERCEIRA FAIXA - < 2022 - (km)%', 'TERCEIRA FAIXA - < 2022 - FINANCEIRO (R$)', \n",
    "                    'TERCEIRA FAIXA - 2023 - Descrição', 'TERCEIRA FAIXA - 2023 - km (i)', \n",
    "                    'TERCEIRA FAIXA - 2023 - km (f)', 'TERCEIRA FAIXA - 2023 - Ext. (km)', \n",
    "                    'TERCEIRA FAIXA - 2023 - PERCENTUAL (%)', 'TERCEIRA FAIXA - 2023 - (km)%', \n",
    "                    'TERCEIRA FAIXA - 2023 - FINANCEIRO (R$)', 'TERCEIRA FAIXA - 2024 - Descrição', \n",
    "                    'TERCEIRA FAIXA - 2024 - km (i)', 'TERCEIRA FAIXA - 2024 - km (f)', \n",
    "                    'TERCEIRA FAIXA - 2024 - Ext. (km)', 'TERCEIRA FAIXA - 2024 - PERCENTUAL (%)', \n",
    "                    'TERCEIRA FAIXA - 2024 - (km)%', 'TERCEIRA FAIXA - 2024 - FINANCEIRO (R$)', 'TERCEIRA FAIXA - 2025 - Descrição', \n",
    "                    'TERCEIRA FAIXA - 2025 - km (i)', 'TERCEIRA FAIXA - 2025 - km (f)', 'TERCEIRA FAIXA - 2025 - Ext. (km)', \n",
    "                    'TERCEIRA FAIXA - 2025 - PERCENTUAL (%)', 'TERCEIRA FAIXA - 2025 - (km)%', 'TERCEIRA FAIXA - 2025 - FINANCEIRO (R$)', \n",
    "                    'TERCEIRA FAIXA - 2026 - Descrição', 'TERCEIRA FAIXA - 2026 - km (i)', 'TERCEIRA FAIXA - 2026 - km (f)', \n",
    "                    'TERCEIRA FAIXA - 2026 - Ext. (km)', 'TERCEIRA FAIXA - 2026 - PERCENTUAL (%)', 'TERCEIRA FAIXA - 2026 - (km)%', \n",
    "                    'TERCEIRA FAIXA - 2026 - FINANCEIRO (R$)', 'TERCEIRA FAIXA - Pós 2026 - Descrição', 'TERCEIRA FAIXA - Pós 2026 - km (i)', \n",
    "                    'TERCEIRA FAIXA - Pós 2026 - km (f)', 'TERCEIRA FAIXA - Pós 2026 - Ext. (km)', \n",
    "                    'TERCEIRA FAIXA - Pós 2026 - PERCENTUAL (%)', 'TERCEIRA FAIXA - Pós 2026 - (km)%', \n",
    "                    'TERCEIRA FAIXA - Pós 2026 - FINANCEIRO (R$)', 'TERCEIRA FAIXA - Pós 2026 - REL. FÍSICO (km)', \n",
    "                    'TERCEIRA FAIXA - Pós 2026 - REL.FINANCEIRO R$)']"
   ]
  },
  {
   "cell_type": "code",
   "execution_count": null,
   "metadata": {},
   "outputs": [],
   "source": [
    "# Criar um dicionário que mapeia 'Unnamed: x' para os novos nomes\n",
    "rename_dict = {'Unnamed: {}'.format(i): name for i, name in enumerate(new_column_names, start=9)}\n",
    "\n",
    "# Usar o método rename para renomear as colunas\n",
    "df_per_copy.rename(columns=rename_dict, inplace=True)"
   ]
  },
  {
   "cell_type": "code",
   "execution_count": null,
   "metadata": {},
   "outputs": [],
   "source": [
    "df_per_copy['ESTRUTURADOR DO PROJETO'].unique()"
   ]
  },
  {
   "cell_type": "code",
   "execution_count": null,
   "metadata": {},
   "outputs": [],
   "source": [
    "df_per_copy['PROPONENTE'].unique()"
   ]
  },
  {
   "cell_type": "code",
   "execution_count": null,
   "metadata": {},
   "outputs": [],
   "source": [
    "df_per_copy['ESTRUTURADOR DO PROJETO'] = 'EPL'"
   ]
  },
  {
   "cell_type": "code",
   "execution_count": null,
   "metadata": {},
   "outputs": [],
   "source": [
    "df_per_copy['PROPONENTE'] = 'ANTT'"
   ]
  },
  {
   "cell_type": "code",
   "execution_count": null,
   "metadata": {},
   "outputs": [],
   "source": [
    "df_per_copy.index = range(1, len(df_per_copy) + 1)\n",
    "df_per_copy.index.name = 'ID-ÚNICO'\n",
    "df_per_copy = df_per_copy.reset_index()"
   ]
  },
  {
   "cell_type": "code",
   "execution_count": null,
   "metadata": {},
   "outputs": [],
   "source": [
    "df_per_copy"
   ]
  },
  {
   "cell_type": "code",
   "execution_count": null,
   "metadata": {},
   "outputs": [],
   "source": [
    "df_per_raw = df_per_copy"
   ]
  },
  {
   "cell_type": "code",
   "execution_count": null,
   "metadata": {},
   "outputs": [],
   "source": [
    "# df_per_copy.to_excel('Dados Gerados/RAW_PER (1).xlsx', index=False)"
   ]
  },
  {
   "cell_type": "code",
   "execution_count": null,
   "metadata": {},
   "outputs": [],
   "source": [
    "colunas_manter = [\n",
    "    'ID-ÚNICO', 'SETOR', 'UF', 'ESTADO/LOTE', 'BR', 'EMPREENDIMENTO', 'PROPONENTE',\n",
    "    'EXECUTOR (Grupo Controlador)', 'ESTRUTURADOR DO PROJETO'\n",
    "]\n",
    "\n",
    "# Use 'difference' para obter as colunas a serem unpivotadas\n",
    "colunas_unpivot = df_per_copy.columns.difference(colunas_manter)\n",
    "\n",
    "# Realizar o unpivot (melt) das outras colunas\n",
    "df_per_copy = df_per_copy.melt(id_vars=colunas_manter, value_vars=colunas_unpivot,\n",
    "                    var_name='Atributo', value_name='Valor')"
   ]
  },
  {
   "cell_type": "code",
   "execution_count": null,
   "metadata": {},
   "outputs": [],
   "source": [
    "df_per_copy"
   ]
  },
  {
   "cell_type": "code",
   "execution_count": null,
   "metadata": {},
   "outputs": [],
   "source": [
    "df_per_copy = df_per_copy.loc[df_per_copy['Valor'] != 0]\n",
    "df_per_copy = df_per_copy.dropna(subset=['Valor'])"
   ]
  },
  {
   "cell_type": "code",
   "execution_count": null,
   "metadata": {},
   "outputs": [],
   "source": [
    "df_per_copy[['Atributo.1', 'Atributo.3', 'Atributo.2']] = df_per_copy['Atributo'].str.split(' - ', expand=True)\n"
   ]
  },
  {
   "cell_type": "code",
   "execution_count": null,
   "metadata": {},
   "outputs": [],
   "source": [
    "df_per_copy = df_per_copy[['ID-ÚNICO', 'SETOR', 'UF', 'ESTADO/LOTE', 'BR', 'EMPREENDIMENTO', 'PROPONENTE',\n",
    "    'EXECUTOR (Grupo Controlador)', 'ESTRUTURADOR DO PROJETO', 'Atributo.1', 'Atributo.2', 'Atributo.3', 'Valor']]"
   ]
  },
  {
   "cell_type": "code",
   "execution_count": null,
   "metadata": {},
   "outputs": [],
   "source": [
    "'''# Converter colunas para 'category'\n",
    "df_per_copy['SETOR'] =  df_per_copy['SETOR'].astype('category')\n",
    "df_per_copy['UF'] =  df_per_copy['UF'].astype('category')\n",
    "df_per_copy['PROPONENTE'] =  df_per_copy['PROPONENTE'].astype('category')\n",
    "df_per_copy['EXECUTOR (Grupo Controlador)'] =  df_per_copy['EXECUTOR (Grupo Controlador)'].astype('category')\n",
    "df_per_copy['ESTRUTURADOR DO PROJETO'] =  df_per_copy['ESTRUTURADOR DO PROJETO'].astype('category')\n",
    "df_per_copy['Atributo.1'] =  df_per_copy['Atributo.1'].astype('category')\n",
    "df_per_copy['Atributo.2'] =  df_per_copy['Atributo.2'].astype('category')\n",
    "\n",
    "# Converter colunas para 'string'\n",
    "df_per_copy['EMPREENDIMENTO'] =  df_per_copy['EMPREENDIMENTO'].astype('string') \n",
    "'''"
   ]
  },
  {
   "cell_type": "code",
   "execution_count": null,
   "metadata": {},
   "outputs": [],
   "source": [
    "df_per_copy"
   ]
  },
  {
   "cell_type": "code",
   "execution_count": null,
   "metadata": {},
   "outputs": [],
   "source": [
    "df_per_copy.to_excel('Dados Gerados/PER (1).xlsx', index=False)"
   ]
  },
  {
   "cell_type": "markdown",
   "metadata": {},
   "source": [
    "---"
   ]
  },
  {
   "cell_type": "code",
   "execution_count": null,
   "metadata": {},
   "outputs": [],
   "source": [
    "df_per_raw"
   ]
  },
  {
   "cell_type": "code",
   "execution_count": null,
   "metadata": {},
   "outputs": [],
   "source": [
    "# Drop na coluna 'Região' que não é usada.\n",
    "df_per_raw.drop(columns=['ID-ÚNICO'], inplace=True)"
   ]
  },
  {
   "cell_type": "code",
   "execution_count": null,
   "metadata": {},
   "outputs": [],
   "source": [
    "df_per_raw.index = range(1, len(df_per_raw) + 1)\n",
    "df_per_raw.index.name = 'ID-ÚNICO'\n",
    "df_per_raw = df_per_raw.reset_index()"
   ]
  },
  {
   "cell_type": "code",
   "execution_count": null,
   "metadata": {},
   "outputs": [],
   "source": [
    "df_per_raw = df_per_raw.sort_values(by='ID-ÚNICO', ascending=True)"
   ]
  },
  {
   "cell_type": "code",
   "execution_count": null,
   "metadata": {},
   "outputs": [],
   "source": [
    "# Lista de strings que devem estar no nome das colunas para serem mantidas\n",
    "keywords_to_keep = [\n",
    "    'ID-ÚNICO', 'SETOR', 'EMPREENDIMENTO', \n",
    "    'Descrição', 'Ext. (km)', 'FINANCEIRO (R$)', \n",
    "    '(km)%'\n",
    "]\n",
    "\n",
    "# Identifica colunas que possuem qualquer uma das strings na lista de keywords\n",
    "columns_to_keep = [col for col in df_per_raw.columns if any(keyword in col for keyword in keywords_to_keep)]"
   ]
  },
  {
   "cell_type": "code",
   "execution_count": null,
   "metadata": {},
   "outputs": [],
   "source": [
    "# Mantém apenas as colunas identificadas\n",
    "df_per_raw = df_per_raw[columns_to_keep]"
   ]
  },
  {
   "cell_type": "code",
   "execution_count": null,
   "metadata": {},
   "outputs": [],
   "source": [
    "df_per_raw.columns"
   ]
  },
  {
   "cell_type": "code",
   "execution_count": null,
   "metadata": {},
   "outputs": [],
   "source": [
    "# Seleciona colunas da posição em diante\n",
    "cols_a_verificar = df_per_raw.iloc[:, 3:]\n",
    "\n",
    "# Remove linhas onde todas essas colunas estão vazias\n",
    "df_per_raw = df_per_raw.dropna(subset=cols_a_verificar.columns, how='all')"
   ]
  },
  {
   "cell_type": "code",
   "execution_count": null,
   "metadata": {},
   "outputs": [],
   "source": [
    "df_per_raw1 = df_per_raw[['ID-ÚNICO', 'SETOR', 'EMPREENDIMENTO']]"
   ]
  },
  {
   "cell_type": "code",
   "execution_count": null,
   "metadata": {},
   "outputs": [],
   "source": [
    "colunas_manter = ['ID-ÚNICO', 'SETOR', 'EMPREENDIMENTO']\n",
    "\n",
    "# Use 'difference' para obter as colunas a serem unpivotadas\n",
    "colunas_unpivot = df_per_raw.columns.difference(colunas_manter)\n",
    "\n",
    "# Realizar o unpivot (melt) das outras colunas\n",
    "df_per_raw = df_per_raw.melt(id_vars=colunas_manter, value_vars=colunas_unpivot,\n",
    "                    var_name='Atributo', value_name='Valor')"
   ]
  },
  {
   "cell_type": "code",
   "execution_count": null,
   "metadata": {},
   "outputs": [],
   "source": [
    "df_per_raw['SETOR'] = 'Rodoviário'"
   ]
  },
  {
   "cell_type": "code",
   "execution_count": null,
   "metadata": {},
   "outputs": [],
   "source": [
    "df_per_raw"
   ]
  },
  {
   "cell_type": "code",
   "execution_count": null,
   "metadata": {},
   "outputs": [],
   "source": [
    "df_per_raw[['Atributo.1', 'Atributo.3', 'Atributo.2']] = df_per_raw['Atributo'].str.split(' - ', expand=True)"
   ]
  },
  {
   "cell_type": "code",
   "execution_count": null,
   "metadata": {},
   "outputs": [],
   "source": [
    "df_per_raw = df_per_raw[['ID-ÚNICO', 'SETOR', 'EMPREENDIMENTO', 'Atributo.1', 'Atributo.2', 'Valor']]"
   ]
  },
  {
   "cell_type": "code",
   "execution_count": null,
   "metadata": {},
   "outputs": [],
   "source": [
    "df_per_raw.columns"
   ]
  },
  {
   "cell_type": "code",
   "execution_count": null,
   "metadata": {},
   "outputs": [],
   "source": [
    "df_per_raw"
   ]
  },
  {
   "cell_type": "code",
   "execution_count": null,
   "metadata": {},
   "outputs": [],
   "source": [
    "df_per_raw.dropna(subset=['Valor'])"
   ]
  },
  {
   "cell_type": "code",
   "execution_count": null,
   "metadata": {},
   "outputs": [],
   "source": [
    "# Pivotar o DataFrame\n",
    "df_per_raw = df_per_raw.pivot_table(index=['ID-ÚNICO', 'Atributo.1'], \n",
    "                                            columns='Atributo.2', values='Valor', aggfunc='first').reset_index()"
   ]
  },
  {
   "cell_type": "code",
   "execution_count": null,
   "metadata": {},
   "outputs": [],
   "source": [
    "df_per_raw.columns"
   ]
  },
  {
   "cell_type": "code",
   "execution_count": null,
   "metadata": {},
   "outputs": [],
   "source": [
    "df_per_raw"
   ]
  },
  {
   "cell_type": "code",
   "execution_count": null,
   "metadata": {},
   "outputs": [],
   "source": [
    "# Remove a coluna de índice indesejada, se existir\n",
    "if 'Atributo.2' in df_per_raw.columns:\n",
    "    df_per_raw = df_per_raw.drop(columns='Atributo.2')"
   ]
  },
  {
   "cell_type": "code",
   "execution_count": null,
   "metadata": {},
   "outputs": [],
   "source": [
    "df_per_raw1"
   ]
  },
  {
   "cell_type": "code",
   "execution_count": null,
   "metadata": {},
   "outputs": [],
   "source": [
    "# Faz o merge com base na coluna 'ID-ÚNICO'\n",
    "df_per_raw = pd.merge(df_per_raw1, df_per_raw, on='ID-ÚNICO', how='inner')"
   ]
  },
  {
   "cell_type": "code",
   "execution_count": null,
   "metadata": {},
   "outputs": [],
   "source": [
    "df_per_raw"
   ]
  },
  {
   "cell_type": "code",
   "execution_count": null,
   "metadata": {},
   "outputs": [],
   "source": [
    "df_per_raw = df_per_raw.dropna(subset=['Atributo.1'])"
   ]
  },
  {
   "cell_type": "code",
   "execution_count": null,
   "metadata": {},
   "outputs": [],
   "source": [
    "df_per_raw"
   ]
  },
  {
   "cell_type": "code",
   "execution_count": null,
   "metadata": {},
   "outputs": [],
   "source": [
    "df_per_raw.columns"
   ]
  },
  {
   "cell_type": "code",
   "execution_count": null,
   "metadata": {},
   "outputs": [],
   "source": [
    "df_per_raw = df_per_raw[['ID-ÚNICO', 'SETOR', 'EMPREENDIMENTO', 'Atributo.1', 'Descrição',\n",
    "            'Ext. (km)', '(km)%', 'FINANCEIRO (R$)']]"
   ]
  },
  {
   "cell_type": "code",
   "execution_count": null,
   "metadata": {},
   "outputs": [],
   "source": [
    "# Renomear Colunas\n",
    "df_per_raw.rename(columns={'ID-ÚNICO': 'ID-ÚNICO1'}, inplace=True)\n",
    "df_per_raw.rename(columns={'SETOR': 'SETOR2'}, inplace=True)\n",
    "df_per_raw.rename(columns={'EMPREENDIMENTO': 'EMPREENDIMENTO2'}, inplace=True)\n",
    "df_per_raw.rename(columns={'Descrição': 'Descrição2'}, inplace=True)\n",
    "df_per_raw.rename(columns={'Ext. (km)': 'Ext.(km)2'}, inplace=True)\n",
    "df_per_raw.rename(columns={'FINANCEIRO (R$)': 'FINANCEIRO(R$)2'}, inplace=True)\n",
    "df_per_raw.rename(columns={'(km)%': '(km)%2'}, inplace=True)"
   ]
  },
  {
   "cell_type": "code",
   "execution_count": null,
   "metadata": {},
   "outputs": [],
   "source": [
    "df_per_raw"
   ]
  },
  {
   "cell_type": "code",
   "execution_count": null,
   "metadata": {},
   "outputs": [],
   "source": [
    "df_per_raw.to_excel('PER(2).xlsx', sheet_name= 'PER(2)', index= False)"
   ]
  },
  {
   "cell_type": "markdown",
   "metadata": {},
   "source": [
    "<h1><b><i>PLAN_EXEC ATÉ ANO ANTERIOR (22) -> (24)** </b></i></h1>"
   ]
  },
  {
   "cell_type": "code",
   "execution_count": null,
   "metadata": {},
   "outputs": [],
   "source": [
    "#CHECKPOINT\n",
    "df_plan_exec_ano_ant_copy = df_plan_exec_ano_ant.copy()"
   ]
  },
  {
   "cell_type": "code",
   "execution_count": null,
   "metadata": {},
   "outputs": [],
   "source": [
    "df_plan_exec_ano_ant_copy = pd.read_excel(file_path, sheet_name='PLAN_EXEC ATÉ ANO ANTERIOR (22)', header=2)"
   ]
  },
  {
   "cell_type": "code",
   "execution_count": null,
   "metadata": {},
   "outputs": [],
   "source": [
    "df_plan_exec_ano_ant_copy"
   ]
  },
  {
   "cell_type": "code",
   "execution_count": null,
   "metadata": {},
   "outputs": [],
   "source": [
    "df_plan_exec_ano_ant_copy.dropna(subset=['ESTADO/LOTE'])"
   ]
  },
  {
   "cell_type": "code",
   "execution_count": null,
   "metadata": {},
   "outputs": [],
   "source": [
    "columns_to_fill = ['SETOR', 'UF', 'BR', 'EMPREENDIMENTO', 'PROPONENTE',\n",
    "       'EXECUTOR             (Grupo Controlador)', 'ESTRUTURADOR DO PROJETO']\n",
    "df_plan_exec_ano_ant_copy[columns_to_fill] = df_plan_exec_ano_ant_copy.groupby((df_plan_exec_ano_ant_copy['BR'] == 1).cumsum())[columns_to_fill].transform(lambda x: x.ffill())"
   ]
  },
  {
   "cell_type": "code",
   "execution_count": null,
   "metadata": {},
   "outputs": [],
   "source": [
    "df_plan_exec_ano_ant_copy['ESTADO/LOTE'] = df_plan_exec_ano_ant_copy['ESTADO/LOTE'].apply(lambda x: x if str(x) in ['RIO GRANDE DO SUL', 'MINAS GERAIS', 'GOIÁS',\n",
    "       'SANTA CATARINA', 'TOCANTINS', 'GOIAS', 'RIO DE JANEIRO',\n",
    "       'MATO GROSSO', 'PARÁ', 'SÃO PAULO', 'PARANÁ', 'BAHIA',\n",
    "       'ESPIRITO SANTO', 'MATO GROSSO DO SUL'] else pd.NA)\n",
    "\n",
    "# Agora preenchemos para baixo até encontrar o próximo valor não-NaN (isto é, a próxima 'Situação')\n",
    "df_plan_exec_ano_ant_copy['ESTADO/LOTE'] = df_plan_exec_ano_ant_copy['ESTADO/LOTE'].fillna(method='ffill')"
   ]
  },
  {
   "cell_type": "code",
   "execution_count": null,
   "metadata": {},
   "outputs": [],
   "source": [
    "# Renomear Coluna ['EXECUTOR...']\n",
    "\n",
    "df_plan_exec_ano_ant_copy.rename(columns={'EXECUTOR             (Grupo Controlador)': 'EXECUTOR (Grupo Controlador)'}, inplace=True)\n",
    "df_plan_exec_ano_ant_copy.rename(columns={'PAVIMENTAÇÃO                                                                                                                                                                                                                                                                                                                           (Acumulada até 2022)': 'PAVIMENTAÇÃO - (Acumulada até ano anterior) - Descrição'}, inplace=True)\n",
    "df_plan_exec_ano_ant_copy.rename(columns={'DUPLICAÇÃO                                                                                                                                                                                                                                                                                                  (Acumulada até 2022)': 'DUPLICAÇÃO - (Acumulada até ano anterior) - Descrição'}, inplace=True)\n",
    "df_plan_exec_ano_ant_copy.rename(columns={'OAE                                                                                                                                                                                                                                                                                                               (Acumulada até 2022)': 'OAE - (Acumulada até ano anterior) - Descrição'}, inplace=True)\n",
    "df_plan_exec_ano_ant_copy.rename(columns={'CONTORNO                                                                                                                                                                                                                                                                                                          (Acumulada até 2022)': 'CONTORNO - (Acumulada até ano anterior) - Descrição'}, inplace=True)\n",
    "df_plan_exec_ano_ant_copy.rename(columns={'FX ADICIONAL                                                                                                                                                                                                                                                                (Acumulada até 2022)': 'FX ADICIONAL - (Acumulada até ano anterior) - Descrição'}, inplace=True)\n",
    "df_plan_exec_ano_ant_copy.rename(columns={'TERCEIRA FAIXA                                                                                                                                                                                                                                                                       (Acumulada até 2022)': 'TERCEIRA FAIXA - (Acumulada até ano anterior) - Descrição'}, inplace=True)"
   ]
  },
  {
   "cell_type": "code",
   "execution_count": null,
   "metadata": {},
   "outputs": [],
   "source": [
    "new_column_names = ['PAVIMENTAÇÃO - (Acumulada até ano anterior) - km (i)', \n",
    "                    'PAVIMENTAÇÃO - (Acumulada até ano anterior) - km (f)', \n",
    "                    'PAVIMENTAÇÃO - (Acumulada até ano anterior) - Ext. (km)', \n",
    "                    'PAVIMENTAÇÃO - (Acumulada até ano anterior) - PERCENTUAL (%) PLAN', \n",
    "                    'PAVIMENTAÇÃO - (Acumulada até ano anterior) - (km)% PLAN', \n",
    "                    'PAVIMENTAÇÃO - (Acumulada até ano anterior) - FINANCEIRO PLAN (R$)',\n",
    "                    'PAVIMENTAÇÃO - (Acumulada até ano anterior) - PERCENTUAL (%) EXEC',\n",
    "                    'PAVIMENTAÇÃO - (Acumulada até ano anterior) - (km)% EXEC',\n",
    "                    'PAVIMENTAÇÃO - (Acumulada até ano anterior) - FINANCEIRO (R$)',\n",
    "                    'DUPLICAÇÃO - (Acumulada até ano anterior) - Descrição',\n",
    "                    'DUPLICAÇÃO - (Acumulada até ano anterior) - km (i)', \n",
    "                    'DUPLICAÇÃO - (Acumulada até ano anterior) - km (f)', \n",
    "                    'DUPLICAÇÃO - (Acumulada até ano anterior) - Ext. (km)', \n",
    "                    'DUPLICAÇÃO - (Acumulada até ano anterior) - PERCENTUAL (%) PLAN', \n",
    "                    'DUPLICAÇÃO - (Acumulada até ano anterior) - (km)% PLAN', \n",
    "                    'DUPLICAÇÃO - (Acumulada até ano anterior) - FINANCEIRO PLAN (R$)',\n",
    "                    'DUPLICAÇÃO - (Acumulada até ano anterior) - PERCENTUAL (%) EXEC',\n",
    "                    'DUPLICAÇÃO - (Acumulada até ano anterior) - (km)% EXEC',\n",
    "                    'DUPLICAÇÃO - (Acumulada até ano anterior) - FINANCEIRO (R$)',\n",
    "                    'OAE - (Acumulada até ano anterior) - Descrição',\n",
    "                    'OAE - (Acumulada até ano anterior) - km (i)', \n",
    "                    'OAE - (Acumulada até ano anterior) - km (f)', \n",
    "                    'OAE - (Acumulada até ano anterior) - Ext. (km)', \n",
    "                    'OAE - (Acumulada até ano anterior) - PERCENTUAL (%) PLAN', \n",
    "                    'OAE - (Acumulada até ano anterior) - (km)% PLAN', \n",
    "                    'OAE - (Acumulada até ano anterior) - FINANCEIRO PLAN (R$)',\n",
    "                    'OAE - (Acumulada até ano anterior) - PERCENTUAL (%) EXEC',\n",
    "                    'OAE - (Acumulada até ano anterior) - (km)% EXEC',\n",
    "                    'OAE - (Acumulada até ano anterior) - FINANCEIRO (R$)',\n",
    "                    'CONTORNO - (Acumulada até ano anterior) - Descrição',\n",
    "                    'CONTORNO - (Acumulada até ano anterior) - km (i)', \n",
    "                    'CONTORNO - (Acumulada até ano anterior) - km (f)', \n",
    "                    'CONTORNO - (Acumulada até ano anterior) - Ext. (km)', \n",
    "                    'CONTORNO - (Acumulada até ano anterior) - PERCENTUAL (%) PLAN', \n",
    "                    'CONTORNO - (Acumulada até ano anterior) - (km)% PLAN', \n",
    "                    'CONTORNO - (Acumulada até ano anterior) - FINANCEIRO PLAN (R$)',\n",
    "                    'CONTORNO - (Acumulada até ano anterior) - PERCENTUAL (%) EXEC',\n",
    "                    'CONTORNO - (Acumulada até ano anterior) - (km)% EXEC',\n",
    "                    'CONTORNO - (Acumulada até ano anterior) - FINANCEIRO (R$)',\n",
    "                    'FX ADICIONAL - (Acumulada até ano anterior) - Descrição',\n",
    "                    'FX ADICIONAL - (Acumulada até ano anterior) - km (i)', \n",
    "                    'FX ADICIONAL - (Acumulada até ano anterior) - km (f)', \n",
    "                    'FX ADICIONAL - (Acumulada até ano anterior) - Ext. (km)', \n",
    "                    'FX ADICIONAL - (Acumulada até ano anterior) - PERCENTUAL (%) PLAN', \n",
    "                    'FX ADICIONAL - (Acumulada até ano anterior) - (km)% PLAN', \n",
    "                    'FX ADICIONAL - (Acumulada até ano anterior) - FINANCEIRO PLAN (R$)',\n",
    "                    'FX ADICIONAL - (Acumulada até ano anterior) - PERCENTUAL (%) EXEC',\n",
    "                    'FX ADICIONAL - (Acumulada até ano anterior) - (km)% EXEC',\n",
    "                    'FX ADICIONAL - (Acumulada até ano anterior) - FINANCEIRO (R$)',\n",
    "                    'TERCEIRA FAIXA - (Acumulada até ano anterior) - Descrição',\n",
    "                    'TERCEIRA FAIXA - (Acumulada até ano anterior) - km (i)', \n",
    "                    'TERCEIRA FAIXA - (Acumulada até ano anterior) - km (f)', \n",
    "                    'TERCEIRA FAIXA - (Acumulada até ano anterior) - Ext. (km)', \n",
    "                    'TERCEIRA FAIXA - (Acumulada até ano anterior) - PERCENTUAL (%) PLAN', \n",
    "                    'TERCEIRA FAIXA - (Acumulada até ano anterior) - (km)% PLAN', \n",
    "                    'TERCEIRA FAIXA - (Acumulada até ano anterior) - FINANCEIRO PLAN (R$)',\n",
    "                    'TERCEIRA FAIXA - (Acumulada até ano anterior) - PERCENTUAL (%) EXEC',\n",
    "                    'TERCEIRA FAIXA - (Acumulada até ano anterior) - (km)% EXEC',\n",
    "                    'TERCEIRA FAIXA - (Acumulada até ano anterior) - FINANCEIRO (R$)']"
   ]
  },
  {
   "cell_type": "code",
   "execution_count": null,
   "metadata": {},
   "outputs": [],
   "source": [
    "# Criar um dicionário que mapeia 'Unnamed: x' para os novos nomes\n",
    "rename_dict = {'Unnamed: {}'.format(i): name for i, name in enumerate(new_column_names, start=9)}\n",
    "\n",
    "# Usar o método rename para renomear as colunas\n",
    "df_plan_exec_ano_ant_copy.rename(columns=rename_dict, inplace=True)"
   ]
  },
  {
   "cell_type": "code",
   "execution_count": null,
   "metadata": {},
   "outputs": [],
   "source": [
    "# Encontrar o índice da coluna 'Unnamed: 69'\n",
    "idx = df_plan_exec_ano_ant_copy.columns.get_loc(\"Unnamed: 69\")\n",
    "\n",
    "# Remover todas as colunas a partir deste índice\n",
    "df_plan_exec_ano_ant_copy = df_plan_exec_ano_ant_copy.iloc[:, :idx]"
   ]
  },
  {
   "cell_type": "code",
   "execution_count": null,
   "metadata": {},
   "outputs": [],
   "source": [
    "# Identifica colunas que possuem as strings 'RISCOS' ou 'OBSERVAÇÕES' em seu nome\n",
    "columns_to_drop = [col for col in df_plan_exec_ano_ant_copy.columns if 'RISCOS' in col or 'OBSERVAÇÕES' in col]\n",
    "\n",
    "# Remove as colunas identificadas\n",
    "df_plan_exec_ano_ant_copy = df_plan_exec_ano_ant_copy.drop(columns=columns_to_drop)"
   ]
  },
  {
   "cell_type": "code",
   "execution_count": null,
   "metadata": {},
   "outputs": [],
   "source": [
    "df_plan_exec_ano_ant_copy.columns"
   ]
  },
  {
   "cell_type": "code",
   "execution_count": null,
   "metadata": {},
   "outputs": [],
   "source": [
    "df_plan_exec_ano_ant_copy = df_plan_exec_ano_ant_copy.drop([0, 1, 2], axis = 0)"
   ]
  },
  {
   "cell_type": "code",
   "execution_count": null,
   "metadata": {},
   "outputs": [],
   "source": [
    "df_plan_exec_ano_ant_copy = df_plan_exec_ano_ant_copy[~df_plan_exec_ano_ant_copy.apply(lambda row: row.astype(str).str.contains('TOTAL|SOMA').any(), axis=1)]"
   ]
  },
  {
   "cell_type": "code",
   "execution_count": null,
   "metadata": {},
   "outputs": [],
   "source": [
    "df_plan_exec_ano_ant_copy"
   ]
  },
  {
   "cell_type": "code",
   "execution_count": null,
   "metadata": {},
   "outputs": [],
   "source": [
    "df_plan_exec_ano_ant_copy.columns"
   ]
  },
  {
   "cell_type": "code",
   "execution_count": null,
   "metadata": {},
   "outputs": [],
   "source": [
    "df_plan_exec_ano_ant_copy.index = range(1, len(df_plan_exec_ano_ant_copy) + 1)\n",
    "df_plan_exec_ano_ant_copy.index.name = 'ID-ÚNICO'\n",
    "df_plan_exec_ano_ant_copy = df_plan_exec_ano_ant_copy.reset_index()"
   ]
  },
  {
   "cell_type": "code",
   "execution_count": null,
   "metadata": {},
   "outputs": [],
   "source": [
    "df_plan_exec_ano_ant_raw = df_plan_exec_ano_ant_copy"
   ]
  },
  {
   "cell_type": "code",
   "execution_count": null,
   "metadata": {},
   "outputs": [],
   "source": [
    "# df_plan_exec_ano_ant_copy.to_excel('Dados Gerados/RAW_PLAN_EXEC ATÉ ANO ANTERIOR (22).xlsx', index=False)"
   ]
  },
  {
   "cell_type": "code",
   "execution_count": null,
   "metadata": {},
   "outputs": [],
   "source": [
    "colunas_manter = ['ID-ÚNICO', 'SETOR', 'UF', 'ESTADO/LOTE', 'BR', 'EMPREENDIMENTO',\n",
    "       'PROPONENTE', 'EXECUTOR (Grupo Controlador)', 'ESTRUTURADOR DO PROJETO'\n",
    "]\n",
    "\n",
    "# Use 'difference' para obter as colunas a serem unpivotadas\n",
    "colunas_unpivot = df_plan_exec_ano_ant_copy.columns.difference(colunas_manter)\n",
    "\n",
    "# Realizar o unpivot (melt) das outras colunas\n",
    "df_plan_exec_ano_ant_copy = df_plan_exec_ano_ant_copy.melt(id_vars=colunas_manter, value_vars=colunas_unpivot,\n",
    "                    var_name='Atributo', value_name='Valor')"
   ]
  },
  {
   "cell_type": "code",
   "execution_count": null,
   "metadata": {},
   "outputs": [],
   "source": [
    "df_plan_exec_ano_ant_copy = df_plan_exec_ano_ant_copy.loc[df_plan_exec_ano_ant_copy['Valor'] != 0]\n",
    "df_plan_exec_ano_ant_copy = df_plan_exec_ano_ant_copy.dropna(subset=['Valor'])"
   ]
  },
  {
   "cell_type": "code",
   "execution_count": null,
   "metadata": {},
   "outputs": [],
   "source": [
    "df_plan_exec_ano_ant_copy[['Atributo.1', 'Atributo.3', 'Atributo.2']] = df_plan_exec_ano_ant_copy['Atributo'].str.split(' - ', expand=True)"
   ]
  },
  {
   "cell_type": "code",
   "execution_count": null,
   "metadata": {},
   "outputs": [],
   "source": [
    "# DROP de ['Atributo'] e Realocar ['Valor'] para o final da Tabela.\n",
    "\n",
    "df_plan_exec_ano_ant_copy = df_plan_exec_ano_ant_copy[['SETOR', 'UF', 'ESTADO/LOTE', 'BR', 'EMPREENDIMENTO',\n",
    "       'PROPONENTE', 'EXECUTOR (Grupo Controlador)', 'ESTRUTURADOR DO PROJETO'\n",
    "       , 'Atributo.1', 'Atributo.2', 'Atributo.3', 'Valor']]"
   ]
  },
  {
   "cell_type": "code",
   "execution_count": null,
   "metadata": {},
   "outputs": [],
   "source": [
    "# Converter colunas para 'category'\n",
    "df_plan_exec_ano_ant_copy['SETOR'] = df_plan_exec_ano_ant_copy['SETOR'].astype('category')\n",
    "df_plan_exec_ano_ant_copy['UF'] = df_plan_exec_ano_ant_copy['UF'].astype('category')\n",
    "df_plan_exec_ano_ant_copy['PROPONENTE'] = df_plan_exec_ano_ant_copy['PROPONENTE'].astype('category')\n",
    "df_plan_exec_ano_ant_copy['EXECUTOR (Grupo Controlador)'] = df_plan_exec_ano_ant_copy['EXECUTOR (Grupo Controlador)'].astype('category')\n",
    "df_plan_exec_ano_ant_copy['ESTRUTURADOR DO PROJETO'] = df_plan_exec_ano_ant_copy['ESTRUTURADOR DO PROJETO'].astype('category')\n",
    "df_plan_exec_ano_ant_copy['Atributo.1'] = df_plan_exec_ano_ant_copy['Atributo.1'].astype('category')\n",
    "df_plan_exec_ano_ant_copy['Atributo.2'] = df_plan_exec_ano_ant_copy['Atributo.2'].astype('category')\n",
    "\n",
    "# Converter colunas para 'string'\n",
    "df_plan_exec_ano_ant_copy['EMPREENDIMENTO'] = df_plan_exec_ano_ant_copy['EMPREENDIMENTO'].astype('string') \n"
   ]
  },
  {
   "cell_type": "markdown",
   "metadata": {},
   "source": [
    "---"
   ]
  },
  {
   "cell_type": "markdown",
   "metadata": {},
   "source": [
    "<h1><b><i>'META(2023)'</b></i></h1>"
   ]
  },
  {
   "cell_type": "code",
   "execution_count": null,
   "metadata": {},
   "outputs": [],
   "source": [
    "#CHECKPOINT\n",
    "df_meta_23_copy = df_meta_23.copy()"
   ]
  },
  {
   "cell_type": "code",
   "execution_count": null,
   "metadata": {},
   "outputs": [],
   "source": [
    "df_meta_23_copy = pd.read_excel(file_path, sheet_name='META(1) 2023', header=2)"
   ]
  },
  {
   "cell_type": "code",
   "execution_count": null,
   "metadata": {},
   "outputs": [],
   "source": [
    "df_meta_23_copy"
   ]
  },
  {
   "cell_type": "code",
   "execution_count": null,
   "metadata": {},
   "outputs": [],
   "source": [
    "df_meta_23_copy = df_meta_23_copy.drop([0, 1, 2], axis = 0)"
   ]
  },
  {
   "cell_type": "code",
   "execution_count": null,
   "metadata": {},
   "outputs": [],
   "source": [
    "df_meta_23_copy.columns"
   ]
  },
  {
   "cell_type": "code",
   "execution_count": null,
   "metadata": {},
   "outputs": [],
   "source": [
    "# Drop na coluna 'Região' que não é usada.\n",
    "df_meta_23_copy.drop(columns=['Região'], inplace=True)"
   ]
  },
  {
   "cell_type": "code",
   "execution_count": null,
   "metadata": {},
   "outputs": [],
   "source": [
    "# Removendo colunas\n",
    "df_meta_23_copy = df_meta_23_copy.drop(df_meta_23_copy.columns[8:176], axis=1)"
   ]
  },
  {
   "cell_type": "code",
   "execution_count": null,
   "metadata": {},
   "outputs": [],
   "source": [
    "# Renomear Colunas\n",
    "\n",
    "df_meta_23_copy.rename(columns={'EXECUTOR             (Grupo Controlador)': 'EXECUTOR (Grupo Controlador)'}, inplace=True)\n",
    "df_meta_23_copy.rename(columns={'PAVIMENTAÇÃO                                                                                                                                                                                                                                                                                     (Ano 2023)': 'PAVIMENTAÇÃO - (Acumulada até ano anterior) - Descrição'}, inplace=True)\n",
    "df_meta_23_copy.rename(columns={'DUPLICAÇÃO                                                                                                                                                                                                                                                                                               (Ano 2023)': 'DUPLICAÇÃO - (Acumulada até ano anterior) - Descrição'}, inplace=True)\n",
    "df_meta_23_copy.rename(columns={'OAE                                                                                                                                                                                                                                                                                                                    (Ano 2023)': 'OAE - (Acumulada até ano anterior) - Descrição'}, inplace=True)\n",
    "df_meta_23_copy.rename(columns={'CONTORNO                                                                                                                                                                                                                                                                                                             (Ano 2023)': 'CONTORNO - (Acumulada até ano anterior) - Descrição'}, inplace=True)\n",
    "df_meta_23_copy.rename(columns={'FX ADICIONAL                                                                                                                                                                                                                                                                                                     (Ano 2023)': 'FX ADICIONAL - (Acumulada até ano anterior) - Descrição'}, inplace=True)\n",
    "df_meta_23_copy.rename(columns={'TERCEIRA FAIXA                                                                                                                                                                                                                                                                                         (Ano 2023)': 'TERCEIRA FAIXA - (Acumulada até ano anterior) - Descrição'}, inplace=True)"
   ]
  },
  {
   "cell_type": "code",
   "execution_count": null,
   "metadata": {},
   "outputs": [],
   "source": [
    "new_column_names = ['PAVIMENTAÇÃO - (Acumulada até ano anterior) - km (i)', \n",
    " 'PAVIMENTAÇÃO - (Acumulada até ano anterior) - km (f)', \n",
    " 'PAVIMENTAÇÃO - (Acumulada até ano anterior) - Ext. (km)', \n",
    " 'PAVIMENTAÇÃO - (Acumulada até ano anterior) - PERCENTUAL (%) PLAN', \n",
    " 'PAVIMENTAÇÃO - (Acumulada até ano anterior) - (km)% PLAN', \n",
    " 'PAVIMENTAÇÃO - (Acumulada até ano anterior) - FINANCEIRO PLAN (R$)', \n",
    " 'PAVIMENTAÇÃO - (Acumulada até ano anterior) - PERCENTUAL (%) EXEC', \n",
    " 'PAVIMENTAÇÃO - (Acumulada até ano anterior) - (km)% EXEC', \n",
    " 'PAVIMENTAÇÃO - (Acumulada até ano anterior) - FINANCEIRO (R$)',\n",
    " 'DUPLICAÇÃO - (Acumulada até ano anterior) - Descrição',\n",
    " 'DUPLICAÇÃO - (Acumulada até ano anterior) - km (i)', \n",
    " 'DUPLICAÇÃO - (Acumulada até ano anterior) - km (f)', \n",
    " 'DUPLICAÇÃO - (Acumulada até ano anterior) - Ext. (km)', \n",
    " 'DUPLICAÇÃO - (Acumulada até ano anterior) - PERCENTUAL (%) PLAN', \n",
    " 'DUPLICAÇÃO - (Acumulada até ano anterior) - (km)% PLAN', \n",
    " 'DUPLICAÇÃO - (Acumulada até ano anterior) - FINANCEIRO PLAN (R$)', \n",
    " 'DUPLICAÇÃO - (Acumulada até ano anterior) - PERCENTUAL (%) EXEC', \n",
    " 'DUPLICAÇÃO - (Acumulada até ano anterior) - (km)% EXEC', \n",
    " 'DUPLICAÇÃO - (Acumulada até ano anterior) - FINANCEIRO (R$)',\n",
    " 'OAE - (Acumulada até ano anterior) - Descrição',\n",
    " 'OAE - (Acumulada até ano anterior) - km (i)', \n",
    " 'OAE - (Acumulada até ano anterior) - km (f)', \n",
    " 'OAE - (Acumulada até ano anterior) - Ext. (km)', \n",
    " 'OAE - (Acumulada até ano anterior) - PERCENTUAL (%) PLAN', \n",
    " 'OAE - (Acumulada até ano anterior) - (km)% PLAN', \n",
    " 'OAE - (Acumulada até ano anterior) - FINANCEIRO PLAN (R$)', \n",
    " 'OAE - (Acumulada até ano anterior) - PERCENTUAL (%) EXEC', \n",
    " 'OAE - (Acumulada até ano anterior) - (km)% EXEC', \n",
    " 'OAE - (Acumulada até ano anterior) - FINANCEIRO (R$)',\n",
    " 'CONTORNO - (Acumulada até ano anterior) - Descrição',\n",
    " 'CONTORNO - (Acumulada até ano anterior) - km (i)', \n",
    " 'CONTORNO - (Acumulada até ano anterior) - km (f)', \n",
    " 'CONTORNO - (Acumulada até ano anterior) - Ext. (km)', \n",
    " 'CONTORNO - (Acumulada até ano anterior) - PERCENTUAL (%) PLAN', \n",
    " 'CONTORNO - (Acumulada até ano anterior) - (km)% PLAN', \n",
    " 'CONTORNO - (Acumulada até ano anterior) - FINANCEIRO PLAN (R$)', \n",
    " 'CONTORNO - (Acumulada até ano anterior) - PERCENTUAL (%) EXEC', \n",
    " 'CONTORNO - (Acumulada até ano anterior) - (km)% EXEC',\n",
    " 'CONTORNO - (Acumulada até ano anterior) - FINANCEIRO (R$)',\n",
    " 'FX ADICIONAL - (Acumulada até ano anterior) - Descrição',\n",
    " 'FX ADICIONAL - (Acumulada até ano anterior) - km (i)',\n",
    " 'FX ADICIONAL - (Acumulada até ano anterior) - km (f)', \n",
    " 'FX ADICIONAL - (Acumulada até ano anterior) - Ext. (km)', \n",
    " 'FX ADICIONAL - (Acumulada até ano anterior) - PERCENTUAL (%) PLAN', \n",
    " 'FX ADICIONAL - (Acumulada até ano anterior) - (km)% PLAN', \n",
    " 'FX ADICIONAL - (Acumulada até ano anterior) - FINANCEIRO PLAN (R$)', \n",
    " 'FX ADICIONAL - (Acumulada até ano anterior) - PERCENTUAL (%) EXEC', \n",
    " 'FX ADICIONAL - (Acumulada até ano anterior) - (km)% EXEC', \n",
    " 'FX ADICIONAL - (Acumulada até ano anterior) - FINANCEIRO (R$)',\n",
    " 'TERCEIRA FAIXA - (Acumulada até ano anterior) - Descrição',\n",
    " 'TERCEIRA FAIXA - (Acumulada até ano anterior) - km (i)', \n",
    " 'TERCEIRA FAIXA - (Acumulada até ano anterior) - km (f)', \n",
    " 'TERCEIRA FAIXA - (Acumulada até ano anterior) - Ext. (km)', \n",
    " 'TERCEIRA FAIXA - (Acumulada até ano anterior) - PERCENTUAL (%) PLAN', \n",
    " 'TERCEIRA FAIXA - (Acumulada até ano anterior) - (km)% PLAN', \n",
    " 'TERCEIRA FAIXA - (Acumulada até ano anterior) - FINANCEIRO PLAN (R$)', \n",
    " 'TERCEIRA FAIXA - (Acumulada até ano anterior) - PERCENTUAL (%) EXEC', \n",
    " 'TERCEIRA FAIXA - (Acumulada até ano anterior) - (km)% EXEC', \n",
    " 'TERCEIRA FAIXA - (Acumulada até ano anterior) - FINANCEIRO (R$)']\n"
   ]
  },
  {
   "cell_type": "code",
   "execution_count": null,
   "metadata": {},
   "outputs": [],
   "source": [
    "# Criar um dicionário que mapeia 'Unnamed: x' para os novos nomes\n",
    "rename_dict = {'Unnamed: {}'.format(i): name for i, name in enumerate(new_column_names, start=178)}\n",
    "\n",
    "# Usar o método rename para renomear as colunas\n",
    "df_meta_23_copy.rename(columns=rename_dict, inplace=True)"
   ]
  },
  {
   "cell_type": "code",
   "execution_count": null,
   "metadata": {},
   "outputs": [],
   "source": [
    "# Identifica colunas que possuem a string 'OBSERVAÇÕES' em seu nome\n",
    "columns_to_drop = [col for col in df_meta_23_copy.columns if 'OBSERVAÇÕES' in col]\n",
    "\n",
    "# Remove as colunas identificadas\n",
    "df_meta_23_copy = df_meta_23_copy.drop(columns=columns_to_drop)"
   ]
  },
  {
   "cell_type": "code",
   "execution_count": null,
   "metadata": {},
   "outputs": [],
   "source": [
    "df_meta_23_copy.columns"
   ]
  },
  {
   "cell_type": "code",
   "execution_count": null,
   "metadata": {},
   "outputs": [],
   "source": [
    "df_meta_23_copy.dropna(subset=['ESTADO/LOTE'])"
   ]
  },
  {
   "cell_type": "code",
   "execution_count": null,
   "metadata": {},
   "outputs": [],
   "source": [
    "columns_to_fill = ['EMPREENDIMENTO']\n",
    "df_meta_23_copy[columns_to_fill] = df_meta_23_copy.groupby((df_meta_23_copy['BR'] == 1).cumsum())[columns_to_fill].transform(lambda x: x.ffill())"
   ]
  },
  {
   "cell_type": "code",
   "execution_count": null,
   "metadata": {},
   "outputs": [],
   "source": [
    "df_meta_23_copy['ESTADO/LOTE'] = df_meta_23_copy['ESTADO/LOTE'].apply(lambda x: x if str(x) in ['RIO GRANDE DO SUL', 'MINAS GERAIS', 'GOIÁS',\n",
    "       'SANTA CATARINA', 'TOCANTINS', 'GOIAS', 'RIO DE JANEIRO',\n",
    "       'MATO GROSSO', 'PARÁ', 'RIO/SP', 'SÃO PAULO', 'PARANÁ', 'BAHIA',\n",
    "       'ESPIRITO SANTO', 'MATO GROSSO DO SUL'] else pd.NA)\n",
    "\n",
    "# Agora preenchemos para baixo até encontrar o próximo valor não-NaN (isto é, a próxima 'Situação')\n",
    "df_meta_23_copy['ESTADO/LOTE'] = df_meta_23_copy['ESTADO/LOTE'].fillna(method='ffill')"
   ]
  },
  {
   "cell_type": "code",
   "execution_count": null,
   "metadata": {},
   "outputs": [],
   "source": [
    "df_meta_23_copy = df_meta_23_copy[~df_meta_23_copy.apply(lambda row: row.astype(str).str.contains('TOTAL|SOMA').any(), axis=1)]"
   ]
  },
  {
   "cell_type": "code",
   "execution_count": null,
   "metadata": {},
   "outputs": [],
   "source": [
    "df_meta_23_copy.columns"
   ]
  },
  {
   "cell_type": "code",
   "execution_count": null,
   "metadata": {},
   "outputs": [],
   "source": [
    "df_meta_23_copy.index = range(1, len(df_meta_23_copy) + 1)\n",
    "df_meta_23_copy.index.name = 'ID-ÚNICO'\n",
    "df_meta_23_copy = df_meta_23_copy.reset_index()"
   ]
  },
  {
   "cell_type": "code",
   "execution_count": null,
   "metadata": {},
   "outputs": [],
   "source": [
    "df_meta_23_raw = df_meta_23_copy"
   ]
  },
  {
   "cell_type": "code",
   "execution_count": null,
   "metadata": {},
   "outputs": [],
   "source": [
    "# df_meta_23_copy.to_excel('Dados Gerados/RAW_META(2023).xlsx', index=False)"
   ]
  },
  {
   "cell_type": "code",
   "execution_count": null,
   "metadata": {},
   "outputs": [],
   "source": [
    "colunas_manter = ['ID-ÚNICO', 'SETOR', 'UF', 'ESTADO/LOTE', 'BR', 'EMPREENDIMENTO',\n",
    "       'PROPONENTE', 'EXECUTOR (Grupo Controlador)', 'ESTRUTURADOR DO PROJETO']\n",
    "\n",
    "# Use 'difference' para obter as colunas a serem unpivotadas\n",
    "colunas_unpivot = df_meta_23_copy.columns.difference(colunas_manter)\n",
    "\n",
    "# Realizar o unpivot (melt) das outras colunas\n",
    "df_meta_23_copy = df_meta_23_copy.melt(id_vars=colunas_manter, value_vars=colunas_unpivot,\n",
    "                    var_name='Atributo', value_name='Valor')"
   ]
  },
  {
   "cell_type": "code",
   "execution_count": null,
   "metadata": {},
   "outputs": [],
   "source": [
    "df_meta_23_copy['EMPREENDIMENTO'].unique()"
   ]
  },
  {
   "cell_type": "code",
   "execution_count": null,
   "metadata": {},
   "outputs": [],
   "source": [
    "df_meta_23_copy = df_meta_23_copy.loc[df_meta_23_copy['Valor'] != 0]\n",
    "df_meta_23_copy = df_meta_23_copy.dropna(subset=['Valor'])"
   ]
  },
  {
   "cell_type": "code",
   "execution_count": null,
   "metadata": {},
   "outputs": [],
   "source": [
    "df_meta_23_copy[['Atributo.1', 'Atributo.3', 'Atributo.2']] = df_meta_23_copy['Atributo'].str.split(' - ', expand=True)"
   ]
  },
  {
   "cell_type": "code",
   "execution_count": null,
   "metadata": {},
   "outputs": [],
   "source": [
    "# DROP de ['Atributo'] e Realocar ['Valor'] para o final da Tabela.\n",
    "\n",
    "df_meta_23_copy = df_meta_23_copy[['ID-ÚNICO', 'SETOR', 'UF', 'ESTADO/LOTE', 'BR', 'EMPREENDIMENTO',\n",
    "       'PROPONENTE', 'EXECUTOR (Grupo Controlador)', 'ESTRUTURADOR DO PROJETO'\n",
    "       , 'Atributo.1', 'Atributo.2', 'Atributo.3', 'Valor']]"
   ]
  },
  {
   "cell_type": "code",
   "execution_count": null,
   "metadata": {},
   "outputs": [],
   "source": [
    "# Converter colunas para 'category'\n",
    "df_meta_23_copy['SETOR'] = df_meta_23_copy['SETOR'].astype('category')\n",
    "df_meta_23_copy['UF'] = df_meta_23_copy['UF'].astype('category')\n",
    "df_meta_23_copy['PROPONENTE'] = df_meta_23_copy['PROPONENTE'].astype('category')\n",
    "df_meta_23_copy['EXECUTOR (Grupo Controlador)'] = df_meta_23_copy['EXECUTOR (Grupo Controlador)'].astype('category')\n",
    "df_meta_23_copy['ESTRUTURADOR DO PROJETO'] = df_meta_23_copy['ESTRUTURADOR DO PROJETO'].astype('category')\n",
    "df_meta_23_copy['Atributo.1'] = df_meta_23_copy['Atributo.1'].astype('category')\n",
    "df_meta_23_copy['Atributo.2'] = df_meta_23_copy['Atributo.2'].astype('category')\n",
    "\n",
    "# Converter colunas para 'string'\n",
    "df_meta_23_copy['EMPREENDIMENTO'] = df_meta_23_copy['EMPREENDIMENTO'].astype('string') \n"
   ]
  },
  {
   "cell_type": "code",
   "execution_count": null,
   "metadata": {},
   "outputs": [],
   "source": [
    "df_meta_23_copy.to_excel('Dados Gerados/META(2023).xlsx', index=False, sheet_name= 'META(23)')"
   ]
  },
  {
   "cell_type": "markdown",
   "metadata": {},
   "source": [
    "---"
   ]
  },
  {
   "cell_type": "markdown",
   "metadata": {},
   "source": [
    "<h1><b><i>'META(2024)'</b></i></h1>"
   ]
  },
  {
   "cell_type": "code",
   "execution_count": null,
   "metadata": {},
   "outputs": [],
   "source": [
    "#CHECKPOINT\n",
    "df_meta_24_copy = df_meta_24.copy()"
   ]
  },
  {
   "cell_type": "code",
   "execution_count": null,
   "metadata": {},
   "outputs": [],
   "source": [
    "df_meta_24_copy = pd.read_excel(file_path, sheet_name='META(2024)', header=2)"
   ]
  },
  {
   "cell_type": "code",
   "execution_count": null,
   "metadata": {},
   "outputs": [],
   "source": [
    "df_meta_24_copy"
   ]
  },
  {
   "cell_type": "code",
   "execution_count": null,
   "metadata": {},
   "outputs": [],
   "source": [
    "df_meta_24_copy = df_meta_24_copy.drop([0, 1, 2], axis = 0)"
   ]
  },
  {
   "cell_type": "code",
   "execution_count": null,
   "metadata": {},
   "outputs": [],
   "source": [
    "df_meta_24_copy.columns"
   ]
  },
  {
   "cell_type": "code",
   "execution_count": null,
   "metadata": {},
   "outputs": [],
   "source": [
    "# Drop na coluna 'Região' que não é usada.\n",
    "df_meta_24_copy.drop(columns=['Região'], inplace=True)"
   ]
  },
  {
   "cell_type": "code",
   "execution_count": null,
   "metadata": {},
   "outputs": [],
   "source": [
    "# Removendo colunas\n",
    "df_meta_24_copy = df_meta_24_copy.drop(df_meta_24_copy.columns[8:176], axis=1)"
   ]
  },
  {
   "cell_type": "code",
   "execution_count": null,
   "metadata": {},
   "outputs": [],
   "source": [
    "# Renomear Colunas\n",
    "\n",
    "df_meta_24_copy.rename(columns={'EXECUTOR             (Grupo Controlador)': 'EXECUTOR (Grupo Controlador)'}, inplace=True)\n",
    "df_meta_24_copy.rename(columns={'PAVIMENTAÇÃO                                                                                                                                                                                                                                                                                     (Ano 2024)': 'PAVIMENTAÇÃO - (Acumulada até ano anterior) - Descrição'}, inplace=True)\n",
    "df_meta_24_copy.rename(columns={'DUPLICAÇÃO                                                                                                                                                                                                                                                                                               (Ano 2024)': 'DUPLICAÇÃO - (Acumulada até ano anterior) - Descrição'}, inplace=True)\n",
    "df_meta_24_copy.rename(columns={'OAE                                                                                                                                                                                                                                                                                                               (Ano 2024)': 'OAE - (Acumulada até ano anterior) - Descrição'}, inplace=True)\n",
    "df_meta_24_copy.rename(columns={'CONTORNO                                                                                                                                                                                                                                                                                                                   (Ano 2024)': 'CONTORNO - (Acumulada até ano anterior) - Descrição'}, inplace=True)\n",
    "df_meta_24_copy.rename(columns={'FX ADICIONAL                                                                                                                                                                                                                                                                                                     (Ano 2024)': 'FX ADICIONAL - (Acumulada até ano anterior) - Descrição'}, inplace=True)\n",
    "df_meta_24_copy.rename(columns={'TERCEIRA FAIXA                                                                                                                                                                                                                                                                                         (Ano 2024)': 'TERCEIRA FAIXA - (Acumulada até ano anterior) - Descrição'}, inplace=True)\n",
    "\n",
    "df_meta_24_copy.rename(columns={'RISCOS (Pavimentação)       ': 'RISCOS (Pavimentação) - SITUAÇÃO'}, inplace=True)\n",
    "df_meta_24_copy.rename(columns={'RISCOS (Duplicação)       ': 'RISCOS (Duplicação) - SITUAÇÃO'}, inplace=True)\n",
    "df_meta_24_copy.rename(columns={'RISCOS (OAE)       ': 'RISCOS (OAE) - SITUAÇÃO'}, inplace=True)\n",
    "df_meta_24_copy.rename(columns={'RISCOS (Contorno)       ': 'RISCOS (Contorno) - SITUAÇÃO'}, inplace=True)\n",
    "df_meta_24_copy.rename(columns={'RISCOS (FX Adicional)       ': 'RISCOS (Faixa Adicional) - SITUAÇÃO'}, inplace=True)\n",
    "df_meta_24_copy.rename(columns={'RISCOS (Terceira Faixa)       ': 'RISCOS (Terceira Faixa) - SITUAÇÃO'}, inplace=True)"
   ]
  },
  {
   "cell_type": "code",
   "execution_count": null,
   "metadata": {},
   "outputs": [],
   "source": [
    "new_column_names = ['PAVIMENTAÇÃO - (Acumulada até ano anterior) - km (i)', \n",
    " 'PAVIMENTAÇÃO - (Acumulada até ano anterior) - km (f)', \n",
    " 'PAVIMENTAÇÃO - (Acumulada até ano anterior) - Ext. (km)', \n",
    " 'PAVIMENTAÇÃO - (Acumulada até ano anterior) - PERCENTUAL (%) PLAN', \n",
    " 'PAVIMENTAÇÃO - (Acumulada até ano anterior) - (km)% PLAN', \n",
    " 'PAVIMENTAÇÃO - (Acumulada até ano anterior) - FINANCEIRO PLAN (R$)', \n",
    " 'PAVIMENTAÇÃO - (Acumulada até ano anterior) - PERCENTUAL (%) EXEC', \n",
    " 'PAVIMENTAÇÃO - (Acumulada até ano anterior) - (km)% EXEC', \n",
    " 'PAVIMENTAÇÃO - (Acumulada até ano anterior) - FINANCEIRO (R$)',\n",
    " 'RISCOS (Pavimentação) - SITUAÇÃO',\n",
    " 'RISCOS (Pavimentação) - INTERFERÊNCIA',\n",
    " 'RISCOS (Pavimentação) - PRINCIPAL',\n",
    " 'RISCOS (Pavimentação) - NÍVEL DE ALERTA',\n",
    " 'DUPLICAÇÃO - (Acumulada até ano anterior) - Descrição',\n",
    " 'DUPLICAÇÃO - (Acumulada até ano anterior) - km (i)', \n",
    " 'DUPLICAÇÃO - (Acumulada até ano anterior) - km (f)', \n",
    " 'DUPLICAÇÃO - (Acumulada até ano anterior) - Ext. (km)', \n",
    " 'DUPLICAÇÃO - (Acumulada até ano anterior) - PERCENTUAL (%) PLAN', \n",
    " 'DUPLICAÇÃO - (Acumulada até ano anterior) - (km)% PLAN', \n",
    " 'DUPLICAÇÃO - (Acumulada até ano anterior) - FINANCEIRO PLAN (R$)', \n",
    " 'DUPLICAÇÃO - (Acumulada até ano anterior) - PERCENTUAL (%) EXEC', \n",
    " 'DUPLICAÇÃO - (Acumulada até ano anterior) - (km)% EXEC', \n",
    " 'DUPLICAÇÃO - (Acumulada até ano anterior) - FINANCEIRO (R$)',\n",
    " 'RISCOS (Duplicação) - SITUAÇÃO',\n",
    " 'RISCOS (Duplicação) - INTERFERÊNCIA',\n",
    " 'RISCOS (Duplicação) - PRINCIPAL',\n",
    " 'RISCOS (Duplicação) - NÍVEL DE ALERTA',\n",
    " 'OAE - (Acumulada até ano anterior) - Descrição',\n",
    " 'OAE - (Acumulada até ano anterior) - km (i)', \n",
    " 'OAE - (Acumulada até ano anterior) - km (f)', \n",
    " 'OAE - (Acumulada até ano anterior) - Ext. (km)', \n",
    " 'OAE - (Acumulada até ano anterior) - PERCENTUAL (%) PLAN', \n",
    " 'OAE - (Acumulada até ano anterior) - (km)% PLAN', \n",
    " 'OAE - (Acumulada até ano anterior) - FINANCEIRO PLAN (R$)', \n",
    " 'OAE - (Acumulada até ano anterior) - PERCENTUAL (%) EXEC', \n",
    " 'OAE - (Acumulada até ano anterior) - (km)% EXEC', \n",
    " 'OAE - (Acumulada até ano anterior) - FINANCEIRO (R$)',\n",
    " 'RISCOS (OAE) - SITUAÇÃO',\n",
    " 'RISCOS (OAE) - INTERFERÊNCIA',\n",
    " 'RISCOS (OAE) - PRINCIPAL',\n",
    " 'RISCOS (OAE) - NÍVEL DE ALERTA',\n",
    " 'CONTORNO - (Acumulada até ano anterior) - Descrição',\n",
    " 'CONTORNO - (Acumulada até ano anterior) - km (i)', \n",
    " 'CONTORNO - (Acumulada até ano anterior) - km (f)', \n",
    " 'CONTORNO - (Acumulada até ano anterior) - Ext. (km)', \n",
    " 'CONTORNO - (Acumulada até ano anterior) - PERCENTUAL (%) PLAN', \n",
    " 'CONTORNO - (Acumulada até ano anterior) - (km)% PLAN', \n",
    " 'CONTORNO - (Acumulada até ano anterior) - FINANCEIRO PLAN (R$)', \n",
    " 'CONTORNO - (Acumulada até ano anterior) - PERCENTUAL (%) EXEC', \n",
    " 'CONTORNO - (Acumulada até ano anterior) - (km)% EXEC',\n",
    " 'CONTORNO - (Acumulada até ano anterior) - FINANCEIRO (R$)',\n",
    " 'RISCOS (Contorno) - SITUAÇÃO',\n",
    " 'RISCOS (Contorno) - INTERFERÊNCIA',\n",
    " 'RISCOS (Contorno) - PRINCIPAL',\n",
    " 'RISCOS (Contorno) - NÍVEL DE ALERTA',\n",
    " 'FX ADICIONAL - (Acumulada até ano anterior) - Descrição',\n",
    " 'FX ADICIONAL - (Acumulada até ano anterior) - km (i)',\n",
    " 'FX ADICIONAL - (Acumulada até ano anterior) - km (f)', \n",
    " 'FX ADICIONAL - (Acumulada até ano anterior) - Ext. (km)', \n",
    " 'FX ADICIONAL - (Acumulada até ano anterior) - PERCENTUAL (%) PLAN', \n",
    " 'FX ADICIONAL - (Acumulada até ano anterior) - (km)% PLAN', \n",
    " 'FX ADICIONAL - (Acumulada até ano anterior) - FINANCEIRO PLAN (R$)', \n",
    " 'FX ADICIONAL - (Acumulada até ano anterior) - PERCENTUAL (%) EXEC', \n",
    " 'FX ADICIONAL - (Acumulada até ano anterior) - (km)% EXEC', \n",
    " 'FX ADICIONAL - (Acumulada até ano anterior) - FINANCEIRO (R$)',\n",
    " 'FX ADICIONAL - (Acumulada até ano anterior) - Descrição',\n",
    " 'RISCOS (Faixa Adicional) - SITUAÇÃO',\n",
    " 'RISCOS (Faixa Adicional) - INTERFERÊNCIA',\n",
    " 'RISCOS (Faixa Adicional) - PRINCIPAL',\n",
    " 'RISCOS (Faixa Adicional) - NÍVEL DE ALERTA',\n",
    " 'TERCEIRA FAIXA - (Acumulada até ano anterior) - km (i)', \n",
    " 'TERCEIRA FAIXA - (Acumulada até ano anterior) - km (f)', \n",
    " 'TERCEIRA FAIXA - (Acumulada até ano anterior) - Ext. (km)', \n",
    " 'TERCEIRA FAIXA - (Acumulada até ano anterior) - PERCENTUAL (%) PLAN', \n",
    " 'TERCEIRA FAIXA - (Acumulada até ano anterior) - (km)% PLAN', \n",
    " 'TERCEIRA FAIXA - (Acumulada até ano anterior) - FINANCEIRO PLAN (R$)', \n",
    " 'TERCEIRA FAIXA - (Acumulada até ano anterior) - PERCENTUAL (%) EXEC', \n",
    " 'TERCEIRA FAIXA - (Acumulada até ano anterior) - (km)% EXEC', \n",
    " 'TERCEIRA FAIXA - (Acumulada até ano anterior) - FINANCEIRO (R$)',\n",
    " 'RISCOS (Terceira Faixa) - SITUAÇÃO',\n",
    " 'RISCOS (Terceira Faixa) - INTERFERÊNCIA',\n",
    " 'RISCOS (Terceira Faixa) - PRINCIPAL',\n",
    " 'RISCOS (Terceira Faixa) - NÍVEL DE ALERTA']\n"
   ]
  },
  {
   "cell_type": "code",
   "execution_count": null,
   "metadata": {},
   "outputs": [],
   "source": [
    "# Criar um dicionário que mapeia 'Unnamed: x' para os novos nomes\n",
    "rename_dict = {'Unnamed: {}'.format(i): name for i, name in enumerate(new_column_names, start=178)}\n",
    "\n",
    "# Usar o método rename para renomear as colunas\n",
    "df_meta_24_copy.rename(columns=rename_dict, inplace=True)"
   ]
  },
  {
   "cell_type": "code",
   "execution_count": null,
   "metadata": {},
   "outputs": [],
   "source": [
    "# Identifica colunas que possuem as strings 'RISCOS' ou 'OBSERVAÇÕES' em seu nome\n",
    "columns_to_drop = [col for col in df_meta_24_copy.columns if 'RISCOS' in col or 'OBSERVAÇÕES' in col]\n",
    "\n",
    "# Remove as colunas identificadas\n",
    "df_meta_24_copy = df_meta_24_copy.drop(columns=columns_to_drop)"
   ]
  },
  {
   "cell_type": "code",
   "execution_count": null,
   "metadata": {},
   "outputs": [],
   "source": [
    "df_meta_24_copy.columns"
   ]
  },
  {
   "cell_type": "code",
   "execution_count": 2,
   "metadata": {},
   "outputs": [
    {
     "ename": "NameError",
     "evalue": "name 'df_meta_24_copy' is not defined",
     "output_type": "error",
     "traceback": [
      "\u001b[31m---------------------------------------------------------------------------\u001b[39m",
      "\u001b[31mNameError\u001b[39m                                 Traceback (most recent call last)",
      "\u001b[36mCell\u001b[39m\u001b[36m \u001b[39m\u001b[32mIn[2]\u001b[39m\u001b[32m, line 1\u001b[39m\n\u001b[32m----> \u001b[39m\u001b[32m1\u001b[39m \u001b[43mdf_meta_24_copy\u001b[49m.dropna(subset=[\u001b[33m'\u001b[39m\u001b[33mESTADO/LOTE\u001b[39m\u001b[33m'\u001b[39m])\n",
      "\u001b[31mNameError\u001b[39m: name 'df_meta_24_copy' is not defined"
     ]
    }
   ],
   "source": [
    "df_meta_24_copy.dropna(subset=['ESTADO/LOTE'])"
   ]
  },
  {
   "cell_type": "code",
   "execution_count": null,
   "metadata": {},
   "outputs": [],
   "source": [
    "columns_to_fill = ['EMPREENDIMENTO']\n",
    "df_meta_24_copy[columns_to_fill] = df_meta_24_copy.groupby((df_meta_24_copy['BR'] == 1).cumsum())[columns_to_fill].transform(lambda x: x.ffill())"
   ]
  },
  {
   "cell_type": "code",
   "execution_count": null,
   "metadata": {},
   "outputs": [],
   "source": [
    "df_meta_24_copy['ESTADO/LOTE'] = df_meta_24_copy['ESTADO/LOTE'].apply(lambda x: x if str(x) in ['RIO GRANDE DO SUL', 'MINAS GERAIS', 'GOIÁS',\n",
    "       'SANTA CATARINA', 'TOCANTINS', 'GOIAS', 'RIO DE JANEIRO',\n",
    "       'MATO GROSSO', 'PARÁ', 'RIO/SP', 'SÃO PAULO', 'PARANÁ', 'BAHIA',\n",
    "       'ESPIRITO SANTO', 'MATO GROSSO DO SUL'] else pd.NA)\n",
    "\n",
    "# Agora preenchemos para baixo até encontrar o próximo valor não-NaN (isto é, a próxima 'Situação')\n",
    "df_meta_24_copy['ESTADO/LOTE'] = df_meta_24_copy['ESTADO/LOTE'].fillna(method='ffill')"
   ]
  },
  {
   "cell_type": "code",
   "execution_count": null,
   "metadata": {},
   "outputs": [],
   "source": [
    "df_meta_24_copy = df_meta_24_copy[~df_meta_24_copy.apply(lambda row: row.astype(str).str.contains('TOTAL|SOMA').any(), axis=1)]"
   ]
  },
  {
   "cell_type": "code",
   "execution_count": null,
   "metadata": {},
   "outputs": [],
   "source": [
    "df_meta_24_copy.columns"
   ]
  },
  {
   "cell_type": "code",
   "execution_count": null,
   "metadata": {},
   "outputs": [],
   "source": [
    "df_meta_24_copy.index = range(1, len(df_meta_24_copy) + 1)\n",
    "df_meta_24_copy.index.name = 'ID-ÚNICO'\n",
    "df_meta_24_copy = df_meta_24_copy.reset_index()"
   ]
  },
  {
   "cell_type": "code",
   "execution_count": null,
   "metadata": {},
   "outputs": [],
   "source": [
    "df_meta_24_raw = df_meta_24_copy"
   ]
  },
  {
   "cell_type": "code",
   "execution_count": null,
   "metadata": {},
   "outputs": [],
   "source": [
    "# df_meta_24_copy.to_excel('Dados Gerados/RAW_META(2024).xlsx', index=False)"
   ]
  },
  {
   "cell_type": "code",
   "execution_count": null,
   "metadata": {},
   "outputs": [],
   "source": [
    "colunas_manter = ['ID-ÚNICO', 'SETOR', 'UF', 'ESTADO/LOTE', 'BR', 'EMPREENDIMENTO',\n",
    "       'PROPONENTE', 'EXECUTOR (Grupo Controlador)', 'ESTRUTURADOR DO PROJETO']\n",
    "\n",
    "# Use 'difference' para obter as colunas a serem unpivotadas\n",
    "colunas_unpivot = df_meta_24_copy.columns.difference(colunas_manter)\n",
    "\n",
    "# Realizar o unpivot (melt) das outras colunas\n",
    "df_meta_24_copy = df_meta_24_copy.melt(id_vars=colunas_manter, value_vars=colunas_unpivot,\n",
    "                    var_name='Atributo', value_name='Valor')"
   ]
  },
  {
   "cell_type": "code",
   "execution_count": null,
   "metadata": {},
   "outputs": [],
   "source": [
    "df_meta_24_copy['EMPREENDIMENTO'].unique()"
   ]
  },
  {
   "cell_type": "code",
   "execution_count": null,
   "metadata": {},
   "outputs": [],
   "source": [
    "df_meta_24_copy = df_meta_24_copy.loc[df_meta_24_copy['Valor'] != 0]\n",
    "df_meta_24_copy = df_meta_24_copy.dropna(subset=['Valor'])"
   ]
  },
  {
   "cell_type": "code",
   "execution_count": null,
   "metadata": {},
   "outputs": [],
   "source": [
    "df_meta_24_copy[['Atributo.1', 'Atributo.3', 'Atributo.2']] = df_meta_24_copy['Atributo'].str.split(' - ', expand=True)"
   ]
  },
  {
   "cell_type": "code",
   "execution_count": null,
   "metadata": {},
   "outputs": [],
   "source": [
    "# DROP de ['Atributo'] e Realocar ['Valor'] para o final da Tabela.\n",
    "\n",
    "df_meta_24_copy = df_meta_24_copy[['ID-ÚNICO', 'SETOR', 'UF', 'ESTADO/LOTE', 'BR', 'EMPREENDIMENTO',\n",
    "       'PROPONENTE', 'EXECUTOR (Grupo Controlador)', 'ESTRUTURADOR DO PROJETO'\n",
    "       , 'Atributo.1', 'Atributo.2', 'Atributo.3', 'Valor']]"
   ]
  },
  {
   "cell_type": "code",
   "execution_count": null,
   "metadata": {},
   "outputs": [],
   "source": [
    "df_meta_24_copy"
   ]
  },
  {
   "cell_type": "code",
   "execution_count": null,
   "metadata": {},
   "outputs": [],
   "source": [
    "'''df_meta_24_copy['Atributo.1'] = df_meta_24_copy['Atributo.1'].apply(\n",
    "    lambda x: x.replace('CONTORNO (Ano Vigente)', 'CONTORNO')\n",
    "              .replace('DUPLICAÇÃO (Ano Vigente)', 'DUPLICAÇÃO')\n",
    "              .replace('FX ADICIONAL (Ano Vigente)', 'FX ADICIONAL')\n",
    "              .replace('OAE (Ano Vigente)', 'OAE')\n",
    "              .replace('PAVIMENTAÇÃO (Ano Vigente)', 'PAVIMENTAÇÃO')\n",
    "              .replace('TERCEIRA FAIXA (Ano Vigente)', 'TERCEIRA FAIXA')\n",
    ")'''"
   ]
  },
  {
   "cell_type": "code",
   "execution_count": null,
   "metadata": {},
   "outputs": [],
   "source": [
    "# Converter colunas para 'category'\n",
    "df_meta_24_copy['SETOR'] = df_meta_24_copy['SETOR'].astype('category')\n",
    "df_meta_24_copy['UF'] = df_meta_24_copy['UF'].astype('category')\n",
    "df_meta_24_copy['PROPONENTE'] = df_meta_24_copy['PROPONENTE'].astype('category')\n",
    "df_meta_24_copy['EXECUTOR (Grupo Controlador)'] = df_meta_24_copy['EXECUTOR (Grupo Controlador)'].astype('category')\n",
    "df_meta_24_copy['ESTRUTURADOR DO PROJETO'] = df_meta_24_copy['ESTRUTURADOR DO PROJETO'].astype('category')\n",
    "df_meta_24_copy['Atributo.1'] = df_meta_24_copy['Atributo.1'].astype('category')\n",
    "df_meta_24_copy['Atributo.2'] = df_meta_24_copy['Atributo.2'].astype('category')\n",
    "\n",
    "# Converter colunas para 'string'\n",
    "df_meta_24_copy['EMPREENDIMENTO'] = df_meta_24_copy['EMPREENDIMENTO'].astype('string') \n"
   ]
  },
  {
   "cell_type": "code",
   "execution_count": null,
   "metadata": {},
   "outputs": [],
   "source": [
    "df_meta_24_copy = df_meta_24_copy.sort_values(by='ID-ÚNICO', ascending=True)"
   ]
  },
  {
   "cell_type": "code",
   "execution_count": null,
   "metadata": {},
   "outputs": [],
   "source": [
    "df_meta_24_copy.to_excel('Dados Gerados/META(2024).xlsx', index=False, sheet_name= 'META')"
   ]
  },
  {
   "cell_type": "markdown",
   "metadata": {},
   "source": [
    "---"
   ]
  },
  {
   "cell_type": "markdown",
   "metadata": {},
   "source": [
    "# Exec(22) + Meta(23) + Meta(24)"
   ]
  },
  {
   "cell_type": "code",
   "execution_count": null,
   "metadata": {},
   "outputs": [],
   "source": [
    "# Suponha que df1 e df2 sejam seus DataFrames\n",
    "df_22_23_24 = pd.concat([df_plan_exec_ano_ant_copy, df_meta_23_copy, df_meta_24_copy], axis=0)\n",
    "\n",
    "# Resetando o índice do DataFrame resultante para evitar índices duplicados\n",
    "df_22_23_24 = df_22_23_24.reset_index(drop=True)"
   ]
  },
  {
   "cell_type": "code",
   "execution_count": null,
   "metadata": {},
   "outputs": [],
   "source": [
    "df_22_23_24 = df_22_23_24.sort_values(by='ID-ÚNICO', ascending=True)"
   ]
  },
  {
   "cell_type": "code",
   "execution_count": null,
   "metadata": {},
   "outputs": [],
   "source": [
    "df_22_23_24.to_excel('Dados Gerados/PLAN_EXEC ATÉ ANO ANTERIOR (24).xlsx', index=False)"
   ]
  },
  {
   "cell_type": "markdown",
   "metadata": {},
   "source": [
    "---"
   ]
  },
  {
   "cell_type": "code",
   "execution_count": null,
   "metadata": {},
   "outputs": [],
   "source": [
    "def process_and_concat_dfs(df_plan_exec_ano_ant_raw, df_meta_23_raw, df_meta_24_raw):\n",
    "    def process_df(df):\n",
    "        # Drop na coluna 'ID-ÚNICO'\n",
    "        if 'ID-ÚNICO' in df.columns:\n",
    "            df.drop(columns=['ID-ÚNICO'], inplace=True)\n",
    "        \n",
    "        # Reset index e renomear índice\n",
    "        df.index = range(1, len(df) + 1)\n",
    "        df.index.name = 'ID-ÚNICO'\n",
    "        df = df.reset_index()\n",
    "        df = df.sort_values(by='ID-ÚNICO', ascending=True)\n",
    "\n",
    "        # Definir os novos nomes das colunas a partir do índice 9\n",
    "        new_column_names = ['PAVIMENTAÇÃO - Descrição',\n",
    "                            'PAVIMENTAÇÃO - km(i)', \n",
    "                            'PAVIMENTAÇÃO - km(f)', \n",
    "                            'PAVIMENTAÇÃO - Ext.(km)', \n",
    "                            'PAVIMENTAÇÃO - PERCENTUAL (%) PLAN', \n",
    "                            'PAVIMENTAÇÃO - (km)% PLAN', \n",
    "                            'PAVIMENTAÇÃO - FINANCEIRO PLAN (R$)', \n",
    "                            'PAVIMENTAÇÃO - PERCENTUAL (%) EXEC', \n",
    "                            'PAVIMENTAÇÃO - (km)% EXEC', \n",
    "                            'PAVIMENTAÇÃO - FINANCEIRO(R$)',\n",
    "                            'DUPLICAÇÃO - Descrição',\n",
    "                            'DUPLICAÇÃO - km(i)', \n",
    "                            'DUPLICAÇÃO - km(f)', \n",
    "                            'DUPLICAÇÃO - Ext.(km)', \n",
    "                            'DUPLICAÇÃO - PERCENTUAL (%) PLAN', \n",
    "                            'DUPLICAÇÃO - (km)% PLAN', \n",
    "                            'DUPLICAÇÃO - FINANCEIRO PLAN (R$)', \n",
    "                            'DUPLICAÇÃO - PERCENTUAL (%) EXEC', \n",
    "                            'DUPLICAÇÃO - (km)% EXEC', \n",
    "                            'DUPLICAÇÃO - FINANCEIRO(R$)',\n",
    "                            'OAE - Descrição',\n",
    "                            'OAE - km(i)', \n",
    "                            'OAE - km(f)', \n",
    "                            'OAE - Ext.(km)', \n",
    "                            'OAE - PERCENTUAL (%) PLAN', \n",
    "                            'OAE - (km)% PLAN', \n",
    "                            'OAE - FINANCEIRO PLAN (R$)', \n",
    "                            'OAE - PERCENTUAL (%) EXEC', \n",
    "                            'OAE - (km)% EXEC', \n",
    "                            'OAE - FINANCEIRO(R$)',\n",
    "                            'CONTORNO - Descrição',\n",
    "                            'CONTORNO - km(i)', \n",
    "                            'CONTORNO - km(f)', \n",
    "                            'CONTORNO - Ext.(km)', \n",
    "                            'CONTORNO - PERCENTUAL (%) PLAN', \n",
    "                            'CONTORNO - (km)% PLAN', \n",
    "                            'CONTORNO - FINANCEIRO PLAN (R$)', \n",
    "                            'CONTORNO - PERCENTUAL (%) EXEC', \n",
    "                            'CONTORNO - (km)% EXEC',\n",
    "                            'CONTORNO - FINANCEIRO(R$)',\n",
    "                            'FX ADICIONAL - Descrição',\n",
    "                            'FX ADICIONAL - km(i)',\n",
    "                            'FX ADICIONAL - km(f)', \n",
    "                            'FX ADICIONAL - Ext.(km)', \n",
    "                            'FX ADICIONAL - PERCENTUAL (%) PLAN', \n",
    "                            'FX ADICIONAL - (km)% PLAN', \n",
    "                            'FX ADICIONAL - FINANCEIRO PLAN (R$)', \n",
    "                            'FX ADICIONAL - PERCENTUAL (%) EXEC', \n",
    "                            'FX ADICIONAL - (km)% EXEC', \n",
    "                            'FX ADICIONAL - FINANCEIRO(R$)',\n",
    "                            'TERCEIRA FAIXA - Descrição',\n",
    "                            'TERCEIRA FAIXA - km(i)', \n",
    "                            'TERCEIRA FAIXA - km(f)', \n",
    "                            'TERCEIRA FAIXA - Ext.(km)', \n",
    "                            'TERCEIRA FAIXA - PERCENTUAL (%) PLAN', \n",
    "                            'TERCEIRA FAIXA - (km)% PLAN', \n",
    "                            'TERCEIRA FAIXA - FINANCEIRO PLAN (R$)', \n",
    "                            'TERCEIRA FAIXA - PERCENTUAL (%) EXEC', \n",
    "                            'TERCEIRA FAIXA - (km)% EXEC', \n",
    "                            'TERCEIRA FAIXA - FINANCEIRO(R$)']\n",
    "\n",
    "        # Renomear colunas a partir do índice 9\n",
    "        rename_dict = {df.columns[i]: name for i, name in enumerate(new_column_names, start=9) if i < len(df.columns)}\n",
    "        df.rename(columns=rename_dict, inplace=True)\n",
    "\n",
    "        # Manter colunas que contêm estas keywords\n",
    "        keywords_to_keep = [\n",
    "            'ID-ÚNICO', 'SETOR', 'EMPREENDIMENTO', \n",
    "            'Descrição', 'Ext.(km)', 'FINANCEIRO PLAN (R$)', 'FINANCEIRO(R$)', \n",
    "            '(km)% PLAN', '(km)% EXEC'\n",
    "        ]\n",
    "        columns_to_keep = [col for col in df.columns if any(keyword in col for keyword in keywords_to_keep)]\n",
    "        df = df[columns_to_keep]\n",
    "\n",
    "        # Remover linhas onde todas as colunas a partir da posição 3 estão vazias\n",
    "        cols_a_verificar = df.iloc[:, 3:]\n",
    "        df = df.dropna(subset=cols_a_verificar.columns, how='all')\n",
    "\n",
    "        # Preparar para unpivot\n",
    "        df1 = df[['ID-ÚNICO', 'SETOR', 'EMPREENDIMENTO']]\n",
    "        colunas_manter = ['ID-ÚNICO', 'SETOR', 'EMPREENDIMENTO']\n",
    "        colunas_unpivot = df.columns.difference(colunas_manter)\n",
    "\n",
    "        # Unpivot (melt)\n",
    "        df = df.melt(id_vars=colunas_manter, value_vars=colunas_unpivot,\n",
    "                     var_name='Atributo', value_name='Valor')\n",
    "\n",
    "        # Adicionar coluna 'SETOR' fixa (como no exemplo)\n",
    "        df['SETOR'] = 'Rodoviário'\n",
    "\n",
    "        # Dividir a coluna 'Atributo' em duas\n",
    "        df[['Atributo.1', 'Atributo.2']] = df['Atributo'].str.split(' - ', expand=True)\n",
    "\n",
    "        # Selecionar colunas relevantes\n",
    "        df = df[['ID-ÚNICO', 'SETOR', 'EMPREENDIMENTO', 'Atributo.1', 'Atributo.2', 'Valor']]\n",
    "\n",
    "        # Remover valores nulos e zeros em 'Valor'\n",
    "        df = df.dropna(subset=['Valor'])\n",
    "        df = df.loc[df['Valor'] != 0]\n",
    "\n",
    "        # Pivotar novamente\n",
    "        df = df.pivot_table(index=['ID-ÚNICO', 'Atributo.1'],\n",
    "                            columns='Atributo.2', values='Valor', aggfunc='first').reset_index()\n",
    "\n",
    "        # Remover coluna de índice indesejada, se existir\n",
    "        if 'Atributo.2' in df.columns:\n",
    "            df = df.drop(columns='Atributo.2')\n",
    "\n",
    "        # Merge com df1 para recuperar colunas originais\n",
    "        df = pd.merge(df1, df, on='ID-ÚNICO', how='inner')\n",
    "\n",
    "        # Remover linhas com valores nulos em 'Atributo.1'\n",
    "        df = df.dropna(subset=['Atributo.1'])\n",
    "\n",
    "        # Selecionar e ordenar colunas finais\n",
    "        final_cols = ['ID-ÚNICO', 'SETOR', 'EMPREENDIMENTO', 'Atributo.1', \n",
    "                      'Descrição', 'Ext.(km)', 'FINANCEIRO PLAN (R$)', 'FINANCEIRO(R$)', \n",
    "                      '(km)% PLAN', '(km)% EXEC']\n",
    "        df = df[final_cols]\n",
    "\n",
    "        # Renomear colunas para evitar conflitos futuros\n",
    "        df.rename(columns={\n",
    "            'ID-ÚNICO': 'ID-ÚNICO2',\n",
    "            'SETOR': 'SETOR2',\n",
    "            'EMPREENDIMENTO': 'EMPREENDIMENTO2',\n",
    "            'Descrição': 'Descrição2',\n",
    "            'Ext.(km)': 'Ext.(km)2',\n",
    "            'FINANCEIRO PLAN (R$)': 'FINANCEIRO PLAN (R$)2',\n",
    "            'FINANCEIRO(R$)': 'FINANCEIRO(R$)2',\n",
    "            '(km)% PLAN': '(km)% PLAN2',\n",
    "            '(km)% EXEC': '(km)% EXEC2'\n",
    "        }, inplace=True)\n",
    "\n",
    "        return df\n",
    "\n",
    "    # Processar cada df\n",
    "    df1_processed = process_df(df_plan_exec_ano_ant_raw.copy())\n",
    "    df2_processed = process_df(df_meta_23_raw.copy())\n",
    "    df3_processed = process_df(df_meta_24_raw.copy())\n",
    "\n",
    "    # Concatenar os DataFrames processados\n",
    "    df_concat = pd.concat([df1_processed, df2_processed, df3_processed], axis=0)\n",
    "    df_concat = df_concat.reset_index(drop=True)\n",
    "    df_concat = df_concat.sort_values(by='ID-ÚNICO2', ascending=True)\n",
    "\n",
    "    # Salvar resultado\n",
    "    df_concat.to_excel('PLAN_EXEC ATÉ ANO ANTERIOR (24)(2).xlsx', index=False)\n",
    "\n",
    "    return df_concat"
   ]
  },
  {
   "cell_type": "code",
   "execution_count": null,
   "metadata": {},
   "outputs": [],
   "source": [
    "df_meta_24_raw"
   ]
  },
  {
   "cell_type": "code",
   "execution_count": null,
   "metadata": {},
   "outputs": [],
   "source": [
    "print(\"Processando a planilha 'META(2025)' para gerar o arquivo '2025(2).xlsx'...\")\n",
    "\n",
    "# ==============================================================================\n",
    "# 1. CARREGAMENTO E LIMPEZA INICIAL\n",
    "# ==============================================================================\n",
    "\n",
    "# Carrega os dados da planilha pulando as linhas de cabeçalho\n",
    "df_meta_25_copy = pd.read_excel(file_path, sheet_name='META(2025)', header=2)\n",
    "# Remove as primeiras linhas que são sub-cabeçalhos ou vazias\n",
    "df_meta_25_copy = df_meta_25_copy.drop([0, 1, 2], axis=0)\n",
    "# Remove colunas 'Unnamed' que são criadas para colunas sem nome no Excel\n",
    "df_meta_25_raw = df_meta_25_copy.loc[:, ~df_meta_25_copy.columns.str.contains('^Unnamed')]\n",
    "# Remove linhas de totais que podem atrapalhar a análise\n",
    "df_meta_25_raw = df_meta_25_raw[~df_meta_25_raw.apply(lambda row: row.astype(str).str.contains('TOTAL|SOMA', case=False, na=False)).any(axis=1)]\n",
    "# Remove quaisquer linhas que estejam completamente vazias\n",
    "df_meta_25_raw.dropna(how='all', inplace=True)\n"
   ]
  },
  {
   "cell_type": "code",
   "execution_count": null,
   "metadata": {},
   "outputs": [],
   "source": [
    "# Cria um ID único para cada linha para podermos rastreá-las após as transformações\n",
    "df_meta_25_raw.index = range(1, len(df_meta_25_raw) + 1)\n",
    "df_meta_25_raw.index.name = 'ID-ÚNICO'\n",
    "df_meta_25_raw = df_meta_25_raw.reset_index()\n",
    "\n",
    "# Guarda as colunas de identificação que usaremos no final para o merge\n",
    "info_cols_df = df_meta_25_raw[['ID-ÚNICO', 'SETOR', 'EMPREENDIMENTO']].copy()\n",
    "\n",
    "# Identifica as colunas de ID de forma automática para a transformação\n",
    "id_vars = [col for col in df_meta_25_raw.columns if not any(keyword in str(col) for keyword in ['PAVIMENTAÇÃO', 'DUPLICAÇÃO', 'OAE', 'CONTORNO', 'FX ADICIONAL', 'TERCEIRA FAIXA'])]\n",
    "\n",
    "# Transforma a tabela \"larga\" em \"longa\". Este passo é crucial para a robustez.\n",
    "df_long = df_meta_25_raw.melt(id_vars=id_vars, var_name='AtributoOriginal', value_name='Valor')"
   ]
  },
  {
   "cell_type": "code",
   "execution_count": null,
   "metadata": {},
   "outputs": [],
   "source": [
    "# Se houver dados para processar, continua\n",
    "if not df_long.empty:\n",
    "    # Extrai de forma inteligente o \"Tipo de Obra\" e a \"Métrica\" do nome da coluna original\n",
    "    df_long[['Atributo.1', 'Atributo.2']] = df_long['AtributoOriginal'].str.extract(r'([A-Z\\s\\/]+[A-Z])\\s*\\((.+)\\)')\n",
    "    df_long['Atributo.1'] = df_long['Atributo.1'].str.strip()\n",
    "    df_long['Atributo.2'] = df_long['Atributo.2'].str.strip()\n",
    "\n",
    "    # Transforma a tabela de volta para um formato com as métricas como colunas\n",
    "    df_pivot = df_long.pivot_table(\n",
    "        index=['ID-ÚNICO', 'Atributo.1'],\n",
    "        columns='Atributo.2',\n",
    "        values='Valor',\n",
    "        aggfunc='first'\n",
    "    ).reset_index()\n",
    "\n",
    "    # Junta as informações de identificação de volta no DataFrame final\n",
    "    df_final = pd.merge(info_cols_df, df_pivot, on='ID-ÚNICO', how='inner')\n",
    "\n",
    "    # ==============================================================================\n",
    "    # 4. SELEÇÃO FINAL, RENOMEAÇÃO E EXPORTAÇÃO\n",
    "    # ==============================================================================\n",
    "\n",
    "    # Seleciona de forma segura apenas as colunas que você quer no resultado final\n",
    "    # Isso evita o erro 'KeyError' se uma coluna não tiver dados e não for criada\n",
    "    colunas_desejadas = [\n",
    "        'ID-ÚNICO', 'SETOR', 'EMPREENDIMENTO', 'Atributo.1',\n",
    "        'Descrição', 'Ext.(km)', 'FINANCEIRO PLAN (R$)', 'FINANCEIRO(R$)',\n",
    "        '(km)% PLAN', '(km)% EXEC'\n",
    "    ]\n",
    "    colunas_finais_existentes = [col for col in colunas_desejadas if col in df_final.columns]\n",
    "    df_final = df_final[colunas_finais_existentes]\n",
    "\n",
    "    # Renomeia as colunas com o sufixo \"2\", como no seu código original\n",
    "    rename_final = {col: col.replace('ID-ÚNICO', 'ID-ÚNICO2')\n",
    "                         .replace('SETOR', 'SETOR2')\n",
    "                         .replace('EMPREENDIMENTO', 'EMPREENDIMENTO2')\n",
    "                         .replace('Descrição', 'Descrição2')\n",
    "                         .replace('Ext.(km)', 'Ext.(km)2')\n",
    "                         .replace('FINANCEIRO PLAN (R$)', 'FINANCEIRO PLAN (R$)2')\n",
    "                         .replace('FINANCEIRO(R$)', 'FINANCEIRO(R$)2')\n",
    "                         .replace('(km)% PLAN', '(km)% PLAN2')\n",
    "                         .replace('(km)% EXEC', '(km)% EXEC2') \n",
    "                   for col in df_final.columns}\n",
    "    df_final.rename(columns=rename_final, inplace=True)\n",
    "\n",
    "    # Salva o arquivo final com o nome desejado\n",
    "    output_filename = '2025(2).xlsx'\n",
    "    df_final.to_excel(output_filename, sheet_name='2025(2)', index=False)\n",
    "    print(f\"\\nProcesso concluído! Arquivo '{output_filename}' foi gerado com sucesso.\")\n",
    "\n",
    "else:\n",
    "    print(\"\\nAVISO: Nenhum dado válido encontrado em 'META(2025)' para gerar o arquivo final.\")\n"
   ]
  },
  {
   "cell_type": "markdown",
   "metadata": {},
   "source": [
    "<h1><b><i>'META(2025)'</b></i></h1>"
   ]
  },
  {
   "cell_type": "code",
   "execution_count": null,
   "metadata": {},
   "outputs": [],
   "source": [
    "#CHECKPOINT\n",
    "df_meta_25_copy = df_meta_25.copy()"
   ]
  },
  {
   "cell_type": "code",
   "execution_count": null,
   "metadata": {},
   "outputs": [],
   "source": [
    "df_meta_25_copy = pd.read_excel(file_path, sheet_name='META(2025)', header=2)"
   ]
  },
  {
   "cell_type": "code",
   "execution_count": null,
   "metadata": {},
   "outputs": [],
   "source": [
    "df_meta_25_copy"
   ]
  },
  {
   "cell_type": "code",
   "execution_count": null,
   "metadata": {},
   "outputs": [],
   "source": [
    "df_meta_25_copy = df_meta_25_copy.drop([0, 1, 2], axis = 0)"
   ]
  },
  {
   "cell_type": "code",
   "execution_count": null,
   "metadata": {},
   "outputs": [],
   "source": [
    "df_meta_25_copy.columns"
   ]
  },
  {
   "cell_type": "code",
   "execution_count": null,
   "metadata": {},
   "outputs": [],
   "source": [
    "# Drop na coluna 'Região' que não é usada.\n",
    "df_meta_25_copy.drop(columns=['Região'], inplace=True)"
   ]
  },
  {
   "cell_type": "code",
   "execution_count": null,
   "metadata": {},
   "outputs": [],
   "source": [
    "# Removendo colunas\n",
    "df_meta_25_copy = df_meta_25_copy.drop(df_meta_25_copy.columns[8:176], axis=1)"
   ]
  },
  {
   "cell_type": "code",
   "execution_count": null,
   "metadata": {},
   "outputs": [],
   "source": [
    "# Renomear Colunas\n",
    "\n",
    "df_meta_25_copy.rename(columns={'EXECUTOR             (Grupo Controlador)': 'EXECUTOR (Grupo Controlador)'}, inplace=True)\n",
    "df_meta_25_copy.rename(columns={'PAVIMENTAÇÃO                                                                                                                                                                                                                                                                                     (Ano Vigente)': 'PAVIMENTAÇÃO - (Ano Vigente) - Descrição'}, inplace=True)\n",
    "df_meta_25_copy.rename(columns={'DUPLICAÇÃO                                                                                                                                                                                                                                                                                               (Ano Vigente)': 'DUPLICAÇÃO - (Ano Vigente) - Descrição'}, inplace=True)\n",
    "df_meta_25_copy.rename(columns={'OAE                                                                                                                                                                                                                                                                                                               (Ano Vigente)': 'OAE - (Ano Vigente) - Descrição'}, inplace=True)\n",
    "df_meta_25_copy.rename(columns={'CONTORNO                                                                                                                                                                                                                                                                                                                   (Ano Vigente)': 'CONTORNO - (Ano Vigente) - Descrição'}, inplace=True)\n",
    "df_meta_25_copy.rename(columns={'FX ADICIONAL                                                                                                                                                                                                                                                                                                     (Ano Vigente)': 'FX ADICIONAL - (Ano Vigente) - Descrição'}, inplace=True)\n",
    "df_meta_25_copy.rename(columns={'TERCEIRA FAIXA                                                                                                                                                                                                                                                                                         (Ano Vigente)': 'TERCEIRA FAIXA - (Ano Vigente) - Descrição'}, inplace=True)\n",
    "\n",
    "df_meta_25_copy.rename(columns={'RISCOS (Pavimentação)       ': 'RISCOS (Pavimentação) - SITUAÇÃO'}, inplace=True)\n",
    "df_meta_25_copy.rename(columns={'RISCOS (Duplicação)       ': 'RISCOS (Duplicação) - SITUAÇÃO'}, inplace=True)\n",
    "df_meta_25_copy.rename(columns={'RISCOS (OAE)       ': 'RISCOS (OAE) - SITUAÇÃO'}, inplace=True)\n",
    "df_meta_25_copy.rename(columns={'RISCOS (Contorno)       ': 'RISCOS (Contorno) - SITUAÇÃO'}, inplace=True)\n",
    "df_meta_25_copy.rename(columns={'RISCOS (FX Adicional)       ': 'RISCOS (Faixa Adicional) - SITUAÇÃO'}, inplace=True)\n",
    "df_meta_25_copy.rename(columns={'RISCOS (Terceira Faixa)       ': 'RISCOS (Terceira Faixa) - SITUAÇÃO'}, inplace=True)"
   ]
  },
  {
   "cell_type": "code",
   "execution_count": null,
   "metadata": {},
   "outputs": [],
   "source": [
    "new_column_names = ['PAVIMENTAÇÃO - (Ano Vigente) - km (i)', \n",
    " 'PAVIMENTAÇÃO - (Ano Vigente) - km (f)', \n",
    " 'PAVIMENTAÇÃO - (Ano Vigente) - Ext. (km)', \n",
    " 'PAVIMENTAÇÃO - (Ano Vigente) - PERCENTUAL (%) PLAN', \n",
    " 'PAVIMENTAÇÃO - (Ano Vigente) - (km)% PLAN', \n",
    " 'PAVIMENTAÇÃO - (Ano Vigente) - FINANCEIRO PLAN (R$)', \n",
    " 'PAVIMENTAÇÃO - (Ano Vigente) - PERCENTUAL (%) EXEC', \n",
    " 'PAVIMENTAÇÃO - (Ano Vigente) - (km)% EXEC', \n",
    " 'PAVIMENTAÇÃO - (Ano Vigente) - FINANCEIRO (R$)',\n",
    " 'RISCOS (Pavimentação) - SITUAÇÃO',\n",
    " 'RISCOS (Pavimentação) - INTERFERÊNCIA',\n",
    " 'RISCOS (Pavimentação) - PRINCIPAL',\n",
    " 'RISCOS (Pavimentação) - NÍVEL DE ALERTA',\n",
    " 'DUPLICAÇÃO - (Ano Vigente) - Descrição',\n",
    " 'DUPLICAÇÃO - (Ano Vigente) - km (i)', \n",
    " 'DUPLICAÇÃO - (Ano Vigente) - km (f)', \n",
    " 'DUPLICAÇÃO - (Ano Vigente) - Ext. (km)', \n",
    " 'DUPLICAÇÃO - (Ano Vigente) - PERCENTUAL (%) PLAN', \n",
    " 'DUPLICAÇÃO - (Ano Vigente) - (km)% PLAN', \n",
    " 'DUPLICAÇÃO - (Ano Vigente) - FINANCEIRO PLAN (R$)', \n",
    " 'DUPLICAÇÃO - (Ano Vigente) - PERCENTUAL (%) EXEC', \n",
    " 'DUPLICAÇÃO - (Ano Vigente) - (km)% EXEC', \n",
    " 'DUPLICAÇÃO - (Ano Vigente) - FINANCEIRO (R$)',\n",
    " 'RISCOS (Duplicação) - SITUAÇÃO',\n",
    " 'RISCOS (Duplicação) - INTERFERÊNCIA',\n",
    " 'RISCOS (Duplicação) - PRINCIPAL',\n",
    " 'RISCOS (Duplicação) - NÍVEL DE ALERTA',\n",
    " 'OAE - (Ano Vigente) - Descrição',\n",
    " 'OAE - (Ano Vigente) - km (i)', \n",
    " 'OAE - (Ano Vigente) - km (f)', \n",
    " 'OAE - (Ano Vigente) - Ext. (km)', \n",
    " 'OAE - (Ano Vigente) - PERCENTUAL (%) PLAN', \n",
    " 'OAE - (Ano Vigente) - (km)% PLAN', \n",
    " 'OAE - (Ano Vigente) - FINANCEIRO PLAN (R$)', \n",
    " 'OAE - (Ano Vigente) - PERCENTUAL (%) EXEC', \n",
    " 'OAE - (Ano Vigente) - (km)% EXEC', \n",
    " 'OAE - (Ano Vigente) - FINANCEIRO (R$)',\n",
    " 'RISCOS (OAE) - SITUAÇÃO',\n",
    " 'RISCOS (OAE) - INTERFERÊNCIA',\n",
    " 'RISCOS (OAE) - PRINCIPAL',\n",
    " 'RISCOS (OAE) - NÍVEL DE ALERTA',\n",
    " 'CONTORNO - (Ano Vigente) - Descrição',\n",
    " 'CONTORNO - (Ano Vigente) - km (i)', \n",
    " 'CONTORNO - (Ano Vigente) - km (f)', \n",
    " 'CONTORNO - (Ano Vigente) - Ext. (km)', \n",
    " 'CONTORNO - (Ano Vigente) - PERCENTUAL (%) PLAN', \n",
    " 'CONTORNO - (Ano Vigente) - (km)% PLAN', \n",
    " 'CONTORNO - (Ano Vigente) - FINANCEIRO PLAN (R$)', \n",
    " 'CONTORNO - (Ano Vigente) - PERCENTUAL (%) EXEC', \n",
    " 'CONTORNO - (Ano Vigente) - (km)% EXEC',\n",
    " 'CONTORNO - (Ano Vigente) - FINANCEIRO (R$)',\n",
    " 'RISCOS (Contorno) - SITUAÇÃO',\n",
    " 'RISCOS (Contorno) - INTERFERÊNCIA',\n",
    " 'RISCOS (Contorno) - PRINCIPAL',\n",
    " 'RISCOS (Contorno) - NÍVEL DE ALERTA',\n",
    " 'FX ADICIONAL - (Ano Vigente) - Descrição',\n",
    " 'FX ADICIONAL - (Ano Vigente) - km (i)',\n",
    " 'FX ADICIONAL - (Ano Vigente) - km (f)', \n",
    " 'FX ADICIONAL - (Ano Vigente) - Ext. (km)', \n",
    " 'FX ADICIONAL - (Ano Vigente) - PERCENTUAL (%) PLAN', \n",
    " 'FX ADICIONAL - (Ano Vigente) - (km)% PLAN', \n",
    " 'FX ADICIONAL - (Ano Vigente) - FINANCEIRO PLAN (R$)', \n",
    " 'FX ADICIONAL - (Ano Vigente) - PERCENTUAL (%) EXEC', \n",
    " 'FX ADICIONAL - (Ano Vigente) - (km)% EXEC', \n",
    " 'FX ADICIONAL - (Ano Vigente) - FINANCEIRO (R$)',\n",
    " 'FX ADICIONAL - (Ano Vigente) - Descrição',\n",
    " 'RISCOS (Faixa Adicional) - SITUAÇÃO',\n",
    " 'RISCOS (Faixa Adicional) - INTERFERÊNCIA',\n",
    " 'RISCOS (Faixa Adicional) - PRINCIPAL',\n",
    " 'RISCOS (Faixa Adicional) - NÍVEL DE ALERTA',\n",
    " 'TERCEIRA FAIXA - (Ano Vigente) - km (i)', \n",
    " 'TERCEIRA FAIXA - (Ano Vigente) - km (f)', \n",
    " 'TERCEIRA FAIXA - (Ano Vigente) - Ext. (km)', \n",
    " 'TERCEIRA FAIXA - (Ano Vigente) - PERCENTUAL (%) PLAN', \n",
    " 'TERCEIRA FAIXA - (Ano Vigente) - (km)% PLAN', \n",
    " 'TERCEIRA FAIXA - (Ano Vigente) - FINANCEIRO PLAN (R$)', \n",
    " 'TERCEIRA FAIXA - (Ano Vigente) - PERCENTUAL (%) EXEC', \n",
    " 'TERCEIRA FAIXA - (Ano Vigente) - (km)% EXEC', \n",
    " 'TERCEIRA FAIXA - (Ano Vigente) - FINANCEIRO (R$)',\n",
    " 'RISCOS (Terceira Faixa) - SITUAÇÃO',\n",
    " 'RISCOS (Terceira Faixa) - INTERFERÊNCIA',\n",
    " 'RISCOS (Terceira Faixa) - PRINCIPAL',\n",
    " 'RISCOS (Terceira Faixa) - NÍVEL DE ALERTA']\n"
   ]
  },
  {
   "cell_type": "code",
   "execution_count": null,
   "metadata": {},
   "outputs": [],
   "source": [
    "# Criar um dicionário que mapeia 'Unnamed: x' para os novos nomes\n",
    "rename_dict = {'Unnamed: {}'.format(i): name for i, name in enumerate(new_column_names, start=178)}\n",
    "\n",
    "# Usar o método rename para renomear as colunas\n",
    "df_meta_25_copy.rename(columns=rename_dict, inplace=True)"
   ]
  },
  {
   "cell_type": "code",
   "execution_count": null,
   "metadata": {},
   "outputs": [],
   "source": [
    "# Identifica colunas que possuem as strings 'RISCOS' ou 'OBSERVAÇÕES' em seu nome\n",
    "columns_to_drop = [col for col in df_meta_25_copy.columns if 'RISCOS' in col or 'OBSERVAÇÕES' in col]\n",
    "\n",
    "# Remove as colunas identificadas\n",
    "df_meta_25_copy = df_meta_25_copy.drop(columns=columns_to_drop)"
   ]
  },
  {
   "cell_type": "code",
   "execution_count": null,
   "metadata": {},
   "outputs": [],
   "source": [
    "df_meta_25_copy.columns"
   ]
  },
  {
   "cell_type": "code",
   "execution_count": null,
   "metadata": {},
   "outputs": [],
   "source": [
    "df_meta_25_copy.dropna(subset=['ESTADO/LOTE'])"
   ]
  },
  {
   "cell_type": "code",
   "execution_count": null,
   "metadata": {},
   "outputs": [],
   "source": [
    "columns_to_fill = ['EMPREENDIMENTO']\n",
    "df_meta_25_copy[columns_to_fill] = df_meta_25_copy.groupby((df_meta_25_copy['BR'] == 1).cumsum())[columns_to_fill].transform(lambda x: x.ffill())"
   ]
  },
  {
   "cell_type": "code",
   "execution_count": null,
   "metadata": {},
   "outputs": [],
   "source": [
    "df_meta_25_copy['ESTADO/LOTE'] = df_meta_25_copy['ESTADO/LOTE'].apply(lambda x: x if str(x) in ['RIO GRANDE DO SUL', 'MINAS GERAIS', 'GOIÁS',\n",
    "       'SANTA CATARINA', 'TOCANTINS', 'GOIAS', 'RIO DE JANEIRO',\n",
    "       'MATO GROSSO', 'PARÁ', 'RIO/SP', 'SÃO PAULO', 'PARANÁ', 'BAHIA',\n",
    "       'ESPIRITO SANTO', 'MATO GROSSO DO SUL'] else pd.NA)\n",
    "\n",
    "# Agora preenchemos para baixo até encontrar o próximo valor não-NaN (isto é, a próxima 'Situação')\n",
    "df_meta_25_copy['ESTADO/LOTE'] = df_meta_25_copy['ESTADO/LOTE'].fillna(method='ffill')"
   ]
  },
  {
   "cell_type": "code",
   "execution_count": null,
   "metadata": {},
   "outputs": [],
   "source": [
    "df_meta_25_copy = df_meta_25_copy[~df_meta_25_copy.apply(lambda row: row.astype(str).str.contains('TOTAL|SOMA').any(), axis=1)]"
   ]
  },
  {
   "cell_type": "code",
   "execution_count": null,
   "metadata": {},
   "outputs": [],
   "source": [
    "df_meta_25_copy.columns"
   ]
  },
  {
   "cell_type": "code",
   "execution_count": null,
   "metadata": {},
   "outputs": [],
   "source": [
    "df_meta_25_copy.index = range(1, len(df_meta_25_copy) + 1)\n",
    "df_meta_25_copy.index.name = 'ID-ÚNICO'\n",
    "df_meta_25_copy = df_meta_25_copy.reset_index()"
   ]
  },
  {
   "cell_type": "code",
   "execution_count": null,
   "metadata": {},
   "outputs": [],
   "source": [
    "df_meta_25_raw = df_meta_25_copy"
   ]
  },
  {
   "cell_type": "code",
   "execution_count": null,
   "metadata": {},
   "outputs": [],
   "source": [
    "# df_meta_25_copy.to_excel('Dados Gerados/RAW_META(2025).xlsx', index=False)"
   ]
  },
  {
   "cell_type": "code",
   "execution_count": null,
   "metadata": {},
   "outputs": [],
   "source": [
    "colunas_manter = ['ID-ÚNICO', 'SETOR', 'UF', 'ESTADO/LOTE', 'BR', 'EMPREENDIMENTO',\n",
    "       'PROPONENTE', 'EXECUTOR (Grupo Controlador)', 'ESTRUTURADOR DO PROJETO']\n",
    "\n",
    "# Use 'difference' para obter as colunas a serem unpivotadas\n",
    "colunas_unpivot = df_meta_25_copy.columns.difference(colunas_manter)\n",
    "\n",
    "# Realizar o unpivot (melt) das outras colunas\n",
    "df_meta_25_copy = df_meta_25_copy.melt(id_vars=colunas_manter, value_vars=colunas_unpivot,\n",
    "                    var_name='Atributo', value_name='Valor')"
   ]
  },
  {
   "cell_type": "code",
   "execution_count": null,
   "metadata": {},
   "outputs": [],
   "source": [
    "df_meta_25_copy['EMPREENDIMENTO'].unique()"
   ]
  },
  {
   "cell_type": "code",
   "execution_count": null,
   "metadata": {},
   "outputs": [],
   "source": [
    "df_meta_25_copy = df_meta_25_copy.loc[df_meta_25_copy['Valor'] != 0]\n",
    "df_meta_25_copy = df_meta_25_copy.dropna(subset=['Valor'])"
   ]
  },
  {
   "cell_type": "code",
   "execution_count": null,
   "metadata": {},
   "outputs": [],
   "source": [
    "df_meta_25_copy[['Atributo.1', 'Atributo.3', 'Atributo.2']] = df_meta_25_copy['Atributo'].str.split(' - ', expand=True)"
   ]
  },
  {
   "cell_type": "code",
   "execution_count": null,
   "metadata": {},
   "outputs": [],
   "source": [
    "# DROP de ['Atributo'] e Realocar ['Valor'] para o final da Tabela.\n",
    "\n",
    "df_meta_25_copy = df_meta_25_copy[['ID-ÚNICO', 'SETOR', 'UF', 'ESTADO/LOTE', 'BR', 'EMPREENDIMENTO',\n",
    "       'PROPONENTE', 'EXECUTOR (Grupo Controlador)', 'ESTRUTURADOR DO PROJETO'\n",
    "       , 'Atributo.1', 'Atributo.2', 'Atributo.3', 'Valor']]"
   ]
  },
  {
   "cell_type": "code",
   "execution_count": null,
   "metadata": {},
   "outputs": [],
   "source": [
    "# Converter colunas para 'category'\n",
    "df_meta_25_copy['SETOR'] = df_meta_25_copy['SETOR'].astype('category')\n",
    "df_meta_25_copy['UF'] = df_meta_25_copy['UF'].astype('category')\n",
    "df_meta_25_copy['PROPONENTE'] = df_meta_25_copy['PROPONENTE'].astype('category')\n",
    "df_meta_25_copy['EXECUTOR (Grupo Controlador)'] = df_meta_25_copy['EXECUTOR (Grupo Controlador)'].astype('category')\n",
    "df_meta_25_copy['ESTRUTURADOR DO PROJETO'] = df_meta_25_copy['ESTRUTURADOR DO PROJETO'].astype('category')\n",
    "df_meta_25_copy['Atributo.1'] = df_meta_25_copy['Atributo.1'].astype('category')\n",
    "df_meta_25_copy['Atributo.2'] = df_meta_25_copy['Atributo.2'].astype('category')\n",
    "\n",
    "# Converter colunas para 'string'\n",
    "df_meta_25_copy['EMPREENDIMENTO'] = df_meta_25_copy['EMPREENDIMENTO'].astype('string') \n"
   ]
  },
  {
   "cell_type": "code",
   "execution_count": null,
   "metadata": {},
   "outputs": [],
   "source": [
    "df_meta_25_copy = df_meta_25_copy.sort_values(by='ID-ÚNICO', ascending=True)"
   ]
  },
  {
   "cell_type": "code",
   "execution_count": null,
   "metadata": {},
   "outputs": [],
   "source": [
    "df_meta_25_copy.to_excel('Dados Gerados/META(2025).xlsx', index=False, sheet_name= 'META')"
   ]
  },
  {
   "cell_type": "markdown",
   "metadata": {},
   "source": [
    "---"
   ]
  },
  {
   "cell_type": "code",
   "execution_count": null,
   "metadata": {},
   "outputs": [],
   "source": [
    "df_meta_25_raw"
   ]
  },
  {
   "cell_type": "code",
   "execution_count": null,
   "metadata": {},
   "outputs": [],
   "source": [
    "# Drop na coluna 'Região' que não é usada.\n",
    "df_meta_25_raw.drop(columns=['ID-ÚNICO'], inplace=True)"
   ]
  },
  {
   "cell_type": "code",
   "execution_count": null,
   "metadata": {},
   "outputs": [],
   "source": [
    "df_meta_25_raw.index = range(1, len(df_meta_25_raw) + 1)\n",
    "df_meta_25_raw.index.name = 'ID-ÚNICO'\n",
    "df_meta_25_raw = df_meta_25_raw.reset_index()"
   ]
  },
  {
   "cell_type": "code",
   "execution_count": null,
   "metadata": {},
   "outputs": [],
   "source": [
    "df_meta_25_raw = df_meta_25_raw.sort_values(by='ID-ÚNICO', ascending=True)"
   ]
  },
  {
   "cell_type": "code",
   "execution_count": null,
   "metadata": {},
   "outputs": [],
   "source": [
    "new_column_names = ['PAVIMENTAÇÃO - Descrição',\n",
    " 'PAVIMENTAÇÃO - km(i)', \n",
    " 'PAVIMENTAÇÃO - km(f)', \n",
    " 'PAVIMENTAÇÃO - Ext.(km)', \n",
    " 'PAVIMENTAÇÃO - PERCENTUAL (%) PLAN', \n",
    " 'PAVIMENTAÇÃO - (km)% PLAN', \n",
    " 'PAVIMENTAÇÃO - FINANCEIRO PLAN (R$)', \n",
    " 'PAVIMENTAÇÃO - PERCENTUAL (%) EXEC', \n",
    " 'PAVIMENTAÇÃO - (km)% EXEC', \n",
    " 'PAVIMENTAÇÃO - FINANCEIRO(R$)',\n",
    " 'DUPLICAÇÃO - Descrição',\n",
    " 'DUPLICAÇÃO - km(i)', \n",
    " 'DUPLICAÇÃO - km(f)', \n",
    " 'DUPLICAÇÃO - Ext.(km)', \n",
    " 'DUPLICAÇÃO - PERCENTUAL (%) PLAN', \n",
    " 'DUPLICAÇÃO - (km)% PLAN', \n",
    " 'DUPLICAÇÃO - FINANCEIRO PLAN (R$)', \n",
    " 'DUPLICAÇÃO - PERCENTUAL (%) EXEC', \n",
    " 'DUPLICAÇÃO - (km)% EXEC', \n",
    " 'DUPLICAÇÃO - FINANCEIRO(R$)',\n",
    " 'OAE - Descrição',\n",
    " 'OAE - km(i)', \n",
    " 'OAE - km(f)', \n",
    " 'OAE - Ext.(km)', \n",
    " 'OAE - PERCENTUAL (%) PLAN', \n",
    " 'OAE - (km)% PLAN', \n",
    " 'OAE - FINANCEIRO PLAN (R$)', \n",
    " 'OAE - PERCENTUAL (%) EXEC', \n",
    " 'OAE - (km)% EXEC', \n",
    " 'OAE - FINANCEIRO(R$)',\n",
    " 'CONTORNO - Descrição',\n",
    " 'CONTORNO - km(i)', \n",
    " 'CONTORNO - km(f)', \n",
    " 'CONTORNO - Ext.(km)', \n",
    " 'CONTORNO - PERCENTUAL (%) PLAN', \n",
    " 'CONTORNO - (km)% PLAN', \n",
    " 'CONTORNO - FINANCEIRO PLAN (R$)', \n",
    " 'CONTORNO - PERCENTUAL (%) EXEC', \n",
    " 'CONTORNO - (km)% EXEC',\n",
    " 'CONTORNO - FINANCEIRO(R$)',\n",
    " 'FX ADICIONAL - Descrição',\n",
    " 'FX ADICIONAL - km(i)',\n",
    " 'FX ADICIONAL - km(f)', \n",
    " 'FX ADICIONAL - Ext.(km)', \n",
    " 'FX ADICIONAL - PERCENTUAL (%) PLAN', \n",
    " 'FX ADICIONAL - (km)% PLAN', \n",
    " 'FX ADICIONAL - FINANCEIRO PLAN (R$)', \n",
    " 'FX ADICIONAL - PERCENTUAL (%) EXEC', \n",
    " 'FX ADICIONAL - (km)% EXEC', \n",
    " 'FX ADICIONAL - FINANCEIRO(R$)',\n",
    " 'TERCEIRA FAIXA - Descrição',\n",
    " 'TERCEIRA FAIXA - km(i)', \n",
    " 'TERCEIRA FAIXA - km(f)', \n",
    " 'TERCEIRA FAIXA - Ext.(km)', \n",
    " 'TERCEIRA FAIXA - PERCENTUAL (%) PLAN', \n",
    " 'TERCEIRA FAIXA - (km)% PLAN', \n",
    " 'TERCEIRA FAIXA - FINANCEIRO PLAN (R$)', \n",
    " 'TERCEIRA FAIXA - PERCENTUAL (%) EXEC', \n",
    " 'TERCEIRA FAIXA - (km)% EXEC', \n",
    " 'TERCEIRA FAIXA - FINANCEIRO(R$)']"
   ]
  },
  {
   "cell_type": "code",
   "execution_count": null,
   "metadata": {},
   "outputs": [],
   "source": [
    "# Cria um dicionário que mapeia qualquer coluna a partir do índice 9 para os novos nomes\n",
    "rename_dict = {df_meta_25_raw.columns[i]: name for i, name in enumerate(new_column_names, start=9)}\n",
    "\n",
    "# Usa o método rename para renomear as colunas, substituindo os nomes existentes\n",
    "df_meta_25_raw.rename(columns=rename_dict, inplace=True)"
   ]
  },
  {
   "cell_type": "code",
   "execution_count": null,
   "metadata": {},
   "outputs": [],
   "source": [
    "# Lista de strings que devem estar no nome das colunas para serem mantidas\n",
    "keywords_to_keep = [\n",
    "    'ID-ÚNICO', 'SETOR', 'EMPREENDIMENTO', \n",
    "    'Descrição', 'Ext.(km)', 'FINANCEIRO PLAN (R$)', 'FINANCEIRO(R$)', \n",
    "    '(km)% PLAN', '(km)% EXEC'\n",
    "]\n",
    "\n",
    "# Identifica colunas que possuem qualquer uma das strings na lista de keywords\n",
    "columns_to_keep = [col for col in df_meta_25_raw.columns if any(keyword in col for keyword in keywords_to_keep)]"
   ]
  },
  {
   "cell_type": "code",
   "execution_count": null,
   "metadata": {},
   "outputs": [],
   "source": [
    "\n",
    "# Mantém apenas as colunas identificadas\n",
    "df_meta_25_raw = df_meta_25_raw[columns_to_keep]"
   ]
  },
  {
   "cell_type": "code",
   "execution_count": null,
   "metadata": {},
   "outputs": [],
   "source": [
    "df_meta_25_raw.columns"
   ]
  },
  {
   "cell_type": "code",
   "execution_count": null,
   "metadata": {},
   "outputs": [],
   "source": [
    "df_meta_25_raw"
   ]
  },
  {
   "cell_type": "code",
   "execution_count": null,
   "metadata": {},
   "outputs": [],
   "source": [
    "# Seleciona colunas da posição em diante\n",
    "cols_a_verificar = df_meta_25_raw.iloc[:, 3:]\n",
    "\n",
    "# Remove linhas onde todas essas colunas estão vazias\n",
    "df_meta_25_raw = df_meta_25_raw.dropna(subset=cols_a_verificar.columns, how='all')"
   ]
  },
  {
   "cell_type": "code",
   "execution_count": null,
   "metadata": {},
   "outputs": [],
   "source": [
    "df_meta_25_raw1 = df_meta_25_raw[['ID-ÚNICO', 'SETOR', 'EMPREENDIMENTO']]"
   ]
  },
  {
   "cell_type": "code",
   "execution_count": null,
   "metadata": {},
   "outputs": [],
   "source": [
    "colunas_manter = ['ID-ÚNICO', 'SETOR', 'EMPREENDIMENTO']\n",
    "\n",
    "# Use 'difference' para obter as colunas a serem unpivotadas\n",
    "colunas_unpivot = df_meta_25_raw.columns.difference(colunas_manter)\n",
    "\n",
    "# Realizar o unpivot (melt) das outras colunas\n",
    "df_meta_25_raw = df_meta_25_raw.melt(id_vars=colunas_manter, value_vars=colunas_unpivot,\n",
    "                    var_name='Atributo', value_name='Valor')"
   ]
  },
  {
   "cell_type": "code",
   "execution_count": null,
   "metadata": {},
   "outputs": [],
   "source": [
    "df_meta_25_raw['SETOR'] = 'Rodoviário'"
   ]
  },
  {
   "cell_type": "code",
   "execution_count": null,
   "metadata": {},
   "outputs": [],
   "source": [
    "df_meta_25_raw[['Atributo.1', 'Atributo.2']] = df_meta_25_raw['Atributo'].str.split(' - ', expand=True)"
   ]
  },
  {
   "cell_type": "code",
   "execution_count": null,
   "metadata": {},
   "outputs": [],
   "source": [
    "df_meta_25_raw.columns"
   ]
  },
  {
   "cell_type": "code",
   "execution_count": null,
   "metadata": {},
   "outputs": [],
   "source": [
    "df_meta_25_raw = df_meta_25_raw[['ID-ÚNICO', 'SETOR', 'EMPREENDIMENTO',\n",
    "       'Atributo.1', 'Atributo.2', 'Valor']]"
   ]
  },
  {
   "cell_type": "code",
   "execution_count": null,
   "metadata": {},
   "outputs": [],
   "source": [
    "df_meta_25_raw.dropna(subset=['Valor'])\n",
    "df_meta_25_raw = df_meta_25_raw.loc[df_meta_25_raw['Valor'] != 0]"
   ]
  },
  {
   "cell_type": "code",
   "execution_count": null,
   "metadata": {},
   "outputs": [],
   "source": [
    "# Pivotar o DataFrame\n",
    "df_meta_25_raw = df_meta_25_raw.pivot_table(index=['ID-ÚNICO', 'Atributo.1'], \n",
    "                                            columns='Atributo.2', values='Valor', aggfunc='first').reset_index()"
   ]
  },
  {
   "cell_type": "code",
   "execution_count": null,
   "metadata": {},
   "outputs": [],
   "source": [
    "df_meta_25_raw.columns"
   ]
  },
  {
   "cell_type": "code",
   "execution_count": null,
   "metadata": {},
   "outputs": [],
   "source": [
    "df_meta_25_raw"
   ]
  },
  {
   "cell_type": "code",
   "execution_count": null,
   "metadata": {},
   "outputs": [],
   "source": [
    "# Remove a coluna de índice indesejada, se existir\n",
    "if 'Atributo.2' in df_meta_25_raw.columns:\n",
    "    df_meta_25_raw = df_meta_25_raw.drop(columns='Atributo.2')"
   ]
  },
  {
   "cell_type": "code",
   "execution_count": null,
   "metadata": {},
   "outputs": [],
   "source": [
    "df_meta_25_raw1"
   ]
  },
  {
   "cell_type": "code",
   "execution_count": null,
   "metadata": {},
   "outputs": [],
   "source": [
    "# Faz o merge com base na coluna 'ID-ÚNICO'\n",
    "df_meta_25_raw = pd.merge(df_meta_25_raw1, df_meta_25_raw, on='ID-ÚNICO', how='inner')"
   ]
  },
  {
   "cell_type": "code",
   "execution_count": null,
   "metadata": {},
   "outputs": [],
   "source": [
    "df_meta_25_raw"
   ]
  },
  {
   "cell_type": "code",
   "execution_count": null,
   "metadata": {},
   "outputs": [],
   "source": [
    "df_meta_25_raw1"
   ]
  },
  {
   "cell_type": "code",
   "execution_count": null,
   "metadata": {},
   "outputs": [],
   "source": [
    "df_meta_25_raw = df_meta_25_raw.dropna(subset=['Atributo.1'])"
   ]
  },
  {
   "cell_type": "code",
   "execution_count": null,
   "metadata": {},
   "outputs": [],
   "source": [
    "df_meta_25_raw"
   ]
  },
  {
   "cell_type": "code",
   "execution_count": null,
   "metadata": {},
   "outputs": [],
   "source": [
    "df_meta_25_raw.columns"
   ]
  },
  {
   "cell_type": "code",
   "execution_count": null,
   "metadata": {},
   "outputs": [],
   "source": [
    "df_meta_25_raw = df_meta_25_raw[['ID-ÚNICO', 'SETOR', 'EMPREENDIMENTO',\n",
    "       'Atributo.1', 'Descrição', 'Ext.(km)', 'FINANCEIRO PLAN (R$)', 'FINANCEIRO(R$)', \n",
    "    '(km)% PLAN', '(km)% EXEC']]"
   ]
  },
  {
   "cell_type": "code",
   "execution_count": null,
   "metadata": {},
   "outputs": [],
   "source": [
    "# Renomear Colunas\n",
    "df_meta_25_raw.rename(columns={'ID-ÚNICO': 'ID-ÚNICO2'}, inplace=True)\n",
    "df_meta_25_raw.rename(columns={'SETOR': 'SETOR2'}, inplace=True)\n",
    "df_meta_25_raw.rename(columns={'EMPREENDIMENTO': 'EMPREENDIMENTO2'}, inplace=True)\n",
    "df_meta_25_raw.rename(columns={'Descrição': 'Descrição2'}, inplace=True)\n",
    "df_meta_25_raw.rename(columns={'Ext.(km)': 'Ext.(km)2'}, inplace=True)\n",
    "df_meta_25_raw.rename(columns={'FINANCEIRO PLAN (R$)': 'FINANCEIRO PLAN (R$)2'}, inplace=True)\n",
    "df_meta_25_raw.rename(columns={'FINANCEIRO(R$)': 'FINANCEIRO(R$)2'}, inplace=True)\n",
    "df_meta_25_raw.rename(columns={'(km)% PLAN': '(km)% PLAN2'}, inplace=True)\n",
    "df_meta_25_raw.rename(columns={'(km)% EXEC': '(km)% EXEC2'}, inplace=True)"
   ]
  },
  {
   "cell_type": "code",
   "execution_count": null,
   "metadata": {},
   "outputs": [],
   "source": [
    "df_meta_25_raw"
   ]
  },
  {
   "cell_type": "code",
   "execution_count": null,
   "metadata": {},
   "outputs": [],
   "source": [
    "df_meta_25_raw.to_excel('2025(2).xlsx', sheet_name= '2025(2)', index= False)"
   ]
  },
  {
   "cell_type": "markdown",
   "metadata": {},
   "source": [
    "<h1><b><i>'META(2026)'</b></i></h1>"
   ]
  },
  {
   "cell_type": "code",
   "execution_count": null,
   "metadata": {},
   "outputs": [],
   "source": [
    "#CHECKPOINT\n",
    "df_meta_26_copy = df_meta_26.copy()"
   ]
  },
  {
   "cell_type": "code",
   "execution_count": null,
   "metadata": {},
   "outputs": [],
   "source": [
    "df_meta_26_copy = pd.read_excel(file_path, sheet_name='META(2026)', header=2)"
   ]
  },
  {
   "cell_type": "code",
   "execution_count": null,
   "metadata": {},
   "outputs": [],
   "source": [
    "df_meta_26_copy"
   ]
  },
  {
   "cell_type": "code",
   "execution_count": null,
   "metadata": {},
   "outputs": [],
   "source": [
    "df_meta_26_copy = df_meta_26_copy.drop([0, 1, 2], axis = 0)"
   ]
  },
  {
   "cell_type": "code",
   "execution_count": null,
   "metadata": {},
   "outputs": [],
   "source": [
    "df_meta_26_copy.columns"
   ]
  },
  {
   "cell_type": "code",
   "execution_count": null,
   "metadata": {},
   "outputs": [],
   "source": [
    "# Drop na coluna 'Região' que não é usada.\n",
    "df_meta_26_copy.drop(columns=['Região'], inplace=True)"
   ]
  },
  {
   "cell_type": "code",
   "execution_count": null,
   "metadata": {},
   "outputs": [],
   "source": [
    "# Removendo colunas\n",
    "df_meta_26_copy = df_meta_26_copy.drop(df_meta_26_copy.columns[8:176], axis=1)"
   ]
  },
  {
   "cell_type": "code",
   "execution_count": null,
   "metadata": {},
   "outputs": [],
   "source": [
    "# Renomear Colunas\n",
    "\n",
    "df_meta_26_copy.rename(columns={'EXECUTOR             (Grupo Controlador)': 'EXECUTOR (Grupo Controlador)'}, inplace=True)\n",
    "df_meta_26_copy.rename(columns={'PAVIMENTAÇÃO                                                                                                                                                                                                                                                                                     (Ano Vigente)': 'PAVIMENTAÇÃO - 2026 - Descrição'}, inplace=True)\n",
    "df_meta_26_copy.rename(columns={'DUPLICAÇÃO                                                                                                                                                                                                                                                                                               (Ano Vigente)': 'DUPLICAÇÃO - 2026 - Descrição'}, inplace=True)\n",
    "df_meta_26_copy.rename(columns={'OAE                                                                                                                                                                                                                                                                                                               (Ano Vigente)': 'OAE - 2026 - Descrição'}, inplace=True)\n",
    "df_meta_26_copy.rename(columns={'CONTORNO                                                                                                                                                                                                                                                                                                                   (Ano Vigente)': 'CONTORNO - 2026 - Descrição'}, inplace=True)\n",
    "df_meta_26_copy.rename(columns={'FX ADICIONAL                                                                                                                                                                                                                                                                                                     (Ano Vigente)': 'FX ADICIONAL - 2026 - Descrição'}, inplace=True)\n",
    "df_meta_26_copy.rename(columns={'TERCEIRA FAIXA                                                                                                                                                                                                                                                                                         (Ano Vigente)': 'TERCEIRA FAIXA - 2026 - Descrição'}, inplace=True)\n",
    "\n",
    "df_meta_26_copy.rename(columns={'RISCOS (Pavimentação)       ': 'RISCOS (Pavimentação) - SITUAÇÃO'}, inplace=True)\n",
    "df_meta_26_copy.rename(columns={'RISCOS (Duplicação)       ': 'RISCOS (Duplicação) - SITUAÇÃO'}, inplace=True)\n",
    "df_meta_26_copy.rename(columns={'RISCOS (OAE)       ': 'RISCOS (OAE) - SITUAÇÃO'}, inplace=True)\n",
    "df_meta_26_copy.rename(columns={'RISCOS (Contorno)       ': 'RISCOS (Contorno) - SITUAÇÃO'}, inplace=True)\n",
    "df_meta_26_copy.rename(columns={'RISCOS (FX Adicional)       ': 'RISCOS (Faixa Adicional) - SITUAÇÃO'}, inplace=True)\n",
    "df_meta_26_copy.rename(columns={'RISCOS (Terceira Faixa)       ': 'RISCOS (Terceira Faixa) - SITUAÇÃO'}, inplace=True)"
   ]
  },
  {
   "cell_type": "code",
   "execution_count": null,
   "metadata": {},
   "outputs": [],
   "source": [
    "new_column_names = ['PAVIMENTAÇÃO - 2026 - km (i)', \n",
    " 'PAVIMENTAÇÃO - 2026 - km (f)', \n",
    " 'PAVIMENTAÇÃO - 2026 - Ext. (km)', \n",
    " 'PAVIMENTAÇÃO - 2026 - PERCENTUAL (%) PLAN', \n",
    " 'PAVIMENTAÇÃO - 2026 - (km)% PLAN', \n",
    " 'PAVIMENTAÇÃO - 2026 - FINANCEIRO PLAN (R$)', \n",
    " 'PAVIMENTAÇÃO - 2026 - PERCENTUAL (%) EXEC', \n",
    " 'PAVIMENTAÇÃO - 2026 - (km)% EXEC', \n",
    " 'PAVIMENTAÇÃO - 2026 - FINANCEIRO (R$)',\n",
    " 'RISCOS (Pavimentação) - SITUAÇÃO',\n",
    " 'RISCOS (Pavimentação) - INTERFERÊNCIA',\n",
    " 'RISCOS (Pavimentação) - PRINCIPAL',\n",
    " 'RISCOS (Pavimentação) - NÍVEL DE ALERTA',\n",
    " 'DUPLICAÇÃO - 2026 - Descrição',\n",
    " 'DUPLICAÇÃO - 2026 - km (i)', \n",
    " 'DUPLICAÇÃO - 2026 - km (f)', \n",
    " 'DUPLICAÇÃO - 2026 - Ext. (km)', \n",
    " 'DUPLICAÇÃO - 2026 - PERCENTUAL (%) PLAN', \n",
    " 'DUPLICAÇÃO - 2026 - (km)% PLAN', \n",
    " 'DUPLICAÇÃO - 2026 - FINANCEIRO PLAN (R$)', \n",
    " 'DUPLICAÇÃO - 2026 - PERCENTUAL (%) EXEC', \n",
    " 'DUPLICAÇÃO - 2026 - (km)% EXEC', \n",
    " 'DUPLICAÇÃO - 2026 - FINANCEIRO (R$)',\n",
    " 'RISCOS (Duplicação) - SITUAÇÃO',\n",
    " 'RISCOS (Duplicação) - INTERFERÊNCIA',\n",
    " 'RISCOS (Duplicação) - PRINCIPAL',\n",
    " 'RISCOS (Duplicação) - NÍVEL DE ALERTA',\n",
    " 'OAE - 2026 - Descrição',\n",
    " 'OAE - 2026 - km (i)', \n",
    " 'OAE - 2026 - km (f)', \n",
    " 'OAE - 2026 - Ext. (km)', \n",
    " 'OAE - 2026 - PERCENTUAL (%) PLAN', \n",
    " 'OAE - 2026 - (km)% PLAN', \n",
    " 'OAE - 2026 - FINANCEIRO PLAN (R$)', \n",
    " 'OAE - 2026 - PERCENTUAL (%) EXEC', \n",
    " 'OAE - 2026 - (km)% EXEC', \n",
    " 'OAE - 2026 - FINANCEIRO (R$)',\n",
    " 'RISCOS (OAE) - SITUAÇÃO',\n",
    " 'RISCOS (OAE) - INTERFERÊNCIA',\n",
    " 'RISCOS (OAE) - PRINCIPAL',\n",
    " 'RISCOS (OAE) - NÍVEL DE ALERTA',\n",
    " 'CONTORNO - 2026 - Descrição',\n",
    " 'CONTORNO - 2026 - km (i)', \n",
    " 'CONTORNO - 2026 - km (f)', \n",
    " 'CONTORNO - 2026 - Ext. (km)', \n",
    " 'CONTORNO - 2026 - PERCENTUAL (%) PLAN', \n",
    " 'CONTORNO - 2026 - (km)% PLAN', \n",
    " 'CONTORNO - 2026 - FINANCEIRO PLAN (R$)', \n",
    " 'CONTORNO - 2026 - PERCENTUAL (%) EXEC', \n",
    " 'CONTORNO - 2026 - (km)% EXEC',\n",
    " 'CONTORNO - 2026 - FINANCEIRO (R$)',\n",
    " 'RISCOS (Contorno) - SITUAÇÃO',\n",
    " 'RISCOS (Contorno) - INTERFERÊNCIA',\n",
    " 'RISCOS (Contorno) - PRINCIPAL',\n",
    " 'RISCOS (Contorno) - NÍVEL DE ALERTA',\n",
    " 'FX ADICIONAL - 2026 - Descrição',\n",
    " 'FX ADICIONAL - 2026 - km (i)',\n",
    " 'FX ADICIONAL - 2026 - km (f)', \n",
    " 'FX ADICIONAL - 2026 - Ext. (km)', \n",
    " 'FX ADICIONAL - 2026 - PERCENTUAL (%) PLAN', \n",
    " 'FX ADICIONAL - 2026 - (km)% PLAN', \n",
    " 'FX ADICIONAL - 2026 - FINANCEIRO PLAN (R$)', \n",
    " 'FX ADICIONAL - 2026 - PERCENTUAL (%) EXEC', \n",
    " 'FX ADICIONAL - 2026 - (km)% EXEC', \n",
    " 'FX ADICIONAL - 2026 - FINANCEIRO (R$)',\n",
    " 'FX ADICIONAL - 2026 - Descrição',\n",
    " 'RISCOS (Faixa Adicional) - SITUAÇÃO',\n",
    " 'RISCOS (Faixa Adicional) - INTERFERÊNCIA',\n",
    " 'RISCOS (Faixa Adicional) - PRINCIPAL',\n",
    " 'RISCOS (Faixa Adicional) - NÍVEL DE ALERTA',\n",
    " 'TERCEIRA FAIXA - 2026 - km (i)', \n",
    " 'TERCEIRA FAIXA - 2026 - km (f)', \n",
    " 'TERCEIRA FAIXA - 2026 - Ext. (km)', \n",
    " 'TERCEIRA FAIXA - 2026 - PERCENTUAL (%) PLAN', \n",
    " 'TERCEIRA FAIXA - 2026 - (km)% PLAN', \n",
    " 'TERCEIRA FAIXA - 2026 - FINANCEIRO PLAN (R$)', \n",
    " 'TERCEIRA FAIXA - 2026 - PERCENTUAL (%) EXEC', \n",
    " 'TERCEIRA FAIXA - 2026 - (km)% EXEC', \n",
    " 'TERCEIRA FAIXA - 2026 - FINANCEIRO (R$)',\n",
    " 'RISCOS (Terceira Faixa) - SITUAÇÃO',\n",
    " 'RISCOS (Terceira Faixa) - INTERFERÊNCIA',\n",
    " 'RISCOS (Terceira Faixa) - PRINCIPAL',\n",
    " 'RISCOS (Terceira Faixa) - NÍVEL DE ALERTA']\n"
   ]
  },
  {
   "cell_type": "code",
   "execution_count": null,
   "metadata": {},
   "outputs": [],
   "source": [
    "# Criar um dicionário que mapeia 'Unnamed: x' para os novos nomes\n",
    "rename_dict = {'Unnamed: {}'.format(i): name for i, name in enumerate(new_column_names, start=178)}\n",
    "\n",
    "# Usar o método rename para renomear as colunas\n",
    "df_meta_26_copy.rename(columns=rename_dict, inplace=True)"
   ]
  },
  {
   "cell_type": "code",
   "execution_count": null,
   "metadata": {},
   "outputs": [],
   "source": [
    "# Identifica colunas que possuem a string 'RISCOS' em seu nome\n",
    "columns_to_drop = [col for col in df_meta_26_copy.columns if 'RISCOS' in col or 'OBSERVAÇÕES' in col]\n",
    "\n",
    "# Remove as colunas identificadas\n",
    "df_meta_26_copy = df_meta_26_copy.drop(columns=columns_to_drop)"
   ]
  },
  {
   "cell_type": "code",
   "execution_count": null,
   "metadata": {},
   "outputs": [],
   "source": [
    "df_meta_26_copy.columns"
   ]
  },
  {
   "cell_type": "code",
   "execution_count": null,
   "metadata": {},
   "outputs": [],
   "source": [
    "df_meta_26_copy.dropna(subset=['ESTADO/LOTE'])"
   ]
  },
  {
   "cell_type": "code",
   "execution_count": null,
   "metadata": {},
   "outputs": [],
   "source": [
    "columns_to_fill = ['EMPREENDIMENTO']\n",
    "df_meta_26_copy[columns_to_fill] = df_meta_26_copy.groupby((df_meta_26_copy['BR'] == 1).cumsum())[columns_to_fill].transform(lambda x: x.ffill())"
   ]
  },
  {
   "cell_type": "code",
   "execution_count": null,
   "metadata": {},
   "outputs": [],
   "source": [
    "df_meta_26_copy['ESTADO/LOTE'] = df_meta_26_copy['ESTADO/LOTE'].apply(lambda x: x if str(x) in ['RIO GRANDE DO SUL', 'MINAS GERAIS', 'GOIÁS',\n",
    "       'SANTA CATARINA', 'TOCANTINS', 'GOIAS', 'RIO DE JANEIRO',\n",
    "       'MATO GROSSO', 'PARÁ', 'RIO/SP', 'SÃO PAULO', 'PARANÁ', 'BAHIA',\n",
    "       'ESPIRITO SANTO', 'MATO GROSSO DO SUL'] else pd.NA)\n",
    "\n",
    "# Agora preenchemos para baixo até encontrar o próximo valor não-NaN (isto é, a próxima 'Situação')\n",
    "df_meta_26_copy['ESTADO/LOTE'] = df_meta_26_copy['ESTADO/LOTE'].fillna(method='ffill')"
   ]
  },
  {
   "cell_type": "code",
   "execution_count": null,
   "metadata": {},
   "outputs": [],
   "source": [
    "df_meta_26_copy = df_meta_26_copy[~df_meta_26_copy.apply(lambda row: row.astype(str).str.contains('TOTAL|SOMA').any(), axis=1)]"
   ]
  },
  {
   "cell_type": "code",
   "execution_count": null,
   "metadata": {},
   "outputs": [],
   "source": [
    "df_meta_26_copy.columns"
   ]
  },
  {
   "cell_type": "code",
   "execution_count": null,
   "metadata": {},
   "outputs": [],
   "source": [
    "df_meta_26_copy.index = range(1, len(df_meta_26_copy) + 1)\n",
    "df_meta_26_copy.index.name = 'ID-ÚNICO'\n",
    "df_meta_26_copy = df_meta_26_copy.reset_index()"
   ]
  },
  {
   "cell_type": "code",
   "execution_count": null,
   "metadata": {},
   "outputs": [],
   "source": [
    "df_meta_26_raw = df_meta_26_copy"
   ]
  },
  {
   "cell_type": "code",
   "execution_count": null,
   "metadata": {},
   "outputs": [],
   "source": [
    "# df_meta_26_copy.to_excel('Dados Gerados/RAW_META(2026).xlsx', index=False)"
   ]
  },
  {
   "cell_type": "code",
   "execution_count": null,
   "metadata": {},
   "outputs": [],
   "source": [
    "colunas_manter = ['ID-ÚNICO', 'SETOR', 'UF', 'ESTADO/LOTE', 'BR', 'EMPREENDIMENTO',\n",
    "       'PROPONENTE', 'EXECUTOR (Grupo Controlador)', 'ESTRUTURADOR DO PROJETO']\n",
    "\n",
    "# Use 'difference' para obter as colunas a serem unpivotadas\n",
    "colunas_unpivot = df_meta_26_copy.columns.difference(colunas_manter)\n",
    "\n",
    "# Realizar o unpivot (melt) das outras colunas\n",
    "df_meta_26_copy = df_meta_26_copy.melt(id_vars=colunas_manter, value_vars=colunas_unpivot,\n",
    "                    var_name='Atributo', value_name='Valor')"
   ]
  },
  {
   "cell_type": "code",
   "execution_count": null,
   "metadata": {},
   "outputs": [],
   "source": [
    "df_meta_26_copy['EMPREENDIMENTO'].unique()"
   ]
  },
  {
   "cell_type": "code",
   "execution_count": null,
   "metadata": {},
   "outputs": [],
   "source": [
    "df_meta_26_copy = df_meta_26_copy.loc[df_meta_26_copy['Valor'] != 0]\n",
    "df_meta_26_copy = df_meta_26_copy.dropna(subset=['Valor'])"
   ]
  },
  {
   "cell_type": "code",
   "execution_count": null,
   "metadata": {},
   "outputs": [],
   "source": [
    "df_meta_26_copy[['Atributo.1', 'Atributo.3', 'Atributo.2']] = df_meta_26_copy['Atributo'].str.split(' - ', expand=True)"
   ]
  },
  {
   "cell_type": "code",
   "execution_count": null,
   "metadata": {},
   "outputs": [],
   "source": [
    "# DROP de ['Atributo'] e Realocar ['Valor'] para o final da Tabela.\n",
    "\n",
    "df_meta_26_copy = df_meta_26_copy[['ID-ÚNICO', 'SETOR', 'UF', 'ESTADO/LOTE', 'BR', 'EMPREENDIMENTO',\n",
    "       'PROPONENTE', 'EXECUTOR (Grupo Controlador)', 'ESTRUTURADOR DO PROJETO'\n",
    "       , 'Atributo.1', 'Atributo.2', 'Atributo.3', 'Valor']]"
   ]
  },
  {
   "cell_type": "code",
   "execution_count": null,
   "metadata": {},
   "outputs": [],
   "source": [
    "# Converter colunas para 'category'\n",
    "df_meta_26_copy['SETOR'] = df_meta_26_copy['SETOR'].astype('category')\n",
    "df_meta_26_copy['UF'] = df_meta_26_copy['UF'].astype('category')\n",
    "df_meta_26_copy['PROPONENTE'] = df_meta_26_copy['PROPONENTE'].astype('category')\n",
    "df_meta_26_copy['EXECUTOR (Grupo Controlador)'] = df_meta_26_copy['EXECUTOR (Grupo Controlador)'].astype('category')\n",
    "df_meta_26_copy['ESTRUTURADOR DO PROJETO'] = df_meta_26_copy['ESTRUTURADOR DO PROJETO'].astype('category')\n",
    "df_meta_26_copy['Atributo.1'] = df_meta_26_copy['Atributo.1'].astype('category')\n",
    "df_meta_26_copy['Atributo.2'] = df_meta_26_copy['Atributo.2'].astype('category')\n",
    "\n",
    "# Converter colunas para 'string'\n",
    "df_meta_26_copy['EMPREENDIMENTO'] = df_meta_26_copy['EMPREENDIMENTO'].astype('string') \n"
   ]
  },
  {
   "cell_type": "code",
   "execution_count": null,
   "metadata": {},
   "outputs": [],
   "source": [
    "df_meta_26_copy = df_meta_26_copy.sort_values(by='ID-ÚNICO', ascending=True)"
   ]
  },
  {
   "cell_type": "code",
   "execution_count": null,
   "metadata": {},
   "outputs": [],
   "source": [
    "df_meta_26_copy.to_excel('Dados Gerados/META(2026).xlsx', index=False, sheet_name= 'META')"
   ]
  },
  {
   "cell_type": "markdown",
   "metadata": {},
   "source": [
    "<h1><b><i>'META(2027)'</b></i></h1>"
   ]
  },
  {
   "cell_type": "code",
   "execution_count": null,
   "metadata": {},
   "outputs": [],
   "source": [
    "#CHECKPOINT\n",
    "df_meta_27_copy = df_meta_27.copy()"
   ]
  },
  {
   "cell_type": "code",
   "execution_count": null,
   "metadata": {},
   "outputs": [],
   "source": [
    "df_meta_27_copy = pd.read_excel(file_path, sheet_name='META(2027)', header=2)"
   ]
  },
  {
   "cell_type": "code",
   "execution_count": null,
   "metadata": {},
   "outputs": [],
   "source": [
    "df_meta_27_copy"
   ]
  },
  {
   "cell_type": "code",
   "execution_count": null,
   "metadata": {},
   "outputs": [],
   "source": [
    "df_meta_27_copy = df_meta_27_copy.drop([0, 1, 2], axis = 0)"
   ]
  },
  {
   "cell_type": "code",
   "execution_count": null,
   "metadata": {},
   "outputs": [],
   "source": [
    "df_meta_27_copy.columns"
   ]
  },
  {
   "cell_type": "code",
   "execution_count": null,
   "metadata": {},
   "outputs": [],
   "source": [
    "# Drop na coluna 'Região' que não é usada.\n",
    "df_meta_27_copy.drop(columns=['Região'], inplace=True)"
   ]
  },
  {
   "cell_type": "code",
   "execution_count": null,
   "metadata": {},
   "outputs": [],
   "source": [
    "# Removendo colunas\n",
    "df_meta_27_copy = df_meta_27_copy.drop(df_meta_27_copy.columns[8:176], axis=1)"
   ]
  },
  {
   "cell_type": "code",
   "execution_count": null,
   "metadata": {},
   "outputs": [],
   "source": [
    "# Renomear Colunas\n",
    "\n",
    "df_meta_27_copy.rename(columns={'EXECUTOR             (Grupo Controlador)': 'EXECUTOR (Grupo Controlador)'}, inplace=True)\n",
    "df_meta_27_copy.rename(columns={'PAVIMENTAÇÃO                                                                                                                                                                                                                                                                                     (Ano Vigente)': 'PAVIMENTAÇÃO - 2027 - Descrição'}, inplace=True)\n",
    "df_meta_27_copy.rename(columns={'DUPLICAÇÃO                                                                                                                                                                                                                                                                                               (Ano Vigente)': 'DUPLICAÇÃO - 2027 - Descrição'}, inplace=True)\n",
    "df_meta_27_copy.rename(columns={'OAE                                                                                                                                                                                                                                                                                                               (Ano Vigente)': 'OAE - 2027 - Descrição'}, inplace=True)\n",
    "df_meta_27_copy.rename(columns={'CONTORNO                                                                                                                                                                                                                                                                                                                   (Ano Vigente)': 'CONTORNO - 2027 - Descrição'}, inplace=True)\n",
    "df_meta_27_copy.rename(columns={'FX ADICIONAL                                                                                                                                                                                                                                                                                                     (Ano Vigente)': 'FX ADICIONAL - 2027 - Descrição'}, inplace=True)\n",
    "df_meta_27_copy.rename(columns={'TERCEIRA FAIXA                                                                                                                                                                                                                                                                                         (Ano Vigente)': 'TERCEIRA FAIXA - 2027 - Descrição'}, inplace=True)\n",
    "\n",
    "df_meta_27_copy.rename(columns={'RISCOS (Pavimentação)       ': 'RISCOS (Pavimentação) - SITUAÇÃO'}, inplace=True)\n",
    "df_meta_27_copy.rename(columns={'RISCOS (Duplicação)       ': 'RISCOS (Duplicação) - SITUAÇÃO'}, inplace=True)\n",
    "df_meta_27_copy.rename(columns={'RISCOS (OAE)       ': 'RISCOS (OAE) - SITUAÇÃO'}, inplace=True)\n",
    "df_meta_27_copy.rename(columns={'RISCOS (Contorno)       ': 'RISCOS (Contorno) - SITUAÇÃO'}, inplace=True)\n",
    "df_meta_27_copy.rename(columns={'RISCOS (FX Adicional)       ': 'RISCOS (Faixa Adicional) - SITUAÇÃO'}, inplace=True)\n",
    "df_meta_27_copy.rename(columns={'RISCOS (Terceira Faixa)       ': 'RISCOS (Terceira Faixa) - SITUAÇÃO'}, inplace=True)"
   ]
  },
  {
   "cell_type": "code",
   "execution_count": null,
   "metadata": {},
   "outputs": [],
   "source": [
    "new_column_names = ['PAVIMENTAÇÃO - 2027 - km (i)', \n",
    " 'PAVIMENTAÇÃO - 2027 - km (f)', \n",
    " 'PAVIMENTAÇÃO - 2027 - Ext. (km)', \n",
    " 'PAVIMENTAÇÃO - 2027 - PERCENTUAL (%) PLAN', \n",
    " 'PAVIMENTAÇÃO - 2027 - (km)% PLAN', \n",
    " 'PAVIMENTAÇÃO - 2027 - FINANCEIRO PLAN (R$)', \n",
    " 'PAVIMENTAÇÃO - 2027 - PERCENTUAL (%) EXEC', \n",
    " 'PAVIMENTAÇÃO - 2027 - (km)% EXEC', \n",
    " 'PAVIMENTAÇÃO - 2027 - FINANCEIRO (R$)',\n",
    " 'RISCOS (Pavimentação) - SITUAÇÃO',\n",
    " 'RISCOS (Pavimentação) - INTERFERÊNCIA',\n",
    " 'RISCOS (Pavimentação) - PRINCIPAL',\n",
    " 'RISCOS (Pavimentação) - NÍVEL DE ALERTA',\n",
    " 'DUPLICAÇÃO - 2027 - Descrição',\n",
    " 'DUPLICAÇÃO - 2027 - km (i)', \n",
    " 'DUPLICAÇÃO - 2027 - km (f)', \n",
    " 'DUPLICAÇÃO - 2027 - Ext. (km)', \n",
    " 'DUPLICAÇÃO - 2027 - PERCENTUAL (%) PLAN', \n",
    " 'DUPLICAÇÃO - 2027 - (km)% PLAN', \n",
    " 'DUPLICAÇÃO - 2027 - FINANCEIRO PLAN (R$)', \n",
    " 'DUPLICAÇÃO - 2027 - PERCENTUAL (%) EXEC', \n",
    " 'DUPLICAÇÃO - 2027 - (km)% EXEC', \n",
    " 'DUPLICAÇÃO - 2027 - FINANCEIRO (R$)',\n",
    " 'RISCOS (Duplicação) - SITUAÇÃO',\n",
    " 'RISCOS (Duplicação) - INTERFERÊNCIA',\n",
    " 'RISCOS (Duplicação) - PRINCIPAL',\n",
    " 'RISCOS (Duplicação) - NÍVEL DE ALERTA',\n",
    " 'OAE - 2027 - Descrição',\n",
    " 'OAE - 2027 - km (i)', \n",
    " 'OAE - 2027 - km (f)', \n",
    " 'OAE - 2027 - Ext. (km)', \n",
    " 'OAE - 2027 - PERCENTUAL (%) PLAN', \n",
    " 'OAE - 2027 - (km)% PLAN', \n",
    " 'OAE - 2027 - FINANCEIRO PLAN (R$)', \n",
    " 'OAE - 2027 - PERCENTUAL (%) EXEC', \n",
    " 'OAE - 2027 - (km)% EXEC', \n",
    " 'OAE - 2027 - FINANCEIRO (R$)',\n",
    " 'RISCOS (OAE) - SITUAÇÃO',\n",
    " 'RISCOS (OAE) - INTERFERÊNCIA',\n",
    " 'RISCOS (OAE) - PRINCIPAL',\n",
    " 'RISCOS (OAE) - NÍVEL DE ALERTA',\n",
    " 'CONTORNO - 2027 - Descrição',\n",
    " 'CONTORNO - 2027 - km (i)', \n",
    " 'CONTORNO - 2027 - km (f)', \n",
    " 'CONTORNO - 2027 - Ext. (km)', \n",
    " 'CONTORNO - 2027 - PERCENTUAL (%) PLAN', \n",
    " 'CONTORNO - 2027 - (km)% PLAN', \n",
    " 'CONTORNO - 2027 - FINANCEIRO PLAN (R$)', \n",
    " 'CONTORNO - 2027 - PERCENTUAL (%) EXEC', \n",
    " 'CONTORNO - 2027 - (km)% EXEC',\n",
    " 'CONTORNO - 2027 - FINANCEIRO (R$)',\n",
    " 'RISCOS (Contorno) - SITUAÇÃO',\n",
    " 'RISCOS (Contorno) - INTERFERÊNCIA',\n",
    " 'RISCOS (Contorno) - PRINCIPAL',\n",
    " 'RISCOS (Contorno) - NÍVEL DE ALERTA',\n",
    " 'FX ADICIONAL - 2027 - Descrição',\n",
    " 'FX ADICIONAL - 2027 - km (i)',\n",
    " 'FX ADICIONAL - 2027 - km (f)', \n",
    " 'FX ADICIONAL - 2027 - Ext. (km)', \n",
    " 'FX ADICIONAL - 2027 - PERCENTUAL (%) PLAN', \n",
    " 'FX ADICIONAL - 2027 - (km)% PLAN', \n",
    " 'FX ADICIONAL - 2027 - FINANCEIRO PLAN (R$)', \n",
    " 'FX ADICIONAL - 2027 - PERCENTUAL (%) EXEC', \n",
    " 'FX ADICIONAL - 2027 - (km)% EXEC', \n",
    " 'FX ADICIONAL - 2027 - FINANCEIRO (R$)',\n",
    " 'FX ADICIONAL - 2027 - Descrição',\n",
    " 'RISCOS (Faixa Adicional) - SITUAÇÃO',\n",
    " 'RISCOS (Faixa Adicional) - INTERFERÊNCIA',\n",
    " 'RISCOS (Faixa Adicional) - PRINCIPAL',\n",
    " 'RISCOS (Faixa Adicional) - NÍVEL DE ALERTA',\n",
    " 'TERCEIRA FAIXA - 2027 - km (i)', \n",
    " 'TERCEIRA FAIXA - 2027 - km (f)', \n",
    " 'TERCEIRA FAIXA - 2027 - Ext. (km)', \n",
    " 'TERCEIRA FAIXA - 2027 - PERCENTUAL (%) PLAN', \n",
    " 'TERCEIRA FAIXA - 2027 - (km)% PLAN', \n",
    " 'TERCEIRA FAIXA - 2027 - FINANCEIRO PLAN (R$)', \n",
    " 'TERCEIRA FAIXA - 2027 - PERCENTUAL (%) EXEC', \n",
    " 'TERCEIRA FAIXA - 2027 - (km)% EXEC', \n",
    " 'TERCEIRA FAIXA - 2027 - FINANCEIRO (R$)',\n",
    " 'RISCOS (Terceira Faixa) - SITUAÇÃO',\n",
    " 'RISCOS (Terceira Faixa) - INTERFERÊNCIA',\n",
    " 'RISCOS (Terceira Faixa) - PRINCIPAL',\n",
    " 'RISCOS (Terceira Faixa) - NÍVEL DE ALERTA']\n"
   ]
  },
  {
   "cell_type": "code",
   "execution_count": null,
   "metadata": {},
   "outputs": [],
   "source": [
    "# Criar um dicionário que mapeia 'Unnamed: x' para os novos nomes\n",
    "rename_dict = {'Unnamed: {}'.format(i): name for i, name in enumerate(new_column_names, start=178)}\n",
    "\n",
    "# Usar o método rename para renomear as colunas\n",
    "df_meta_27_copy.rename(columns=rename_dict, inplace=True)"
   ]
  },
  {
   "cell_type": "code",
   "execution_count": null,
   "metadata": {},
   "outputs": [],
   "source": [
    "# Identifica colunas que possuem a string 'RISCOS' em seu nome\n",
    "columns_to_drop = [col for col in df_meta_27_copy.columns if 'RISCOS' in col]\n",
    "\n",
    "# Remove as colunas identificadas\n",
    "df_meta_27_copy = df_meta_27_copy.drop(columns=columns_to_drop)"
   ]
  },
  {
   "cell_type": "code",
   "execution_count": null,
   "metadata": {},
   "outputs": [],
   "source": [
    "df_meta_27_copy.columns"
   ]
  },
  {
   "cell_type": "code",
   "execution_count": null,
   "metadata": {},
   "outputs": [],
   "source": [
    "df_meta_27_copy.dropna(subset=['ESTADO/LOTE'])"
   ]
  },
  {
   "cell_type": "code",
   "execution_count": null,
   "metadata": {},
   "outputs": [],
   "source": [
    "columns_to_fill = ['EMPREENDIMENTO']\n",
    "df_meta_27_copy[columns_to_fill] = df_meta_27_copy.groupby((df_meta_27_copy['BR'] == 1).cumsum())[columns_to_fill].transform(lambda x: x.ffill())"
   ]
  },
  {
   "cell_type": "code",
   "execution_count": null,
   "metadata": {},
   "outputs": [],
   "source": [
    "df_meta_27_copy['ESTADO/LOTE'] = df_meta_27_copy['ESTADO/LOTE'].apply(lambda x: x if str(x) in ['RIO GRANDE DO SUL', 'MINAS GERAIS', 'GOIÁS',\n",
    "       'SANTA CATARINA', 'TOCANTINS', 'GOIAS', 'RIO DE JANEIRO',\n",
    "       'MATO GROSSO', 'PARÁ', 'RIO/SP', 'SÃO PAULO', 'PARANÁ', 'BAHIA',\n",
    "       'ESPIRITO SANTO', 'MATO GROSSO DO SUL'] else pd.NA)\n",
    "\n",
    "# Agora preenchemos para baixo até encontrar o próximo valor não-NaN (isto é, a próxima 'Situação')\n",
    "df_meta_27_copy['ESTADO/LOTE'] = df_meta_27_copy['ESTADO/LOTE'].fillna(method='ffill')"
   ]
  },
  {
   "cell_type": "code",
   "execution_count": null,
   "metadata": {},
   "outputs": [],
   "source": [
    "df_meta_27_copy = df_meta_27_copy[~df_meta_27_copy.apply(lambda row: row.astype(str).str.contains('TOTAL|SOMA').any(), axis=1)]"
   ]
  },
  {
   "cell_type": "code",
   "execution_count": null,
   "metadata": {},
   "outputs": [],
   "source": [
    "df_meta_27_copy.columns"
   ]
  },
  {
   "cell_type": "code",
   "execution_count": null,
   "metadata": {},
   "outputs": [],
   "source": [
    "df_meta_27_copy.index = range(1, len(df_meta_27_copy) + 1)\n",
    "df_meta_27_copy.index.name = 'ID-ÚNICO'\n",
    "df_meta_27_copy = df_meta_27_copy.reset_index()"
   ]
  },
  {
   "cell_type": "code",
   "execution_count": null,
   "metadata": {},
   "outputs": [],
   "source": [
    "df_meta_27_raw = df_meta_27_copy"
   ]
  },
  {
   "cell_type": "code",
   "execution_count": null,
   "metadata": {},
   "outputs": [],
   "source": [
    "# df_meta_27_copy.to_excel('Dados Gerados/RAW_META(2027).xlsx', index=False)"
   ]
  },
  {
   "cell_type": "code",
   "execution_count": null,
   "metadata": {},
   "outputs": [],
   "source": [
    "colunas_manter = ['ID-ÚNICO', 'SETOR', 'UF', 'ESTADO/LOTE', 'BR', 'EMPREENDIMENTO',\n",
    "       'PROPONENTE', 'EXECUTOR (Grupo Controlador)', 'ESTRUTURADOR DO PROJETO']\n",
    "\n",
    "# Use 'difference' para obter as colunas a serem unpivotadas\n",
    "colunas_unpivot = df_meta_27_copy.columns.difference(colunas_manter)\n",
    "\n",
    "# Realizar o unpivot (melt) das outras colunas\n",
    "df_meta_27_copy = df_meta_27_copy.melt(id_vars=colunas_manter, value_vars=colunas_unpivot,\n",
    "                    var_name='Atributo', value_name='Valor')"
   ]
  },
  {
   "cell_type": "code",
   "execution_count": null,
   "metadata": {},
   "outputs": [],
   "source": [
    "df_meta_27_copy['EMPREENDIMENTO'].unique()"
   ]
  },
  {
   "cell_type": "code",
   "execution_count": null,
   "metadata": {},
   "outputs": [],
   "source": [
    "df_meta_27_copy = df_meta_27_copy.loc[df_meta_27_copy['Valor'] != 0]\n",
    "df_meta_27_copy = df_meta_27_copy.dropna(subset=['Valor'])"
   ]
  },
  {
   "cell_type": "code",
   "execution_count": null,
   "metadata": {},
   "outputs": [],
   "source": [
    "df_meta_27_copy[['Atributo.1', 'Atributo.3', 'Atributo.2']] = df_meta_27_copy['Atributo'].str.split(' - ', expand=True)"
   ]
  },
  {
   "cell_type": "code",
   "execution_count": null,
   "metadata": {},
   "outputs": [],
   "source": [
    "# DROP de ['Atributo'] e Realocar ['Valor'] para o final da Tabela.\n",
    "\n",
    "df_meta_27_copy = df_meta_27_copy[['ID-ÚNICO', 'SETOR', 'UF', 'ESTADO/LOTE', 'BR', 'EMPREENDIMENTO',\n",
    "       'PROPONENTE', 'EXECUTOR (Grupo Controlador)', 'ESTRUTURADOR DO PROJETO'\n",
    "       , 'Atributo.1', 'Atributo.2', 'Atributo.3', 'Valor']]"
   ]
  },
  {
   "cell_type": "code",
   "execution_count": null,
   "metadata": {},
   "outputs": [],
   "source": [
    "# Converter colunas para 'category'\n",
    "df_meta_27_copy['SETOR'] = df_meta_27_copy['SETOR'].astype('category')\n",
    "df_meta_27_copy['UF'] = df_meta_27_copy['UF'].astype('category')\n",
    "df_meta_27_copy['PROPONENTE'] = df_meta_27_copy['PROPONENTE'].astype('category')\n",
    "df_meta_27_copy['EXECUTOR (Grupo Controlador)'] = df_meta_27_copy['EXECUTOR (Grupo Controlador)'].astype('category')\n",
    "df_meta_27_copy['ESTRUTURADOR DO PROJETO'] = df_meta_27_copy['ESTRUTURADOR DO PROJETO'].astype('category')\n",
    "df_meta_27_copy['Atributo.1'] = df_meta_27_copy['Atributo.1'].astype('category')\n",
    "df_meta_27_copy['Atributo.2'] = df_meta_27_copy['Atributo.2'].astype('category')\n",
    "\n",
    "# Converter colunas para 'string'\n",
    "df_meta_27_copy['EMPREENDIMENTO'] = df_meta_27_copy['EMPREENDIMENTO'].astype('string') \n"
   ]
  },
  {
   "cell_type": "code",
   "execution_count": null,
   "metadata": {},
   "outputs": [],
   "source": [
    "df_meta_27_copy = df_meta_27_copy.sort_values(by='ID-ÚNICO', ascending=True)"
   ]
  },
  {
   "cell_type": "code",
   "execution_count": null,
   "metadata": {},
   "outputs": [],
   "source": [
    "df_meta_27_copy.to_excel('Dados Gerados/META(2027).xlsx', index=False, sheet_name= 'META')"
   ]
  },
  {
   "cell_type": "markdown",
   "metadata": {},
   "source": [
    "<h1><b><i>'iNEXECUTADO (pendências até 24)'</b></i></h1>"
   ]
  },
  {
   "cell_type": "code",
   "execution_count": null,
   "metadata": {},
   "outputs": [],
   "source": [
    "#CHECKPOINT\n",
    "df_inexec_copy = df_inexec.copy()"
   ]
  },
  {
   "cell_type": "code",
   "execution_count": null,
   "metadata": {},
   "outputs": [],
   "source": [
    "df_inexec_copy =  pd.read_excel(file_path, sheet_name='iNEXECUTADO (pendências até 24)', header=2)\n",
    "df_inexec_copy.columns"
   ]
  },
  {
   "cell_type": "code",
   "execution_count": null,
   "metadata": {},
   "outputs": [],
   "source": [
    "df_inexec_copy"
   ]
  },
  {
   "cell_type": "code",
   "execution_count": null,
   "metadata": {},
   "outputs": [],
   "source": [
    "df_inexec_copy = df_inexec_copy.drop([0, 1, 2], axis = 0)"
   ]
  },
  {
   "cell_type": "code",
   "execution_count": null,
   "metadata": {},
   "outputs": [],
   "source": [
    "# Renomear Coluna ['EXECUTOR...']\n",
    "\n",
    "df_inexec_copy.rename(columns={'EXECUTOR             (Grupo Controlador)': 'EXECUTOR (Grupo Controlador)'}, inplace=True)\n",
    "df_inexec_copy.rename(columns={'PAVIMENTAÇÃO (até 2024)': 'PAVIMENTAÇÃO - (até 2024) - Descrição'}, inplace=True)\n",
    "df_inexec_copy.rename(columns={'RISCOS (Pavimentação)       ': 'RISCOS (Pavimentação) - SITUAÇÃO'}, inplace=True)\n",
    "df_inexec_copy.rename(columns={'DUPLICAÇÃO (até 2024)': 'DUPLICAÇÃO - (até 2024) - Descrição'}, inplace=True)\n",
    "df_inexec_copy.rename(columns={'RISCOS (Duplicação)       ': 'RISCOS (Duplicação) - SITUAÇÃO'}, inplace=True)\n",
    "df_inexec_copy.rename(columns={'OAE  (até 2024)': 'OAE - (até 2024) - Descrição'}, inplace=True)\n",
    "df_inexec_copy.rename(columns={'RISCOS (OAE)       ': 'RISCOS (OAE) - SITUAÇÃO'}, inplace=True)\n",
    "df_inexec_copy.rename(columns={'CONTORNO  (até 2024)': 'CONTORNO - (até 2024) - Descrição'}, inplace=True)\n",
    "df_inexec_copy.rename(columns={'RISCOS (Contorno)       ': 'RISCOS (Contorno) - SITUAÇÃO'}, inplace=True)\n",
    "df_inexec_copy.rename(columns={'FX ADICIONAL (até 2024)': 'FX ADICIONAL - (até 2024) - Descrição'}, inplace=True)\n",
    "df_inexec_copy.rename(columns={'RISCOS (FX Adicional)       ': 'RISCOS (Faixa Adicional) - SITUAÇÃO'}, inplace=True)\n",
    "df_inexec_copy.rename(columns={'TERCEIRA FAIXA (até 2024)': 'TERCEIRA FAIXA - (até 2024) - Descrição'}, inplace=True)\n",
    "df_inexec_copy.rename(columns={'RISCOS (Terceira Faixa)       ': 'RISCOS (Terceira Faixa) - SITUAÇÃO'}, inplace=True)"
   ]
  },
  {
   "cell_type": "code",
   "execution_count": null,
   "metadata": {},
   "outputs": [],
   "source": [
    "new_column_names = ['PAVIMENTAÇÃO - (até 2024) - km (i)', \n",
    " 'PAVIMENTAÇÃO - (até 2024) - km (f)', \n",
    " 'PAVIMENTAÇÃO - (até 2024) - Ext. (km)', \n",
    " 'PAVIMENTAÇÃO - (até 2024) - PERCENTUAL (%) PLAN', \n",
    " 'PAVIMENTAÇÃO - (até 2024) - (km)% PLAN', \n",
    " 'PAVIMENTAÇÃO - (até 2024) - FINANCEIRO PLAN (R$)', \n",
    " 'PAVIMENTAÇÃO - (até 2024) - PERCENTUAL (%) EXEC', \n",
    " 'PAVIMENTAÇÃO - (até 2024) - (km)% EXEC', \n",
    " 'PAVIMENTAÇÃO - (até 2024) - FINANCEIRO (R$)',\n",
    " 'RISCOS (Pavimentação) - SITUAÇÃO',\n",
    " 'RISCOS (Pavimentação) - INTERFERÊNCIA',\n",
    " 'RISCOS (Pavimentação) - PRINCIPAL',\n",
    " 'RISCOS (Pavimentação) - NÍVEL DE ALERTA',\n",
    " 'DUPLICAÇÃO - (até 2024) - Descrição',\n",
    " 'DUPLICAÇÃO - (até 2024) - km (i)', \n",
    " 'DUPLICAÇÃO - (até 2024) - km (f)', \n",
    " 'DUPLICAÇÃO - (até 2024) - Ext. (km)', \n",
    " 'DUPLICAÇÃO - (até 2024) - PERCENTUAL (%) PLAN', \n",
    " 'DUPLICAÇÃO - (até 2024) - (km)% PLAN', \n",
    " 'DUPLICAÇÃO - (até 2024) - FINANCEIRO PLAN (R$)', \n",
    " 'DUPLICAÇÃO - (até 2024) - PERCENTUAL (%) EXEC', \n",
    " 'DUPLICAÇÃO - (até 2024) - (km)% EXEC', \n",
    " 'DUPLICAÇÃO - (até 2024) - FINANCEIRO (R$)',\n",
    " 'RISCOS (Duplicação) - SITUAÇÃO',\n",
    " 'RISCOS (Duplicação) - INTERFERÊNCIA',\n",
    " 'RISCOS (Duplicação) - PRINCIPAL',\n",
    " 'RISCOS (Duplicação) - NÍVEL DE ALERTA',\n",
    " 'OAE - (até 2024) - Descrição',\n",
    " 'OAE - (até 2024) - km (i)', \n",
    " 'OAE - (até 2024) - km (f)', \n",
    " 'OAE - (até 2024) - Ext. (km)', \n",
    " 'OAE - (até 2024) - PERCENTUAL (%) PLAN', \n",
    " 'OAE - (até 2024) - (km)% PLAN', \n",
    " 'OAE - (até 2024) - FINANCEIRO PLAN (R$)', \n",
    " 'OAE - (até 2024) - PERCENTUAL (%) EXEC', \n",
    " 'OAE - (até 2024) - (km)% EXEC', \n",
    " 'OAE - (até 2024) - FINANCEIRO (R$)',\n",
    " 'RISCOS (OAE) - SITUAÇÃO',\n",
    " 'RISCOS (OAE) - INTERFERÊNCIA',\n",
    " 'RISCOS (OAE) - PRINCIPAL',\n",
    " 'RISCOS (OAE) - NÍVEL DE ALERTA',\n",
    " 'CONTORNO - (até 2024) - Descrição',\n",
    " 'CONTORNO - (até 2024) - km (i)', \n",
    " 'CONTORNO - (até 2024) - km (f)', \n",
    " 'CONTORNO - (até 2024) - Ext. (km)', \n",
    " 'CONTORNO - (até 2024) - PERCENTUAL (%) PLAN', \n",
    " 'CONTORNO - (até 2024) - (km)% PLAN', \n",
    " 'CONTORNO - (até 2024) - FINANCEIRO PLAN (R$)', \n",
    " 'CONTORNO - (até 2024) - PERCENTUAL (%) EXEC', \n",
    " 'CONTORNO - (até 2024) - (km)% EXEC',\n",
    " 'CONTORNO - (até 2024) - FINANCEIRO (R$)',\n",
    " 'RISCOS (Contorno) - SITUAÇÃO',\n",
    " 'RISCOS (Contorno) - INTERFERÊNCIA',\n",
    " 'RISCOS (Contorno) - PRINCIPAL',\n",
    " 'RISCOS (Contorno) - NÍVEL DE ALERTA',\n",
    " 'FX ADICIONAL - (até 2024) - Descrição',\n",
    " 'FX ADICIONAL - (até 2024) - km (i)',\n",
    " 'FX ADICIONAL - (até 2024) - km (f)', \n",
    " 'FX ADICIONAL - (até 2024) - Ext. (km)', \n",
    " 'FX ADICIONAL - (até 2024) - PERCENTUAL (%) PLAN', \n",
    " 'FX ADICIONAL - (até 2024) - (km)% PLAN', \n",
    " 'FX ADICIONAL - (até 2024) - FINANCEIRO PLAN (R$)', \n",
    " 'FX ADICIONAL - (até 2024) - PERCENTUAL (%) EXEC', \n",
    " 'FX ADICIONAL - (até 2024) - (km)% EXEC', \n",
    " 'FX ADICIONAL - (até 2024) - FINANCEIRO (R$)',\n",
    " 'RISCOS (Faixa Adicional) - SITUAÇÃO',\n",
    " 'RISCOS (Faixa Adicional) - INTERFERÊNCIA',\n",
    " 'RISCOS (Faixa Adicional) - PRINCIPAL',\n",
    " 'RISCOS (Faixa Adicional) - NÍVEL DE ALERTA',\n",
    " 'TERCEIRA FAIXA - (até 2024) - Descrição',\n",
    " 'TERCEIRA FAIXA - (até 2024) - km (i)', \n",
    " 'TERCEIRA FAIXA - (até 2024) - km (f)', \n",
    " 'TERCEIRA FAIXA - (até 2024) - Ext. (km)', \n",
    " 'TERCEIRA FAIXA - (até 2024) - PERCENTUAL (%) PLAN', \n",
    " 'TERCEIRA FAIXA - (até 2024) - (km)% PLAN', \n",
    " 'TERCEIRA FAIXA - (até 2024) - FINANCEIRO PLAN (R$)', \n",
    " 'TERCEIRA FAIXA - (até 2024) - PERCENTUAL (%) EXEC', \n",
    " 'TERCEIRA FAIXA - (até 2024) - (km)% EXEC', \n",
    " 'TERCEIRA FAIXA - (até 2024) - FINANCEIRO (R$)',\n",
    " 'RISCOS (Terceira Faixa) - SITUAÇÃO',\n",
    " 'RISCOS (Terceira Faixa) - INTERFERÊNCIA',\n",
    " 'RISCOS (Terceira Faixa) - PRINCIPAL',\n",
    " 'RISCOS (Terceira Faixa) - NÍVEL DE ALERTA']\n"
   ]
  },
  {
   "cell_type": "code",
   "execution_count": null,
   "metadata": {},
   "outputs": [],
   "source": [
    "# Criar um dicionário que mapeia 'Unnamed: x' para os novos nomes\n",
    "rename_dict = {'Unnamed: {}'.format(i): name for i, name in enumerate(new_column_names, start=9)}\n",
    "\n",
    "# Usar o método rename para renomear as colunas\n",
    "df_inexec_copy.rename(columns=rename_dict, inplace=True)"
   ]
  },
  {
   "cell_type": "code",
   "execution_count": null,
   "metadata": {},
   "outputs": [],
   "source": [
    "\n",
    "# Identifica colunas que possuem a string 'RISCOS' em seu nome\n",
    "columns_to_drop = [col for col in df_inexec_copy.columns if 'RISCOS' in col or 'OBSERVAÇÕES' in col]\n",
    "\n",
    "# Remove as colunas identificadas\n",
    "df_inexec_copy = df_inexec_copy.drop(columns=columns_to_drop)"
   ]
  },
  {
   "cell_type": "code",
   "execution_count": null,
   "metadata": {},
   "outputs": [],
   "source": [
    "df_inexec_copy"
   ]
  },
  {
   "cell_type": "code",
   "execution_count": null,
   "metadata": {},
   "outputs": [],
   "source": [
    "df_inexec_copy.dropna(subset=['ESTADO/LOTE'])"
   ]
  },
  {
   "cell_type": "code",
   "execution_count": null,
   "metadata": {},
   "outputs": [],
   "source": [
    "columns_to_fill = ['EMPREENDIMENTO']\n",
    "df_inexec_copy[columns_to_fill] = df_inexec_copy.groupby((df_inexec_copy['BR'] == 1).cumsum())[columns_to_fill].transform(lambda x: x.ffill())"
   ]
  },
  {
   "cell_type": "code",
   "execution_count": null,
   "metadata": {},
   "outputs": [],
   "source": [
    "df_inexec_copy['ESTADO/LOTE'] = df_inexec_copy['ESTADO/LOTE'].apply(lambda x: x if str(x) in ['RIO GRANDE DO SUL', 'MINAS GERAIS', 'GOIÁS',\n",
    "       'SANTA CATARINA', 'TOCANTINS', 'GOIAS', 'RIO DE JANEIRO',\n",
    "       'MATO GROSSO', 'PARÁ', 'RIO/SP', 'SÃO PAULO', 'PARANÁ', 'BAHIA',\n",
    "       'ESPIRITO SANTO', 'MATO GROSSO DO SUL'] else pd.NA)\n",
    "\n",
    "# Agora preenchemos para baixo até encontrar o próximo valor não-NaN (isto é, a próxima 'Situação')\n",
    "df_inexec_copy['ESTADO/LOTE'] = df_inexec_copy['ESTADO/LOTE'].fillna(method='ffill')"
   ]
  },
  {
   "cell_type": "code",
   "execution_count": null,
   "metadata": {},
   "outputs": [],
   "source": [
    "df_inexec_copy = df_inexec_copy[~df_inexec_copy.apply(lambda row: row.astype(str).str.contains('TOTAL|SOMA').any(), axis=1)]"
   ]
  },
  {
   "cell_type": "code",
   "execution_count": null,
   "metadata": {},
   "outputs": [],
   "source": [
    "df_inexec_copy.columns"
   ]
  },
  {
   "cell_type": "code",
   "execution_count": null,
   "metadata": {},
   "outputs": [],
   "source": [
    "df_inexec_copy.index = range(1, len(df_inexec_copy) + 1)\n",
    "df_inexec_copy.index.name = 'ID-ÚNICO'\n",
    "df_inexec_copy = df_inexec_copy.reset_index()"
   ]
  },
  {
   "cell_type": "code",
   "execution_count": null,
   "metadata": {},
   "outputs": [],
   "source": [
    "df_inexec_raw = df_inexec_copy"
   ]
  },
  {
   "cell_type": "code",
   "execution_count": null,
   "metadata": {},
   "outputs": [],
   "source": [
    "# df_inexec_copy.to_excel('Dados Gerados/RAW_iNEXECUTADO (pendências até 24).xlsx', index=False)"
   ]
  },
  {
   "cell_type": "code",
   "execution_count": null,
   "metadata": {},
   "outputs": [],
   "source": [
    "colunas_manter = ['ID-ÚNICO', 'SETOR', 'UF', 'ESTADO/LOTE', 'BR', 'EMPREENDIMENTO',\n",
    "       'PROPONENTE', 'EXECUTOR (Grupo Controlador)', 'ESTRUTURADOR DO PROJETO']\n",
    "\n",
    "# Use 'difference' para obter as colunas a serem unpivotadas\n",
    "colunas_unpivot = df_inexec_copy.columns.difference(colunas_manter)\n",
    "\n",
    "# Realizar o unpivot (melt) das outras colunas\n",
    "df_inexec_copy = df_inexec_copy.melt(id_vars=colunas_manter, value_vars=colunas_unpivot,\n",
    "                    var_name='Atributo', value_name='Valor')"
   ]
  },
  {
   "cell_type": "code",
   "execution_count": null,
   "metadata": {},
   "outputs": [],
   "source": [
    "df_inexec_copy['EMPREENDIMENTO'].unique()"
   ]
  },
  {
   "cell_type": "code",
   "execution_count": null,
   "metadata": {},
   "outputs": [],
   "source": [
    "df_inexec_copy = df_inexec_copy.loc[df_inexec_copy['Valor'] != 0]\n",
    "df_inexec_copy = df_inexec_copy.dropna(subset=['Valor'])"
   ]
  },
  {
   "cell_type": "code",
   "execution_count": null,
   "metadata": {},
   "outputs": [],
   "source": [
    "df_inexec_copy[['Atributo.1', 'Atributo.3', 'Atributo.2']] = df_inexec_copy['Atributo'].str.split(' - ', expand=True)"
   ]
  },
  {
   "cell_type": "code",
   "execution_count": null,
   "metadata": {},
   "outputs": [],
   "source": [
    "# DROP de ['Atributo'] e Realocar ['Valor'] para o final da Tabela.\n",
    "\n",
    "df_inexec_copy = df_inexec_copy[['ID-ÚNICO', 'SETOR', 'UF', 'ESTADO/LOTE', 'BR', 'EMPREENDIMENTO',\n",
    "       'PROPONENTE', 'EXECUTOR (Grupo Controlador)', 'ESTRUTURADOR DO PROJETO'\n",
    "       , 'Atributo.1', 'Atributo.2', 'Atributo.3', 'Valor']]"
   ]
  },
  {
   "cell_type": "code",
   "execution_count": null,
   "metadata": {},
   "outputs": [],
   "source": [
    "'''df_inexec_copy['Atributo.1'] = df_inexec_copy['Atributo.1'].apply(\n",
    "    lambda x: x.replace('CONTORNO (até 2023)', 'CONTORNO')\n",
    "              .replace('DUPLICAÇÃO (até 2023)', 'DUPLICAÇÃO')\n",
    "              .replace('FX ADICIONAL (até 2023)', 'FX ADICIONAL')\n",
    "              .replace('OAE (até 2023)', 'OAE')\n",
    "              .replace('PAVIMENTAÇÃO (até 2023)', 'PAVIMENTAÇÃO')\n",
    "              .replace('TERCEIRA FAIXA (até 2023)', 'TERCEIRA FAIXA')\n",
    ")'''"
   ]
  },
  {
   "cell_type": "code",
   "execution_count": null,
   "metadata": {},
   "outputs": [],
   "source": [
    "# Converter colunas para 'category'\n",
    "df_inexec_copy['SETOR'] = df_inexec_copy['SETOR'].astype('category')\n",
    "df_inexec_copy['UF'] = df_inexec_copy['UF'].astype('category')\n",
    "df_inexec_copy['PROPONENTE'] = df_inexec_copy['PROPONENTE'].astype('category')\n",
    "df_inexec_copy['EXECUTOR (Grupo Controlador)'] = df_inexec_copy['EXECUTOR (Grupo Controlador)'].astype('category')\n",
    "df_inexec_copy['ESTRUTURADOR DO PROJETO'] = df_inexec_copy['ESTRUTURADOR DO PROJETO'].astype('category')\n",
    "df_inexec_copy['Atributo.1'] = df_inexec_copy['Atributo.1'].astype('category')\n",
    "df_inexec_copy['Atributo.2'] = df_inexec_copy['Atributo.2'].astype('category')\n",
    "\n",
    "# Converter colunas para 'string'\n",
    "df_inexec_copy['EMPREENDIMENTO'] = df_inexec_copy['EMPREENDIMENTO'].astype('string') \n"
   ]
  },
  {
   "cell_type": "code",
   "execution_count": null,
   "metadata": {},
   "outputs": [],
   "source": [
    "df_inexec_copy = df_inexec_copy.sort_values(by='ID-ÚNICO', ascending=True)"
   ]
  },
  {
   "cell_type": "code",
   "execution_count": null,
   "metadata": {},
   "outputs": [],
   "source": [
    "df_inexec_copy"
   ]
  },
  {
   "cell_type": "code",
   "execution_count": null,
   "metadata": {},
   "outputs": [],
   "source": [
    "df_inexec_copy.to_excel('Dados Gerados/iNEXECUTADO (pendências até 24).xlsx', index=False)"
   ]
  },
  {
   "cell_type": "markdown",
   "metadata": {},
   "source": [
    "<h1><b><i>'À EXECUTAR (2026 DIANTE)'</b></i></h1>"
   ]
  },
  {
   "cell_type": "code",
   "execution_count": null,
   "metadata": {},
   "outputs": [],
   "source": [
    "#CHECKPOINT\n",
    "df_a_executar_copy = df_a_executar.copy()"
   ]
  },
  {
   "cell_type": "code",
   "execution_count": null,
   "metadata": {},
   "outputs": [],
   "source": [
    "df_a_executar_copy = pd.read_excel(file_path, sheet_name='À EXECUTAR (2026 DIANTE)', header=2)"
   ]
  },
  {
   "cell_type": "code",
   "execution_count": null,
   "metadata": {},
   "outputs": [],
   "source": [
    "df_a_executar_copy"
   ]
  },
  {
   "cell_type": "code",
   "execution_count": null,
   "metadata": {},
   "outputs": [],
   "source": [
    "df_a_executar_copy = df_a_executar_copy.drop([0, 1, 2], axis = 0)"
   ]
  },
  {
   "cell_type": "code",
   "execution_count": null,
   "metadata": {},
   "outputs": [],
   "source": [
    "# Renomear Coluna ['EXECUTOR...']\n",
    "df_a_executar_copy.rename(columns={'EXECUTOR             (Grupo Controlador)': 'EXECUTOR (Grupo Controlador)'}, inplace=True)\n",
    "\n",
    "df_a_executar_copy.rename(columns={'PAVIMENTAÇÃO': 'PAVIMENTAÇÃO - 2026 - Descrição'}, inplace=True)\n",
    "df_a_executar_copy.rename(columns={'DUPLICAÇÃO': 'DUPLICAÇÃO - 2026 - Descrição'}, inplace=True)\n",
    "df_a_executar_copy.rename(columns={'OAE': 'OAE - 2026 - Descrição'}, inplace=True)\n",
    "df_a_executar_copy.rename(columns={'CONTORNO': 'CONTORNO - 2026 - Descrição'}, inplace=True)\n",
    "df_a_executar_copy.rename(columns={'FX ADICIONAL': 'FX ADICIONAL - 2026 - Descrição'}, inplace=True)\n",
    "df_a_executar_copy.rename(columns={'TERCEIRA FAIXA': 'TERCEIRA FAIXA - 2026 - Descrição'}, inplace=True)"
   ]
  },
  {
   "cell_type": "code",
   "execution_count": null,
   "metadata": {},
   "outputs": [],
   "source": [
    "new_column_names = ['PAVIMENTAÇÃO - 2026 - km (i)', \n",
    "                    'PAVIMENTAÇÃO - 2026 - km (f)', \n",
    "                    'PAVIMENTAÇÃO - 2026 - Ext. (km)', \n",
    "                    'PAVIMENTAÇÃO - 2026 - PERCENTUAL (%)', \n",
    "                    'PAVIMENTAÇÃO - 2026 - (km)%', \n",
    "                    'PAVIMENTAÇÃO - 2026 - FINANCEIRO (R$)',\n",
    "                    'PAVIMENTAÇÃO - 2026 - Descrição', \n",
    "                    'PAVIMENTAÇÃO - Pós 2026 - km (i)', \n",
    "                    'PAVIMENTAÇÃO - Pós 2026 - km (f)', \n",
    "                    'PAVIMENTAÇÃO - Pós 2026 - Ext. (km)', \n",
    "                    'PAVIMENTAÇÃO - Pós 2026 - PERCENTUAL (%)', \n",
    "                    'PAVIMENTAÇÃO - Pós 2026 - (km)%', \n",
    "                    'PAVIMENTAÇÃO - Pós 2026 - FINANCEIRO (R$)', \n",
    "                    'PAVIMENTAÇÃO - Pós 2026 - REL. FÍSICO (km)', \n",
    "                    'PAVIMENTAÇÃO - Pós 2026 - REL.FINANCEIRO (R$)',\n",
    "                    'DUPLICAÇÃO - 2026 - Descrição', \n",
    "                    'DUPLICAÇÃO - 2026 - km (i)', 'DUPLICAÇÃO - 2026 - km (f)', 'DUPLICAÇÃO - 2026 - Ext. (km)', \n",
    "                    'DUPLICAÇÃO - 2026 - PERCENTUAL (%)', 'DUPLICAÇÃO - 2026 - (km)%', 'DUPLICAÇÃO - 2026 - FINANCEIRO (R$)', \n",
    "                    'DUPLICAÇÃO - Pós 2026 - Descrição', 'DUPLICAÇÃO - Pós 2026 - km (i)', 'DUPLICAÇÃO - Pós 2026 - km (f)', \n",
    "                    'DUPLICAÇÃO - Pós 2026 - Ext. (km)', 'DUPLICAÇÃO - Pós 2026 - PERCENTUAL (%)', 'DUPLICAÇÃO - Pós 2026 - (km)%', \n",
    "                    'DUPLICAÇÃO - Pós 2026 - FINANCEIRO (R$)', 'DUPLICAÇÃO - Pós 2026 - REL. FÍSICO (km)', 'DUPLICAÇÃO - Pós 2026 - REL.FINANCEIRO (R$)',\n",
    "                    'OAE - 2026 - Descrição', \n",
    "                    'OAE - 2026 - km (i)', 'OAE - 2026 - km (f)', 'OAE - 2026 - Ext. (km)', \n",
    "                    'OAE - 2026 - PERCENTUAL (%)', 'OAE - 2026 - (km)%', 'OAE - 2026 - FINANCEIRO (R$)', \n",
    "                    'OAE - Pós 2026 - Descrição', 'OAE - Pós 2026 - km (i)', 'OAE - Pós 2026 - km (f)', \n",
    "                    'OAE - Pós 2026 - Ext. (km)', 'OAE - Pós 2026 - PERCENTUAL (%)', 'OAE - Pós 2026 - (km)%', \n",
    "                    'OAE - Pós 2026 - FINANCEIRO (R$)', 'OAE - Pós 2026 - REL. FÍSICO (km)', 'OAE - Pós 2026 - REL.FINANCEIRO (R$)',\n",
    "                    'CONTORNO - 2026 - Descrição', \n",
    "                    'CONTORNO - 2026 - km (i)', 'CONTORNO - 2026 - km (f)', 'CONTORNO - 2026 - Ext. (km)', \n",
    "                    'CONTORNO - 2026 - PERCENTUAL (%)', 'CONTORNO - 2026 - (km)%', 'CONTORNO - 2026 - FINANCEIRO (R$)', \n",
    "                    'CONTORNO - Pós 2026 - Descrição', 'CONTORNO - Pós 2026 - km (i)', 'CONTORNO - Pós 2026 - km (f)', \n",
    "                    'CONTORNO - Pós 2026 - Ext. (km)', 'CONTORNO - Pós 2026 - PERCENTUAL (%)', 'CONTORNO - Pós 2026 - (km)%', \n",
    "                    'CONTORNO - Pós 2026 - FINANCEIRO (R$)', 'CONTORNO - Pós 2026 - REL. FÍSICO (km)', 'CONTORNO - Pós 2026 - REL.FINANCEIRO (R$)',\n",
    "                    'FX ADICIONAL - 2026 - Descrição', \n",
    "                    'FX ADICIONAL - 2026 - km (i)', 'FX ADICIONAL - 2026 - km (f)', 'FX ADICIONAL - 2026 - Ext. (km)', \n",
    "                    'FX ADICIONAL - 2026 - PERCENTUAL (%)', 'FX ADICIONAL - 2026 - (km)%', 'FX ADICIONAL - 2026 - FINANCEIRO (R$)', \n",
    "                    'FX ADICIONAL - Pós 2026 - Descrição', 'FX ADICIONAL - Pós 2026 - km (i)', 'FX ADICIONAL - Pós 2026 - km (f)', \n",
    "                    'FX ADICIONAL - Pós 2026 - Ext. (km)', 'FX ADICIONAL - Pós 2026 - PERCENTUAL (%)', 'FX ADICIONAL - Pós 2026 - (km)%', \n",
    "                    'FX ADICIONAL - Pós 2026 - FINANCEIRO (R$)', 'FX ADICIONAL - Pós 2026 - REL. FÍSICO (km)', 'FX ADICIONAL - Pós 2026 - REL.FINANCEIRO (R$)',\n",
    "                    'TERCEIRA FAIXA - 2026 - Descrição', \n",
    "                    'TERCEIRA FAIXA - 2026 - km (i)', 'TERCEIRA FAIXA - 2026 - km (f)', 'TERCEIRA FAIXA - 2026 - Ext. (km)', \n",
    "                    'TERCEIRA FAIXA - 2026 - PERCENTUAL (%)', 'TERCEIRA FAIXA - 2026 - (km)%', 'TERCEIRA FAIXA - 2026 - FINANCEIRO (R$)', \n",
    "                    'TERCEIRA FAIXA - Pós 2026 - Descrição', 'TERCEIRA FAIXA - Pós 2026 - km (i)', 'TERCEIRA FAIXA - Pós 2026 - km (f)', \n",
    "                    'TERCEIRA FAIXA - Pós 2026 - Ext. (km)', 'TERCEIRA FAIXA - Pós 2026 - PERCENTUAL (%)', 'TERCEIRA FAIXA - Pós 2026 - (km)%', \n",
    "                    'TERCEIRA FAIXA - Pós 2026 - FINANCEIRO (R$)', 'TERCEIRA FAIXA - Pós 2026 - REL. FÍSICO (km)', 'TERCEIRA FAIXA - Pós 2026 - REL.FINANCEIRO (R$)']"
   ]
  },
  {
   "cell_type": "code",
   "execution_count": null,
   "metadata": {},
   "outputs": [],
   "source": [
    "# Criar um dicionário que mapeia 'Unnamed: x' para os novos nomes\n",
    "rename_dict = {'Unnamed: {}'.format(i): name for i, name in enumerate(new_column_names, start=9)}\n",
    "\n",
    "# Usar o método rename para renomear as colunas\n",
    "df_a_executar_copy.rename(columns=rename_dict, inplace=True)"
   ]
  },
  {
   "cell_type": "code",
   "execution_count": null,
   "metadata": {},
   "outputs": [],
   "source": [
    "df_a_executar_copy"
   ]
  },
  {
   "cell_type": "code",
   "execution_count": null,
   "metadata": {},
   "outputs": [],
   "source": [
    "df_a_executar_copy.dropna(subset=['ESTADO/LOTE'])"
   ]
  },
  {
   "cell_type": "code",
   "execution_count": null,
   "metadata": {},
   "outputs": [],
   "source": [
    "columns_to_fill = ['EMPREENDIMENTO']\n",
    "df_a_executar_copy[columns_to_fill] = df_a_executar_copy.groupby((df_a_executar_copy['BR'] == 1).cumsum())[columns_to_fill].transform(lambda x: x.ffill())"
   ]
  },
  {
   "cell_type": "code",
   "execution_count": null,
   "metadata": {},
   "outputs": [],
   "source": [
    "df_a_executar_copy['ESTADO/LOTE'] = df_a_executar_copy['ESTADO/LOTE'].apply(lambda x: x if str(x) in ['RIO GRANDE DO SUL', 'MINAS GERAIS', 'GOIÁS',\n",
    "       'SANTA CATARINA', 'TOCANTINS', 'GOIAS', 'RIO DE JANEIRO',\n",
    "       'MATO GROSSO', 'PARÁ', 'RIO/SP', 'SÃO PAULO', 'PARANÁ', 'BAHIA',\n",
    "       'ESPIRITO SANTO', 'MATO GROSSO DO SUL'] else pd.NA)\n",
    "\n",
    "# Agora preenchemos para baixo até encontrar o próximo valor não-NaN (isto é, a próxima 'Situação')\n",
    "df_a_executar_copy['ESTADO/LOTE'] = df_a_executar_copy['ESTADO/LOTE'].fillna(method='ffill')"
   ]
  },
  {
   "cell_type": "code",
   "execution_count": null,
   "metadata": {},
   "outputs": [],
   "source": [
    "df_a_executar_copy = df_a_executar_copy[~df_a_executar_copy.apply(lambda row: row.astype(str).str.contains('TOTAL|SOMA').any(), axis=1)]"
   ]
  },
  {
   "cell_type": "code",
   "execution_count": null,
   "metadata": {},
   "outputs": [],
   "source": [
    "df_a_executar_copy.columns"
   ]
  },
  {
   "cell_type": "code",
   "execution_count": null,
   "metadata": {},
   "outputs": [],
   "source": [
    "df_a_executar_copy.index = range(1, len(df_a_executar_copy) + 1)\n",
    "df_a_executar_copy.index.name = 'ID-ÚNICO'\n",
    "df_a_executar_copy = df_a_executar_copy.reset_index()"
   ]
  },
  {
   "cell_type": "code",
   "execution_count": null,
   "metadata": {},
   "outputs": [],
   "source": [
    "df_a_executar_raw = df_a_executar_copy"
   ]
  },
  {
   "cell_type": "code",
   "execution_count": null,
   "metadata": {},
   "outputs": [],
   "source": [
    "# df_a_executar_copy.to_excel('Dados Gerados/RAW_À EXECUTAR (2026 DIANTE).xlsx', index=False)"
   ]
  },
  {
   "cell_type": "code",
   "execution_count": null,
   "metadata": {},
   "outputs": [],
   "source": [
    "colunas_manter = ['ID-ÚNICO', 'SETOR', 'UF', 'ESTADO/LOTE', 'BR', 'EMPREENDIMENTO',\n",
    "       'PROPONENTE', 'EXECUTOR (Grupo Controlador)', 'ESTRUTURADOR DO PROJETO']\n",
    "\n",
    "# Use 'difference' para obter as colunas a serem unpivotadas\n",
    "colunas_unpivot = df_a_executar_copy.columns.difference(colunas_manter)\n",
    "\n",
    "# Realizar o unpivot (melt) das outras colunas\n",
    "df_a_executar_copy = df_a_executar_copy.melt(id_vars=colunas_manter, value_vars=colunas_unpivot,\n",
    "                    var_name='Atributo', value_name='Valor')"
   ]
  },
  {
   "cell_type": "code",
   "execution_count": null,
   "metadata": {},
   "outputs": [],
   "source": [
    "df_a_executar_copy['EMPREENDIMENTO'].unique()"
   ]
  },
  {
   "cell_type": "code",
   "execution_count": null,
   "metadata": {},
   "outputs": [],
   "source": [
    "df_a_executar_copy = df_a_executar_copy.loc[df_a_executar_copy['Valor'] != 0]\n",
    "df_a_executar_copy = df_a_executar_copy.dropna(subset=['Valor'])"
   ]
  },
  {
   "cell_type": "code",
   "execution_count": null,
   "metadata": {},
   "outputs": [],
   "source": [
    "df_a_executar_copy[['Atributo.1', 'Atributo.3', 'Atributo.2']] = df_a_executar_copy['Atributo'].str.split(' - ', expand=True)"
   ]
  },
  {
   "cell_type": "code",
   "execution_count": null,
   "metadata": {},
   "outputs": [],
   "source": [
    "# DROP de ['Atributo'] e Realocar ['Valor'] para o final da Tabela.\n",
    "\n",
    "df_a_executar_copy = df_a_executar_copy[['ID-ÚNICO', 'SETOR', 'UF', 'ESTADO/LOTE', 'BR', 'EMPREENDIMENTO',\n",
    "       'PROPONENTE', 'EXECUTOR (Grupo Controlador)', 'ESTRUTURADOR DO PROJETO'\n",
    "       , 'Atributo.1', 'Atributo.2', 'Atributo.3', 'Valor']]"
   ]
  },
  {
   "cell_type": "code",
   "execution_count": null,
   "metadata": {},
   "outputs": [],
   "source": [
    "df_a_executar_copy['Atributo.1'].unique()"
   ]
  },
  {
   "cell_type": "code",
   "execution_count": null,
   "metadata": {},
   "outputs": [],
   "source": [
    "'''\n",
    "\n",
    "df_a_executar_copy['Atributo.1'] = df_a_executar_copy['Atributo.1'].apply(\n",
    "    lambda x: x.replace('CONTORNO ', 'CONTORNO')\n",
    "              .replace('DUPLICAÇÃO ', 'DUPLICAÇÃO')\n",
    "              .replace('FX ADICIONAL ', 'FX ADICIONAL')\n",
    "              .replace('OAE ', 'OAE')\n",
    "              .replace('PAVIMENTAÇÃO ', 'PAVIMENTAÇÃO')\n",
    "              .replace('TERCEIRA FAIXA ', 'TERCEIRA FAIXA')\n",
    ")\n",
    "'''"
   ]
  },
  {
   "cell_type": "code",
   "execution_count": null,
   "metadata": {},
   "outputs": [],
   "source": [
    "df_a_executar_copy['Atributo.2'].unique()"
   ]
  },
  {
   "cell_type": "code",
   "execution_count": null,
   "metadata": {},
   "outputs": [],
   "source": [
    "# Converter colunas para 'category'\n",
    "df_a_executar_copy['SETOR'] = df_a_executar_copy['SETOR'].astype('category')\n",
    "df_a_executar_copy['UF'] = df_a_executar_copy['UF'].astype('category')\n",
    "df_a_executar_copy['PROPONENTE'] = df_a_executar_copy['PROPONENTE'].astype('category')\n",
    "df_a_executar_copy['EXECUTOR (Grupo Controlador)'] = df_a_executar_copy['EXECUTOR (Grupo Controlador)'].astype('category')\n",
    "df_a_executar_copy['ESTRUTURADOR DO PROJETO'] = df_a_executar_copy['ESTRUTURADOR DO PROJETO'].astype('category')\n",
    "df_a_executar_copy['Atributo.1'] = df_a_executar_copy['Atributo.1'].astype('category')\n",
    "df_a_executar_copy['Atributo.2'] = df_a_executar_copy['Atributo.2'].astype('category')\n",
    "\n",
    "# Converter colunas para 'string'\n",
    "df_a_executar_copy['EMPREENDIMENTO'] = df_a_executar_copy['EMPREENDIMENTO'].astype('string') \n"
   ]
  },
  {
   "cell_type": "code",
   "execution_count": null,
   "metadata": {},
   "outputs": [],
   "source": [
    "df_a_executar_copy = df_a_executar_copy.sort_values(by='ID-ÚNICO', ascending=True)"
   ]
  },
  {
   "cell_type": "code",
   "execution_count": null,
   "metadata": {},
   "outputs": [],
   "source": [
    "df_a_executar_copy"
   ]
  },
  {
   "cell_type": "code",
   "execution_count": null,
   "metadata": {},
   "outputs": [],
   "source": [
    "df_a_executar_copy.to_excel('Dados Gerados/À EXECUTAR (2026 DIANTE).xlsx', index=False)"
   ]
  },
  {
   "cell_type": "markdown",
   "metadata": {},
   "source": [
    "<h1><b><i>RISCOS - BI</b></i></h1>\n"
   ]
  },
  {
   "cell_type": "code",
   "execution_count": null,
   "metadata": {},
   "outputs": [],
   "source": [
    "df_riscos = pd.read_excel('Planilha Monitoramento de Riscos_Modelo_RODOVIÁRIO_20_02_24.xlsx')"
   ]
  },
  {
   "cell_type": "code",
   "execution_count": null,
   "metadata": {},
   "outputs": [],
   "source": [
    "file_path = 'Planilha Monitoramento de Riscos_Modelo_RODOVIÁRIO_20_02_24.xlsx'"
   ]
  },
  {
   "cell_type": "code",
   "execution_count": null,
   "metadata": {},
   "outputs": [],
   "source": [
    "#CHECKPOINT\n",
    "df_riscos_copy = df_riscos.copy()"
   ]
  },
  {
   "cell_type": "code",
   "execution_count": null,
   "metadata": {},
   "outputs": [],
   "source": [
    "df_riscos_copy = pd.read_excel(file_path, sheet_name='RISCOS AMBIENTAIS', header=2)\n"
   ]
  },
  {
   "cell_type": "code",
   "execution_count": null,
   "metadata": {},
   "outputs": [],
   "source": [
    "df_riscos_copy.columns"
   ]
  },
  {
   "cell_type": "code",
   "execution_count": null,
   "metadata": {},
   "outputs": [],
   "source": [
    "df_riscos_copy = df_riscos_copy.rename(columns={'Unnamed: 3': 'Bin', 'Unnamed: 11': 'km(i)', 'Unnamed: 12': 'km(f)', \n",
    "                                                'Unnamed: 13': 'Ext.(km)', 'Unnamed: 14': 'FINANCEIRO(R$)',\n",
    "                                                'Unnamed: 17': 'LI', 'Unnamed: 18': 'LO', 'Unnamed: 21': 'SISGLAF', \n",
    "                                                'Unnamed: 22': 'SEI', 'Unnamed: 27': 'Data do Atendimento', \n",
    "                                                'Unnamed: 28': 'NÍVEL DE ALERTA',\n",
    "                                                'EXECUTOR             (Grupo Controlador)': 'EXECUTOR\\n(Grupo Controlador)',\n",
    "                                                'LOCALIZAÇÃO': 'Descrição', \n",
    "                                                'PER': 'PER\\nANO(Execução)', \n",
    "                                                'LICENÇAS': 'LP', \n",
    "                                                'OBRAS': 'DATA DE INÍCIO', 'PROCESSO': 'SINAFLOR', \n",
    "                                                'INTERFERÊNCIAS.1': 'Risco Principal'})"
   ]
  },
  {
   "cell_type": "code",
   "execution_count": null,
   "metadata": {},
   "outputs": [],
   "source": [
    "# Agora, modifique as colunas 'km(i)' e 'km(f)' para incluir o '+'\n",
    "for col in ['km(i)', 'km(f)']:\n",
    "    df_riscos_copy[col] = df_riscos_copy[col].astype(str).str.replace('(\\d{3})(\\d+)', r'\\1+\\2', regex=True)"
   ]
  },
  {
   "cell_type": "code",
   "execution_count": null,
   "metadata": {},
   "outputs": [],
   "source": [
    "# Colunas que precisam ser preenchidas até encontrar '1' em 'BR'\n",
    "colunas_para_preencher = ['EMPREENDIMENTO', 'EXECUTOR\\n(Grupo Controlador)',\n",
    "       'DATA DE INÍCIO DA CONCESSÃO', 'ANO DA CONCESSÃO']\n",
    "\n",
    "# Iterar sobre as linhas do DataFrame\n",
    "for coluna in colunas_para_preencher:\n",
    "    valor_atual = None\n",
    "    for idx, row in df_riscos_copy.iterrows():\n",
    "        # Checa se 'BR' é '1' ou se a linha da coluna a ser preenchida não está vazia\n",
    "        if row['BR'] == '1' or pd.notna(row[coluna]):\n",
    "            valor_atual = row[coluna]\n",
    "        df_riscos_copy.at[idx, coluna] = valor_atual"
   ]
  },
  {
   "cell_type": "code",
   "execution_count": null,
   "metadata": {},
   "outputs": [],
   "source": [
    "df_riscos_copy = df_riscos_copy.drop([0, 1, 2], axis = 0)\n",
    "df_riscos_copy = df_riscos_copy.reset_index(drop=True)"
   ]
  },
  {
   "cell_type": "code",
   "execution_count": null,
   "metadata": {},
   "outputs": [],
   "source": [
    "df_riscos_copy = df_riscos_copy.loc[df_riscos_copy['BR'] != 1]"
   ]
  },
  {
   "cell_type": "code",
   "execution_count": null,
   "metadata": {},
   "outputs": [],
   "source": [
    "df_riscos_copy['BR'].unique()"
   ]
  },
  {
   "cell_type": "code",
   "execution_count": null,
   "metadata": {},
   "outputs": [],
   "source": [
    "df_riscos_copy = df_riscos_copy.reset_index(drop=True)"
   ]
  },
  {
   "cell_type": "code",
   "execution_count": null,
   "metadata": {},
   "outputs": [],
   "source": [
    "# Função para limpar e converter as datas para o formato datetime\n",
    "def limpar_e_converter_data(data):\n",
    "    # Tratar dados como string para evitar problemas com diferentes tipos\n",
    "    data = str(data)\n",
    "    # Substituir '//'' por '/'\n",
    "    data = data.replace('//', '/')\n",
    "    # Substituir '/' por '-'\n",
    "    data = data.replace('/', '-')\n",
    "    # Tentar converter para datetime\n",
    "    return pd.to_datetime(data, errors='coerce', dayfirst=True)\n",
    "\n",
    "# Aplicar a função no DataFrame\n",
    "# Substitua 'df_riscos_copy' pelo nome do seu DataFrame e 'DATA DE INÍCIO DA CONCESSÃO' pelo nome da coluna que contém as datas\n",
    "df_riscos_copy['DATA DE INÍCIO DA CONCESSÃO'] = df_riscos_copy['DATA DE INÍCIO DA CONCESSÃO'].apply(limpar_e_converter_data)"
   ]
  },
  {
   "cell_type": "code",
   "execution_count": null,
   "metadata": {},
   "outputs": [],
   "source": [
    "# Converter colunas para 'category'\n",
    "df_riscos_copy['SETOR'] = df_riscos_copy['SETOR'].astype('object')\n",
    "df_riscos_copy['UF'] = df_riscos_copy['UF'].astype('category')\n",
    "df_riscos_copy['INTERFERÊNCIAS'] = df_riscos_copy['INTERFERÊNCIAS'].astype('category')\n",
    "df_riscos_copy['INTERVENÇÃO AFETADA'] = df_riscos_copy['INTERVENÇÃO AFETADA'].astype('category')\n",
    "df_riscos_copy['EXECUTOR\\n(Grupo Controlador)'] = df_riscos_copy['EXECUTOR\\n(Grupo Controlador)'].astype('category')\n",
    "#df_riscos_copy['PROCESSO'] = df_riscos_copy['PROCESSO'].astype('category')\n",
    "df_riscos_copy['Risco Principal'] = df_riscos_copy['Risco Principal'].astype('category')\n",
    "#df_riscos_copy['Licenças'] = df_riscos_copy['Licenças'].astype('category')\n",
    "#df_riscos_copy['Valor_Licenças'] = df_riscos_copy['Valor_Licenças'].astype('category')\n",
    "df_riscos_copy['CRITICIDADE'] = df_riscos_copy['CRITICIDADE'].astype('category')\n",
    "df_riscos_copy['NÍVEL DE ALERTA'] = df_riscos_copy['NÍVEL DE ALERTA'].astype('category')\n",
    "\n",
    "# Converter colunas para 'int'\n",
    "df_riscos_copy['FINANCEIRO(R$)'] = df_riscos_copy['FINANCEIRO(R$)'].replace('[\\$]', '', regex=True).replace(',', '.', regex=True)\n",
    "df_riscos_copy['FINANCEIRO(R$)'] = pd.to_numeric(df_riscos_copy['FINANCEIRO(R$)'], errors='coerce')\n",
    "\n",
    "df_riscos_copy['ANO DA CONCESSÃO'] = pd.to_numeric(df_riscos_copy['ANO DA CONCESSÃO'], errors='coerce').fillna(0).astype(int)\n",
    "\n",
    "# Converter colunas para 'float'\n",
    "df_riscos_copy['Ext.(km)'] = pd.to_numeric(df_riscos_copy['Ext.(km)'], errors='coerce')\n",
    "\n",
    "# Converter colunas para 'string'\n",
    "df_riscos_copy['EMPREENDIMENTO'] = df_riscos_copy['EMPREENDIMENTO'].astype('string')\n",
    "#df_riscos_copy['Nº PROCESSO'] = df_riscos_copy['Nº PROCESSO'].astype('string')\n",
    "df_riscos_copy['Descrição'] = df_riscos_copy['Descrição'].astype('string')\n",
    "df_riscos_copy['SITUAÇÃO GERAL'] = df_riscos_copy['SITUAÇÃO GERAL'].astype('string')  \n",
    "df_riscos_copy['COMENTÁRIOS GERAIS'] = df_riscos_copy['COMENTÁRIOS GERAIS'].astype('string')"
   ]
  },
  {
   "cell_type": "code",
   "execution_count": null,
   "metadata": {},
   "outputs": [],
   "source": [
    "df_riscos_copy.columns"
   ]
  },
  {
   "cell_type": "code",
   "execution_count": null,
   "metadata": {},
   "outputs": [],
   "source": [
    "df_riscos_copy = df_riscos_copy[['SETOR', 'UF', 'BR', 'Bin', 'EMPREENDIMENTO',\n",
    "       'EXECUTOR\\n(Grupo Controlador)', 'DATA DE INÍCIO DA CONCESSÃO',\n",
    "       'ANO DA CONCESSÃO', 'INTERFERÊNCIAS', 'INTERVENÇÃO AFETADA',\n",
    "       'Descrição', 'km(i)', 'km(f)', 'Ext.(km)', 'FINANCEIRO(R$)',\n",
    "       'PER\\nANO(Execução)', 'LP', 'LI', 'LO', 'DATA DE INÍCIO', 'SINAFLOR',\n",
    "       'SISGLAF', 'SEI', 'Risco Principal', 'CRITICIDADE', 'SITUAÇÃO GERAL',\n",
    "       'COMENTÁRIOS GERAIS', 'Data do Atendimento', 'NÍVEL DE ALERTA']]"
   ]
  },
  {
   "cell_type": "code",
   "execution_count": null,
   "metadata": {},
   "outputs": [],
   "source": [
    "#df_riscos_copy.to_excel('Planilha Monitoramento de Riscos_Final.xlsx', index=False)"
   ]
  },
  {
   "cell_type": "markdown",
   "metadata": {},
   "source": [
    "---"
   ]
  },
  {
   "cell_type": "markdown",
   "metadata": {},
   "source": [
    "<h1><b><i>ID - RISCO</b></i></h1>\n",
    "Sheet\n"
   ]
  },
  {
   "cell_type": "code",
   "execution_count": null,
   "metadata": {},
   "outputs": [],
   "source": [
    "df_id_riscos = df_riscos_copy[df_riscos_copy['Bin'] == 1]"
   ]
  },
  {
   "cell_type": "code",
   "execution_count": null,
   "metadata": {},
   "outputs": [],
   "source": [
    "#df_id_riscos = pd.read_excel('Planilha Monitoramento de Riscos_Final.xlsx')"
   ]
  },
  {
   "cell_type": "code",
   "execution_count": null,
   "metadata": {},
   "outputs": [],
   "source": [
    "(df_id_riscos['Bin'] == 1).sum()"
   ]
  },
  {
   "cell_type": "code",
   "execution_count": null,
   "metadata": {},
   "outputs": [],
   "source": [
    "df_id_riscos = df_id_riscos.reset_index(drop=True)"
   ]
  },
  {
   "cell_type": "code",
   "execution_count": null,
   "metadata": {},
   "outputs": [],
   "source": [
    "df_id_riscos.index = range(1, len(df_id_riscos) + 1)"
   ]
  },
  {
   "cell_type": "code",
   "execution_count": null,
   "metadata": {},
   "outputs": [],
   "source": [
    "df_id_riscos.to_excel('RISCOS - LIMPO/ID - RISCOS.xlsx')"
   ]
  },
  {
   "cell_type": "markdown",
   "metadata": {},
   "source": [
    "<h3><b><i>'Descrição'</b></i></h3>\n",
    "Planilha 'Descrição'\n"
   ]
  },
  {
   "cell_type": "code",
   "execution_count": null,
   "metadata": {},
   "outputs": [],
   "source": [
    "df_desc = pd.read_excel('RISCOS - LIMPO/ID - RISCOS.xlsx', sheet_name='Sheet1',\n",
    "    usecols=['COMENTÁRIOS GERAIS'])"
   ]
  },
  {
   "cell_type": "code",
   "execution_count": null,
   "metadata": {},
   "outputs": [],
   "source": [
    "df_desc_copy = df_desc.copy()"
   ]
  },
  {
   "cell_type": "code",
   "execution_count": null,
   "metadata": {},
   "outputs": [],
   "source": [
    "df_desc_copy['COMENTÁRIOS GERAIS'].unique()"
   ]
  },
  {
   "cell_type": "code",
   "execution_count": null,
   "metadata": {},
   "outputs": [],
   "source": [
    "# Inicializa as colunas para cada categoria, incluindo uma para \"Outras Descrições\"\n",
    "categorias = ['Emitida', 'Em análise', 'Aguardando', 'Solicitada', 'Sem informação', 'Pendência', 'Outras Descrições']\n",
    "for categoria in categorias:\n",
    "    df_desc_copy[categoria] = None\n",
    "\n",
    "# Iterando sobre as linhas do DataFrame\n",
    "for index, row in df_desc_copy.iterrows():\n",
    "    texto = row['COMENTÁRIOS GERAIS']\n",
    "    if pd.isna(texto):  # Se a descrição for NaN, pula para a próxima iteração\n",
    "        continue\n",
    "\n",
    "    texto_inicial = texto.split()[0].lower()  # Considera apenas a primeira palavra para a categorização\n",
    "    \n",
    "    # Inicialmente classifica como \"Outras Descrições\"\n",
    "    categoria = 'Outras Descrições'\n",
    "\n",
    "    # Verifica o início da descrição para determinar a categoria\n",
    "    if texto_inicial.startswith('emitida'):\n",
    "        categoria = 'Emitida'\n",
    "    elif texto_inicial.startswith('em') and 'análise' in texto.lower():\n",
    "        categoria = 'Em análise'\n",
    "    elif texto_inicial.startswith('aguardando'):\n",
    "        categoria = 'Aguardando'\n",
    "    elif texto_inicial.startswith('solicitada'):\n",
    "        categoria = 'Solicitada'\n",
    "    elif texto_inicial.startswith('sem') and 'informação' in texto.lower():\n",
    "        categoria = 'Sem informação'\n",
    "    elif texto_inicial.startswith('pendência'):\n",
    "        categoria = 'Pendência'\n",
    "    \n",
    "    # Atribui a descrição à categoria identificada\n",
    "    df_desc_copy.at[index, categoria] = texto"
   ]
  },
  {
   "cell_type": "code",
   "execution_count": null,
   "metadata": {},
   "outputs": [],
   "source": [
    "df_desc_copy"
   ]
  },
  {
   "cell_type": "code",
   "execution_count": null,
   "metadata": {},
   "outputs": [],
   "source": [
    "df_desc_copy = df_desc_copy.drop(columns=['COMENTÁRIOS GERAIS'])"
   ]
  },
  {
   "cell_type": "code",
   "execution_count": null,
   "metadata": {},
   "outputs": [],
   "source": [
    "df_desc_copy.to_excel('RISCOS - LIMPO/Descrições - Risco.xlsx', index=False)"
   ]
  },
  {
   "cell_type": "markdown",
   "metadata": {},
   "source": [
    "<h2><b><i>'ID-RISCO' + 'Descrição'</b></i></h2>\n",
    "Script\n"
   ]
  },
  {
   "cell_type": "code",
   "execution_count": null,
   "metadata": {},
   "outputs": [],
   "source": [
    "import pandas as pd"
   ]
  },
  {
   "cell_type": "code",
   "execution_count": null,
   "metadata": {},
   "outputs": [],
   "source": [
    "df_riscos_concat = pd.read_excel('RISCOS - LIMPO/ID - RISCOS.xlsx')\n",
    "df_desc_concat = pd.read_excel('RISCOS - LIMPO/Descrições - Risco.xlsx')"
   ]
  },
  {
   "cell_type": "code",
   "execution_count": null,
   "metadata": {},
   "outputs": [],
   "source": [
    "df_desc_concat.fillna(0, inplace=True)"
   ]
  },
  {
   "cell_type": "code",
   "execution_count": null,
   "metadata": {},
   "outputs": [],
   "source": [
    "df_final = pd.concat([df_riscos_concat, df_desc_concat], axis=1)"
   ]
  },
  {
   "cell_type": "code",
   "execution_count": null,
   "metadata": {},
   "outputs": [],
   "source": [
    "df_final"
   ]
  },
  {
   "cell_type": "code",
   "execution_count": null,
   "metadata": {},
   "outputs": [],
   "source": [
    "df_final.rename(columns={'Unnamed: 0': 'ID-ÚNICO'}, inplace=True)"
   ]
  },
  {
   "cell_type": "code",
   "execution_count": null,
   "metadata": {},
   "outputs": [],
   "source": [
    "df_final"
   ]
  },
  {
   "cell_type": "markdown",
   "metadata": {},
   "source": [
    "<h2><b><i>'Risco' + 'Lista Suspensa'</b></i></h2>\n",
    "Add colunas de Interferência / Risco Principal\n"
   ]
  },
  {
   "cell_type": "code",
   "execution_count": null,
   "metadata": {},
   "outputs": [],
   "source": [
    "valores_lista_suspensa = [\n",
    "    \"Ausência de licenças/autorizações ambientais para o empreendimento\",\n",
    "    \"Ausência de licenças/autorizações ambientais para as áreas de uso\",\n",
    "    \"Descumprimento de condicionantes ambientais\",\n",
    "    \"Programas ambientais sem execução\",\n",
    "    \"Descumprimento de exigências dos órgãos ambientais e intervenientes\",\n",
    "    \"Descumprimento de exigências de órgãos de controle\",\n",
    "    \"Medidas de proteção e recuperação ambiental previstas no projeto de engenharia não executadas\",\n",
    "    \"RNC não solucionados\",\n",
    "    \"Ausência de ASV\",\n",
    "    \"Interferência com comunidades Quilombolas\",\n",
    "    \"Não existe pendência ambiental\",\n",
    "    \"OUTROS\"\n",
    "]\n",
    "\n",
    "# Criando colunas para cada risco na lista suspensa\n",
    "for risco in valores_lista_suspensa:\n",
    "    nome_coluna = risco.replace(\" \", \"_\").replace(\"/\", \"_\").replace(\"ç\", \"c\").replace(\"ã\", \"a\").replace(\"/\", \"_\").replace(\"(\", \"\").replace(\")\", \"\").replace(\"ó\", \"o\").replace(\"á\", \"a\").replace(\"é\", \"e\").replace(\".\", \"\")\n",
    "    df_final[nome_coluna] = \"\"\n",
    "    \n",
    "    # Preenchendo a nova coluna com 'ID-Único' onde o risco corresponde\n",
    "    df_final.loc[df_final['Risco Principal'] == risco, nome_coluna] = df_final['ID-ÚNICO']"
   ]
  },
  {
   "cell_type": "code",
   "execution_count": null,
   "metadata": {},
   "outputs": [],
   "source": [
    "df_final.to_excel('DADOS - PRONTOS/Riscos - BI.xlsx', index=False, sheet_name= 'RISCOS')"
   ]
  },
  {
   "cell_type": "markdown",
   "metadata": {},
   "source": [
    "---"
   ]
  },
  {
   "cell_type": "markdown",
   "metadata": {},
   "source": [
    "<h1><b><i>Coluna FIN e KM novas</b></i></h1>\n",
    "Sem Duplicadas.\n"
   ]
  },
  {
   "cell_type": "code",
   "execution_count": null,
   "metadata": {},
   "outputs": [],
   "source": [
    "# Carregar o DataFrame\n",
    "riscos_km_fin = pd.read_excel('DADOS - PRONTOS/Riscos - BI.xlsx')\n",
    "riscos_km_fin_copy = riscos_km_fin.copy()"
   ]
  },
  {
   "cell_type": "code",
   "execution_count": null,
   "metadata": {},
   "outputs": [],
   "source": [
    "def remove_duplicated_values(df):\n",
    "    # Define as colunas para identificar duplicatas\n",
    "    cols_to_check = ['INTERFERÊNCIAS', 'INTERVENÇÃO AFETADA', 'Descrição', 'km(i)', 'km(f)']\n",
    "    \n",
    "    # Marcar duplicatas, mantendo a primeira ocorrência de cada grupo\n",
    "    duplicates_mask = df.duplicated(subset=cols_to_check, keep='first')\n",
    "    \n",
    "    # Criando as novas colunas 'Ext.(km)!' e 'FINANCEIRO(R$)!' onde não houver duplicatas\n",
    "    df['Ext.(km)!'] = df['Ext.(km)'].where(~duplicates_mask, None)\n",
    "    df['FINANCEIRO(R$)!'] = df['FINANCEIRO(R$)'].where(~duplicates_mask, None)\n",
    "    \n",
    "    return df"
   ]
  },
  {
   "cell_type": "code",
   "execution_count": null,
   "metadata": {},
   "outputs": [],
   "source": [
    "# Aplicar a função ao DataFrame\n",
    "riscos_km_fin = remove_duplicated_values(riscos_km_fin)"
   ]
  },
  {
   "cell_type": "code",
   "execution_count": null,
   "metadata": {},
   "outputs": [],
   "source": [
    "# Inserir as novas colunas imediatamente após as colunas originais\n",
    "idx_ext_km = riscos_km_fin.columns.get_loc('Ext.(km)') + 1\n",
    "idx_fin = riscos_km_fin.columns.get_loc('FINANCEIRO(R$)') + 1"
   ]
  },
  {
   "cell_type": "code",
   "execution_count": null,
   "metadata": {},
   "outputs": [],
   "source": [
    "riscos_km_fin.insert(idx_ext_km, 'Ext.(km)!', riscos_km_fin.pop('Ext.(km)!'))\n",
    "riscos_km_fin.insert(idx_fin, 'FINANCEIRO(R$)!', riscos_km_fin.pop('FINANCEIRO(R$)!'))"
   ]
  },
  {
   "cell_type": "code",
   "execution_count": null,
   "metadata": {},
   "outputs": [],
   "source": [
    "# Salvar o DataFrame atualizado de volta ao arquivo Excel original\n",
    "riscos_km_fin.to_excel('RISCOS - LIMPO/Riscos - BI.xlsx', index=False, sheet_name= 'RISCOS')"
   ]
  },
  {
   "cell_type": "markdown",
   "metadata": {},
   "source": [
    "---"
   ]
  },
  {
   "cell_type": "markdown",
   "metadata": {},
   "source": [
    "<h1><b><i>Documentação do Processamento dos Dados</i></b></h1>\n",
    "\n",
    "<p>Este documento descreve o processo de limpeza e transformação dos dados presentes no arquivo Excel <code>Planilha de Monitoramento_PPI_2025_25_03_25_PPI_R18.xlsx</code>, especificamente na planilha \"INFORMAÇÕES (1)\". O código realiza várias etapas de manipulação de dados utilizando a biblioteca <code>pandas</code> para organizar, limpar e transformar os dados em um formato mais apropriado para análises subsequentes.</p>\n",
    "\n",
    "<h1><b><i>INFORMAÇÕES (1)</i></b></h1>\n",
    "\n",
    "<h2><b><i>Etapas do Processo</i></b></h2>\n",
    "\n",
    "<h3><b><i>1. Leitura do Arquivo Excel</i></b></h3>\n",
    "<p>O código começa carregando o arquivo Excel e acessando a planilha \"INFORMAÇÕES (1)\" utilizando o método <code>pd.read_excel()</code>. Uma cópia dos dados é feita para evitar alterações no arquivo original.</p>\n",
    "<pre><code>df_informacoes_copy = pd.read_excel(file_path, sheet_name='INFORMAÇÕES (1)', header=2)</code></pre>\n",
    "\n",
    "<h3><b><i>2. Remoção de Linhas Desnecessárias</i></b></h3>\n",
    "<p>Em seguida, o código remove as três primeiras linhas da planilha que contêm informações irrelevantes, além de eliminar as linhas com valores ausentes na coluna <code>BR</code>.</p>\n",
    "<pre><code>df_informacoes_copy = df_informacoes_copy.drop([0, 1, 2], axis=0)</code></pre>\n",
    "<pre><code>df_informacoes_copy = df_informacoes_copy.dropna(subset=['BR'])</code></pre>\n",
    "\n",
    "<h3><b><i>3. Preenchimento de Colunas Nulas</i></b></h3>\n",
    "<p>O código preenche as colunas vazias baseadas em um grupo de dados definido pela coluna <code>BR</code>. Isso é feito utilizando a função <code>transform(lambda x: x.ffill())</code> para realizar o preenchimento de valores faltantes (forward fill).</p>\n",
    "<pre><code>columns_to_fill = ['ESTADO/LOTE', 'EMPREENDIMENTO', 'PROPONENTE', 'EXECUTOR (Grupo Controlador)', 'ESTRUTURADOR DO PROJETO', 'ANO LEILÃO', 'DATA DE INÍCIO']</code></pre>\n",
    "<pre><code>df_informacoes_copy[columns_to_fill] = df_informacoes_copy.groupby((df_informacoes_copy['BR'] == 1).cumsum())[columns_to_fill].transform(lambda x: x.ffill())</code></pre>\n",
    "\n",
    "<h3><b><i>4. Criação e Preenchimento de Colunas Derivadas</i></b></h3>\n",
    "<p>A coluna <code>Situação</code> é criada com base na coluna <code>KM Inicial</code>, sendo preenchida apenas com valores específicos como 'ATIVO', 'CADUCIDADE', 'JUDICIAL', entre outros. O restante dos valores são marcados como <code>NaN</code> e posteriormente preenchidos com o método <code>ffill()</code>.</p>\n",
    "<pre><code>df_informacoes_copy['Situação'] = df_informacoes_copy['KM Inicial'].apply(lambda x: x if str(x) in ['ATIVO', 'CADUCIDADE', 'JUDICIAL', 'RELICITAÇÃO', 'RENEGOCIAÇÃO'] else pd.NA)</code></pre>\n",
    "<pre><code>df_informacoes_copy['Situação'] = df_informacoes_copy['Situação'].fillna(method='ffill')</code></pre>\n",
    "\n",
    "<h3><b><i>5. Tratamento de Dados Numéricos e de Texto</i></b></h3>\n",
    "<p>O código converte as colunas para o tipo adequado:\n",
    "<ul>\n",
    "    <li>Colunas categóricas como <code>SETOR</code>, <code>UF</code>, <code>ESTADO/LOTE</code>, <code>PROPONENTE</code>, etc., são convertidas para o tipo <code>category</code>.</li>\n",
    "    <li>Colunas numéricas como <code>ANO DA CONCESSÃO</code>, <code>PRAZO (anos)</code> são convertidas para o tipo <code>int</code>.</li>\n",
    "    <li>Colunas de valores monetários e distâncias como <code>CAPEX (BI)</code>, <code>OPEX (BI)</code>, <code>INVESTIMENTO TOTAL (BI)</code>, <code>km (i)</code>, <code>km (f)</code> e <code>EXTENSÃO (km)</code> são convertidas para o tipo <code>float</code>.</li>\n",
    "</ul></p>\n",
    "<pre><code>df_informacoes_copy['ANO DA CONCESSÃO'] = pd.to_numeric(df_informacoes_copy['ANO DA CONCESSÃO'], errors='coerce').fillna(0).astype(int)</code></pre>\n",
    "<pre><code>df_informacoes_copy['CAPEX (BI)'] = pd.to_numeric(df_informacoes_copy['CAPEX (BI)'], errors='coerce')</code></pre>\n",
    "\n",
    "<h3><b><i>6. Limpeza de Datas</i></b></h3>\n",
    "<p>As datas na coluna <code>DATA DE INÍCIO</code> são limpas e convertidas para o formato <code>datetime</code> utilizando a função <code>limpar_e_converter_data()</code>, que substitui caracteres indesejados e converte as datas corretamente.</p>\n",
    "<pre><code>df_informacoes_copy['DATA DE INÍCIO'] = df_informacoes_copy['DATA DE INÍCIO'].apply(limpar_e_converter_data)</code></pre>\n",
    "\n",
    "<h3><b><i>7. Filtragem de Dados</i></b></h3>\n",
    "<p>Após a limpeza, o código filtra os dados para considerar apenas os registros onde o valor da coluna <code>BR</code> seja igual a 1. Em seguida, algumas colunas desnecessárias, como <code>SETOR</code>, <code>Região</code>, <code>Descrição do Trecho</code>, etc., são removidas.</p>\n",
    "<pre><code>df_informacoes_copy = df_informacoes_copy[df_informacoes_copy['BR'] == 1]</code></pre>\n",
    "<pre><code>columns_to_drop = ['SETOR', 'Região', 'Descrição do Trecho', 'km (i)', 'km (f)']</code></pre>\n",
    "<pre><code>df_informacoes_copy = df_informacoes_copy.drop(columns=columns_to_drop)</code></pre>\n",
    "\n",
    "<h3><b><i>8. Renomeação de Colunas</i></b></h3>\n",
    "<p>Algumas colunas são renomeadas para facilitar a leitura e padronizar os nomes. O dicionário <code>rename_dict</code> é utilizado para esse propósito.</p>\n",
    "<pre><code>rename_dict = {'UF': 'Região', 'Etapa': 'ETAPA', 'Situação': 'SITUAÇÃO'}</code></pre>\n",
    "<pre><code>df_informacoes_copy = df_informacoes_copy.rename(columns=rename_dict)</code></pre>\n",
    "\n",
    "<h3><b><i>9. Substituição de Valores</i></b></h3>\n",
    "<p>Na coluna <code>EMPREENDIMENTO</code>, ocorre uma substituição do valor 'CONCESSÃO VIA SUL' para 'VIA SUL'.</p>\n",
    "<pre><code>df_informacoes_copy['EMPREENDIMENTO'] = df_informacoes_copy['EMPREENDIMENTO'].replace('CONCESSÃO VIA SUL', 'VIA SUL')</code></pre>\n",
    "\n",
    "<h3><b><i>10. Exportação do Resultado</i></b></h3>\n",
    "<p>Após todas as transformações e limpezas, o DataFrame resultante é exportado para um novo arquivo Excel.</p>\n",
    "<pre><code>df_informacoes_copy.to_excel('NEW-SCRIPT - LIMPO/INFORMAÇÕES (1).xlsx', index=False, sheet_name='INFORMAÇÕES (1)')</code></pre>\n",
    "\n",
    "<h2><b><i>Resumo das Alterações Realizadas</i></b></h2>\n",
    "<ul>\n",
    "    <li>Limpeza e formatação de dados.</li>\n",
    "    <li>Preenchimento de valores ausentes com base em critérios definidos.</li>\n",
    "    <li>Conversão de colunas para tipos de dados adequados.</li>\n",
    "    <li>Remoção de colunas desnecessárias.</li>\n",
    "    <li>Renomeação de colunas para padronização.</li>\n",
    "    <li>Substituição de valores específicos na coluna <code>EMPREENDIMENTO</code>.</li>\n",
    "    <li>Exportação dos dados limpos para um novo arquivo Excel.</li>\n",
    "</ul>\n",
    "<p>Essas etapas garantem que os dados estejam prontos para análises futuras, com todas as informações organizadas e padronizadas.</p>\n"
   ]
  },
  {
   "cell_type": "markdown",
   "metadata": {},
   "source": [
    "---"
   ]
  },
  {
   "cell_type": "markdown",
   "metadata": {},
   "source": [
    "<h1><b><i>PER (1)</i></b></h1>\n",
    "\n",
    "<h2><b><i>Processamento dos Dados</i></b></h2>\n",
    "\n",
    "<p>O código inicia com o carregamento da planilha <code>'PER (1)'</code> para o DataFrame e realiza os seguintes tratamentos:</p>\n",
    "\n",
    "<h3><b><i>Passos Iniciais de Limpeza e Tratamento</i></b></h3>\n",
    "<ul>\n",
    "<li>Criação de uma cópia do DataFrame original <code>df_per_copy</code> e leitura da planilha <code>'PER (1)'</code>.</li>\n",
    "<li>Remoção das três primeiras linhas (índices 0, 1, 2) que são apenas dados de layout.</li>\n",
    "<li>Filtragem para excluir linhas onde a coluna <code>'BR'</code> seja igual a 1.</li>\n",
    "<li>Remoção de linhas com valores nulos nas colunas <code>'BR'</code> e <code>'ESTADO/LOTE'</code>.</li>\n",
    "<li>Ajuste na coluna <code>'ESTADO/LOTE'</code> para garantir que ela contenha apenas valores válidos (estados específicos), preenchendo os valores faltantes com o método de <code>forward fill</code>.</li>\n",
    "</ul>\n",
    "<pre><code>df_per_copy = df_per_copy.drop([0, 1, 2], axis=0)</code></pre>\n",
    "<pre><code>df_per_copy = df_per_copy.loc[df_per_copy['BR'] != 1]</code></pre>\n",
    "<pre><code>df_per_copy = df_per_copy.dropna(subset=['BR'])</code></pre>\n",
    "<pre><code>df_per_copy = df_per_copy.dropna(subset=['ESTADO/LOTE'])</code></pre>\n",
    "\n",
    "<h3><b><i>Renomeação de Colunas</i></b></h3>\n",
    "<p>As colunas são renomeadas para melhorar a leitura e organizar a estrutura das informações, incluindo a adição de ano na descrição das colunas. Algumas colunas com descrições antigas foram atualizadas para refletir as mudanças nos anos de dados.</p>\n",
    "<pre><code>df_per_copy.rename(columns={'PAVIMENTAÇÃO': 'PAVIMENTAÇÃO - < 2022 - Descrição'}, inplace=True)</code></pre>\n",
    "<pre><code>df_per_copy.rename(columns={'DUPLICAÇÃO': 'DUPLICAÇÃO - < 2022 - Descrição'}, inplace=True)</code></pre>\n",
    "<pre><code>df_per_copy.rename(columns={'OAE': 'OAE - < 2022 - Descrição'}, inplace=True)</code></pre>\n",
    "\n",
    "<h3><b><i>Criação de Novas Colunas</i></b></h3>\n",
    "<p>Foi criada uma lista com novos nomes para as colunas, de acordo com os anos de dados (2022 a 2026) e outros atributos específicos. O dicionário <code>rename_dict</code> foi criado para mapear as colunas existentes para os novos nomes e, em seguida, as renomeações foram aplicadas ao DataFrame.</p>\n",
    "<pre><code>new_column_names = ['PAVIMENTAÇÃO - < 2022 - km (i)', 'PAVIMENTAÇÃO - < 2022 - km (f)', 'PAVIMENTAÇÃO - < 2022 - Ext. (km)', ...]</code></pre>\n",
    "<pre><code>rename_dict = {'Unnamed: {}'.format(i): name for i, name in enumerate(new_column_names, start=9)}</code></pre>\n",
    "<pre><code>df_per_copy.rename(columns=rename_dict, inplace=True)</code></pre>\n",
    "\n",
    "<h3><b><i>Tratamento de Colunas de Atributos</i></b></h3>\n",
    "<p>As colunas de atributos foram divididas em três novas colunas: <code>Atributo.1</code>, <code>Atributo.2</code>, e <code>Atributo.3</code>, que foram extraídas a partir da coluna <code>Atributo</code> utilizando a função <code>str.split</code>.</p>\n",
    "<pre><code>df_per_copy[['Atributo.1', 'Atributo.3', 'Atributo.2']] = df_per_copy['Atributo'].str.split(' - ', expand=True)</code></pre>\n",
    "\n",
    "<h3><b><i>Remoção de Duplicados e Ajustes Finais</i></b></h3>\n",
    "<p>Após o tratamento dos atributos, o DataFrame foi ajustado para remover valores nulos e registros duplicados, e a coluna <code>ESTRUTURADOR DO PROJETO</code> foi preenchida com o valor <code>'EPL'</code>, enquanto a coluna <code>PROPONENTE</code> foi definida como <code>'ANTT'</code>.</p>\n",
    "<pre><code>df_per_copy['ESTRUTURADOR DO PROJETO'] = 'EPL'</code></pre>\n",
    "<pre><code>df_per_copy['PROPONENTE'] = 'ANTT'</code></pre>\n",
    "\n",
    "<h3><b><i>Reindexação e Salvamento</i></b></h3>\n",
    "<p>O índice foi redefinido para criar uma coluna única de identificação, e o DataFrame final foi salvo em um arquivo Excel com o nome <code>'RAW_PER (1).xlsx'</code>.</p>\n",
    "<pre><code>df_per_copy.index = range(1, len(df_per_copy) + 1)</code></pre>\n",
    "<pre><code>df_per_copy.to_excel('NEW-SCRIPT - LIMPO/RAW_PER (1).xlsx', index=False)</code></pre>\n",
    "\n",
    "<h3><b><i>Unpivot dos Dados</i></b></h3>\n",
    "<p>O código realiza um <code>melt()</code> para reformatar o DataFrame de formato largo para o formato longo, com o uso das colunas de atributos e valores.</p>\n",
    "<pre><code>df_per_copy = df_per_copy.melt(id_vars=colunas_manter, value_vars=colunas_unpivot, var_name='Atributo', value_name='Valor')</code></pre>\n",
    "\n",
    "<h3><b><i>Finalização dos Ajustes</i></b></h3>\n",
    "<p>O DataFrame final foi ajustado e preparado para análise, removendo valores nulos e mantendo apenas as linhas com dados relevantes para o processo.</p>\n",
    "<pre><code>df_per_copy = df_per_copy.loc[df_per_copy['Valor'] != 0]</code></pre>\n",
    "<pre><code>df_per_copy = df_per_copy.dropna(subset=['Valor'])</code></pre>\n",
    "\n",
    "<h2><b><i>Conclusão</i></b></h2>\n",
    "<p>Após os tratamentos, o DataFrame foi salvo no arquivo <code>'PER (1).xlsx'</code> para uso posterior.</p>\n",
    "<pre><code>df_per_copy.to_excel('NEW-SCRIPT - LIMPO/PER (1).xlsx', index=False)</code></pre>"
   ]
  },
  {
   "cell_type": "markdown",
   "metadata": {},
   "source": [
    "---"
   ]
  },
  {
   "cell_type": "markdown",
   "metadata": {},
   "source": [
    "<h1><b><i>PLAN_EXEC ATÉ ANO ANTERIOR (22) -> (24)**</i></b></h1>\n",
    "\n",
    "<h2><b><i>1. Descrição do Processo</i></b></h2>\n",
    "<p>Esta seção descreve o processamento dos dados relativos ao arquivo \"PLAN_EXEC ATÉ ANO ANTERIOR (22)\" e sua transformação para o ano de 2024. O processo inclui a leitura do arquivo, limpeza de dados, preenchimento de valores ausentes, renomeação de colunas, e transformação de dados para facilitar a análise e integração com outras bases.</p>\n",
    "\n",
    "<h2><b><i>2. Etapas do Processamento</i></b></h2>\n",
    "\n",
    "<h3><b><i>2.1. Leitura do Arquivo</i></b></h3>\n",
    "<p>A primeira etapa do processamento envolve a leitura do arquivo Excel que contém os dados de execução até o ano de 2022. A leitura é feita utilizando a função <code>pd.read_excel</code>, especificando o caminho do arquivo e a planilha de interesse:</p>\n",
    "<pre>\n",
    "df_plan_exec_ano_ant_copy = pd.read_excel(file_path, sheet_name='PLAN_EXEC ATÉ ANO ANTERIOR (22)', header=2)\n",
    "</pre>\n",
    "<p>O parâmetro <code>header=2</code> é utilizado para pular as primeiras linhas do arquivo que não contêm dados relevantes para análise.</p>\n",
    "\n",
    "<h3><b><i>2.2. Limpeza de Dados</i></b></h3>\n",
    "<p>Após a leitura, o código realiza o processo de limpeza dos dados. A primeira ação é remover as linhas com valores nulos na coluna <code>ESTADO/LOTE</code>, utilizando <code>dropna</code>:</p>\n",
    "<pre>\n",
    "df_plan_exec_ano_ant_copy.dropna(subset=['ESTADO/LOTE'])\n",
    "</pre>\n",
    "<p>Em seguida, a função <code>groupby</code> é usada para preencher os valores nulos em várias colunas essenciais (como <code>SETOR</code>, <code>UF</code>, <code>BR</code>, etc.) com o último valor válido de cada grupo, utilizando <code>ffill</code>:</p>\n",
    "<pre>\n",
    "df_plan_exec_ano_ant_copy[columns_to_fill] = df_plan_exec_ano_ant_copy.groupby((df_plan_exec_ano_ant_copy['BR'] == 1).cumsum())[columns_to_fill].transform(lambda x: x.ffill())\n",
    "</pre>\n",
    "<p>Essa abordagem preenche os valores ausentes para garantir que as informações sobre o setor, UF, e outros atributos importantes sejam propagadas corretamente.</p>\n",
    "\n",
    "<h3><b><i>2.3. Filtragem de Estados</i></b></h3>\n",
    "<p>Para garantir que os dados estejam corretos, o código aplica um filtro para manter apenas as linhas em que a coluna <code>ESTADO/LOTE</code> contenha valores específicos de estados válidos. A função <code>apply</code> é utilizada para verificar se o valor na coluna é um dos estados válidos e, caso contrário, marca o valor como <code>NaN</code>:</p>\n",
    "<pre>\n",
    "df_plan_exec_ano_ant_copy['ESTADO/LOTE'] = df_plan_exec_ano_ant_copy['ESTADO/LOTE'].apply(lambda x: x if str(x) in ['RIO GRANDE DO SUL', 'MINAS GERAIS', 'GOIÁS', 'SANTA CATARINA', 'TOCANTINS', 'GOIAS', 'RIO DE JANEIRO', 'MATO GROSSO', 'PARÁ', 'SÃO PAULO', 'PARANÁ', 'BAHIA', 'ESPIRITO SANTO', 'MATO GROSSO DO SUL'] else pd.NA)\n",
    "</pre>\n",
    "<p>Após isso, os valores nulos em <code>ESTADO/LOTE</code> são preenchidos para baixo utilizando <code>fillna(method='ffill')</code>, para garantir que o estado de cada linha seja corretamente atribuído:</p>\n",
    "<pre>\n",
    "df_plan_exec_ano_ant_copy['ESTADO/LOTE'] = df_plan_exec_ano_ant_copy['ESTADO/LOTE'].fillna(method='ffill')\n",
    "</pre>\n",
    "\n",
    "<h3><b><i>2.4. Renomeação de Colunas</i></b></h3>\n",
    "<p>O próximo passo é renomear várias colunas para torná-las mais descritivas e consistentes. Por exemplo, as colunas de descrição para diferentes tipos de pavimentação, duplicação, e outros tipos de intervenções recebem nomes mais claros e padronizados:</p>\n",
    "<pre>\n",
    "df_plan_exec_ano_ant_copy.rename(columns={'PAVIMENTAÇÃO (Acumulada até 2022)': 'PAVIMENTAÇÃO - (Acumulada até ano anterior) - Descrição'}, inplace=True)\n",
    "df_plan_exec_ano_ant_copy.rename(columns={'DUPLICAÇÃO (Acumulada até 2022)': 'DUPLICAÇÃO - (Acumulada até ano anterior) - Descrição'}, inplace=True)\n",
    "df_plan_exec_ano_ant_copy.rename(columns={'OAE (Acumulada até 2022)': 'OAE - (Acumulada até ano anterior) - Descrição'}, inplace=True)\n",
    "df_plan_exec_ano_ant_copy.rename(columns={'CONTORNO (Acumulada até 2022)': 'CONTORNO - (Acumulada até ano anterior) - Descrição'}, inplace=True)\n",
    "</pre>\n",
    "\n",
    "<h3><b><i>2.5. Transformação de Dados</i></b></h3>\n",
    "<p>Após a renomeação das colunas, os dados são reorganizados para um formato mais fácil de análise. Para isso, são definidas novas colunas para cada tipo de dado relevante. O código usa um dicionário para mapear as colunas e renomeá-las conforme necessário:</p>\n",
    "<pre>\n",
    "rename_dict = {'Unnamed: {}'.format(i): name for i, name in enumerate(new_column_names, start=9)}\n",
    "df_plan_exec_ano_ant_copy.rename(columns=rename_dict, inplace=True)\n",
    "</pre>\n",
    "\n",
    "<h3><b><i>2.6. Remoção de Colunas Desnecessárias</i></b></h3>\n",
    "<p>O código também remove algumas colunas desnecessárias para otimizar o DataFrame e evitar que dados irrelevantes sejam considerados nas análises subsequentes. No caso, a coluna <code>Unnamed: 69</code> é identificada e removida:</p>\n",
    "<pre>\n",
    "df_plan_exec_ano_ant_copy = df_plan_exec_ano_ant_copy.iloc[:, :idx]\n",
    "</pre>\n",
    "\n",
    "<h3><b><i>2.7. Filtragem de Linhas Desnecessárias</i></b></h3>\n",
    "<p>O código também aplica um filtro para remover linhas que contêm as palavras \"TOTAL\" ou \"SOMA\", que não são relevantes para a análise. A função <code>apply</code> com uma expressão regular é utilizada para realizar essa remoção:</p>\n",
    "<pre>\n",
    "df_plan_exec_ano_ant_copy = df_plan_exec_ano_ant_copy[~df_plan_exec_ano_ant_copy.apply(lambda row: row.astype(str).str.contains('TOTAL|SOMA').any(), axis=1)]\n",
    "</pre>\n",
    "\n",
    "<h3><b><i>2.8. Salvar o Arquivo Final</i></b></h3>\n",
    "<p>Por fim, o DataFrame final, já tratado e reorganizado, é salvo em um novo arquivo Excel para que possa ser utilizado posteriormente em análises:</p>\n",
    "<pre>\n",
    "df_plan_exec_ano_ant_copy.to_excel('NEW-SCRIPT - LIMPO/RAW_PLAN_EXEC ATÉ ANO ANTERIOR (22).xlsx', index=False)\n",
    "</pre>\n",
    "\n",
    "<h2><b><i>3. Conclusão</i></b></h2>\n",
    "<p>O processo descrito transforma e organiza os dados do arquivo \"PLAN_EXEC ATÉ ANO ANTERIOR (22)\" para facilitar análises futuras e a integração com outras bases de dados. A utilização de técnicas como <code>fillna</code>, renomeação de colunas e remoção de dados irrelevantes contribui para a qualidade e clareza dos dados manipulados.</p>"
   ]
  },
  {
   "cell_type": "markdown",
   "metadata": {},
   "source": [
    "---"
   ]
  },
  {
   "cell_type": "markdown",
   "metadata": {},
   "source": [
    "<h1><b><i>'META(2023)'</i></b></h1>\n",
    "<h2><b><i>1. Descrição do Processo</i></b></h2>\n",
    "<p>Esta seção descreve o processamento dos dados relativos ao arquivo \"META(2023)\", que são lidos, limpos e organizados para análise. O processo inclui a remoção de colunas irrelevantes, renomeação das colunas para melhor entendimento e transformação dos dados para o formato ideal para análise.</p>\n",
    "\n",
    "<h2><b><i>2. Etapas do Processamento</i></b></h2>\n",
    "\n",
    "<h3><b><i>2.1. Leitura do Arquivo</i></b></h3>\n",
    "<p>O arquivo Excel é lido utilizando a função <code>pd.read_excel</code>, e a planilha 'META(1) 2023' é carregada. A leitura é feita a partir da terceira linha (header=2), pois as duas primeiras linhas não contêm dados válidos:</p>\n",
    "<pre>\n",
    "df_meta_23_copy = pd.read_excel(file_path, sheet_name='META(1) 2023', header=2)\n",
    "</pre>\n",
    "\n",
    "<h3><b><i>2.2. Limpeza de Dados</i></b></h3>\n",
    "<p>O código realiza a remoção de linhas e colunas desnecessárias para garantir que os dados sejam bem formatados para análise. As linhas 0, 1 e 2 são removidas e as colunas de 'Região' são descartadas:</p>\n",
    "<pre>\n",
    "df_meta_23_copy.drop(columns=['Região'], inplace=True)\n",
    "df_meta_23_copy = df_meta_23_copy.drop(df_meta_23_copy.columns[8:176], axis=1)\n",
    "</pre>\n",
    "\n",
    "<h3><b><i>2.3. Renomeação de Colunas</i></b></h3>\n",
    "<p>As colunas relacionadas a diferentes categorias, como Pavimentação, Duplicação, OAE, Contorno, FX Adicional e Terceira Faixa, são renomeadas para refletir com mais clareza a descrição dos dados:</p>\n",
    "<pre>\n",
    "df_meta_23_copy.rename(columns={'PAVIMENTAÇÃO (Ano 2023)': 'PAVIMENTAÇÃO - (Acumulada até ano anterior) - Descrição'}, inplace=True)\n",
    "</pre>\n",
    "\n",
    "<h3><b><i>2.4. Preenchimento de Valores Ausentes</i></b></h3>\n",
    "<p>A função <code>ffill</code> é utilizada para preencher valores ausentes nas colunas de interesse, como 'EMPREENDIMENTO' e 'ESTADO/LOTE'. Também é aplicado um filtro para garantir que apenas estados válidos sejam mantidos:</p>\n",
    "<pre>\n",
    "df_meta_23_copy['ESTADO/LOTE'] = df_meta_23_copy['ESTADO/LOTE'].apply(lambda x: x if str(x) in ['RIO GRANDE DO SUL', 'MINAS GERAIS', 'GOIÁS', 'SANTA CATARINA', 'TOCANTINS', 'GOIAS', 'RIO DE JANEIRO', 'MATO GROSSO', 'PARÁ', 'RIO/SP', 'SÃO PAULO', 'PARANÁ', 'BAHIA', 'ESPIRITO SANTO', 'MATO GROSSO DO SUL'] else pd.NA)\n",
    "df_meta_23_copy['ESTADO/LOTE'] = df_meta_23_copy['ESTADO/LOTE'].fillna(method='ffill')\n",
    "</pre>\n",
    "\n",
    "<h3><b><i>2.5. Remoção de Linhas com \"TOTAL\" ou \"SOMA\"</i></b></h3>\n",
    "<p>As linhas que contêm os valores \"TOTAL\" ou \"SOMA\" são removidas, pois são consideradas agregações e não relevantes para o processamento detalhado:</p>\n",
    "<pre>\n",
    "df_meta_23_copy = df_meta_23_copy[~df_meta_23_copy.apply(lambda row: row.astype(str).str.contains('TOTAL|SOMA').any(), axis=1)]\n",
    "</pre>\n",
    "\n",
    "<h3><b><i>2.6. Unpivot dos Dados</i></b></h3>\n",
    "<p>A transformação dos dados em um formato longo é realizada com a função <code>melt</code>, movendo as variáveis de colunas para linhas, o que facilita a análise. Além disso, é realizado um filtro para remover valores nulos e zerados:</p>\n",
    "<pre>\n",
    "df_meta_23_copy = df_meta_23_copy.melt(id_vars=colunas_manter, value_vars=colunas_unpivot, var_name='Atributo', value_name='Valor')\n",
    "</pre>\n",
    "\n",
    "<h3><b><i>2.7. Salvamento Final</i></b></h3>\n",
    "<p>Por fim, o DataFrame processado é salvo em um novo arquivo Excel:</p>\n",
    "<pre>\n",
    "df_meta_23_copy.to_excel('NEW-SCRIPT - LIMPO/RAW_META(2023).xlsx', index=False)\n",
    "</pre>\n",
    "\n",
    "<h1><b><i>'META(2024)'</i></b></h1>\n",
    "<p>A descrição do processo para \"META(2024)\" segue os mesmos passos descritos para o \"META(2023)\", com a principal diferença no nome da planilha lida e nas colunas renomeadas para refletir o ano de 2024.</p>\n",
    "\n",
    "<h1><b><i>'META(2025)'</i></b></h1>\n",
    "<p>A descrição do processo para \"META(2025)\" é semelhante à de \"META(2024)\", com as devidas atualizações no ano e nas colunas.</p>\n",
    "\n",
    "<h1><b><i>'META(2026)'</i></b></h1>\n",
    "<p>O processo de \"META(2026)\" segue os mesmos passos descritos anteriormente, com a atualização do ano e das colunas correspondentes para o ano de 2026.</p>\n",
    "\n",
    "<h1><b><i>'META(2027)'</i></b></h1>\n",
    "<p>A documentação do processo para \"META(2027)\" é idêntica aos anos anteriores, com a atualização para os dados do ano de 2027.</p>\n",
    "\n",
    "<h2><b><i>3. Conclusão</i></b></h2>\n",
    "<p>O processamento dos dados para os anos de 2023 a 2027 segue a mesma metodologia, com a leitura dos arquivos, a limpeza, transformação, renomeação de colunas e finalmente a organização dos dados no formato desejado para análise. Esses processos garantem que os dados estejam prontos para serem utilizados em outros fluxos de trabalho e análises futuras.</p>"
   ]
  },
  {
   "cell_type": "markdown",
   "metadata": {},
   "source": [
    "---"
   ]
  },
  {
   "cell_type": "markdown",
   "metadata": {},
   "source": [
    "<h1><b><i>'iNEXECUTADO (pendências até 24)'</i></b></h1>\n",
    "<h2><b><i>1. Descrição do Processo</i></b></h2>\n",
    "<p>Esta seção descreve o processo de leitura, limpeza e organização dos dados referentes ao arquivo \"iNEXECUTADO (pendências até 24)\". O processo inclui a remoção de colunas irrelevantes, renomeação das colunas para refletir corretamente os dados e o tratamento de valores ausentes.</p>\n",
    "\n",
    "<h2><b><i>2. Etapas do Processamento</i></b></h2>\n",
    "\n",
    "<h3><b><i>2.1. Leitura do Arquivo</i></b></h3>\n",
    "<p>O arquivo Excel é lido a partir da planilha \"iNEXECUTADO (pendências até 24)\", e a leitura é feita a partir da terceira linha (header=2):</p>\n",
    "<pre>\n",
    "df_inexec_copy = pd.read_excel(file_path, sheet_name='iNEXECUTADO (pendências até 24)', header=2)\n",
    "</pre>\n",
    "\n",
    "<h3><b><i>2.2. Limpeza de Dados</i></b></h3>\n",
    "<p>O código realiza a remoção de linhas desnecessárias e a remoção de colunas irrelevantes. As linhas 0, 1 e 2 são removidas e as colunas de \"Região\" são descartadas:</p>\n",
    "<pre>\n",
    "df_inexec_copy.drop(columns=['Região'], inplace=True)\n",
    "df_inexec_copy = df_inexec_copy.drop(df_inexec_copy.columns[8:176], axis=1)\n",
    "</pre>\n",
    "\n",
    "<h3><b><i>2.3. Renomeação de Colunas</i></b></h3>\n",
    "<p>As colunas que descrevem as diferentes áreas de execução (Pavimentação, Duplicação, OAE, etc.) são renomeadas para garantir clareza e consistência nos dados:</p>\n",
    "<pre>\n",
    "df_inexec_copy.rename(columns={'PAVIMENTAÇÃO (até 2024)': 'PAVIMENTAÇÃO - (até 2024) - Descrição'}, inplace=True)\n",
    "</pre>\n",
    "\n",
    "<h3><b><i>2.4. Preenchimento de Valores Ausentes</i></b></h3>\n",
    "<p>Valores ausentes nas colunas são preenchidos utilizando o método de preenchimento para frente <code>fillna(method='ffill')</code>, garantindo que a informação esteja presente para todas as linhas relevantes:</p>\n",
    "<pre>\n",
    "df_inexec_copy['ESTADO/LOTE'] = df_inexec_copy['ESTADO/LOTE'].apply(lambda x: x if str(x) in ['RIO GRANDE DO SUL', 'MINAS GERAIS', ...] else pd.NA)\n",
    "df_inexec_copy['ESTADO/LOTE'] = df_inexec_copy['ESTADO/LOTE'].fillna(method='ffill')\n",
    "</pre>\n",
    "\n",
    "<h3><b><i>2.5. Remoção de Linhas com \"TOTAL\" ou \"SOMA\"</i></b></h3>\n",
    "<p>As linhas contendo \"TOTAL\" ou \"SOMA\" são removidas, pois estas representam agregações que não são úteis para a análise detalhada dos dados:</p>\n",
    "<pre>\n",
    "df_inexec_copy = df_inexec_copy[~df_inexec_copy.apply(lambda row: row.astype(str).str.contains('TOTAL|SOMA').any(), axis=1)]\n",
    "</pre>\n",
    "\n",
    "<h3><b><i>2.6. Unpivot dos Dados</i></b></h3>\n",
    "<p>O processo de unpivot é realizado para reorganizar as colunas em um formato longo, facilitando a análise. As variáveis são movidas para uma estrutura de linhas:</p>\n",
    "<pre>\n",
    "df_inexec_copy = df_inexec_copy.melt(id_vars=colunas_manter, value_vars=colunas_unpivot, var_name='Atributo', value_name='Valor')\n",
    "</pre>\n",
    "\n",
    "<h3><b><i>2.7. Salvamento Final</i></b></h3>\n",
    "<p>O DataFrame final é salvo em um novo arquivo Excel, pronto para ser utilizado para análise:</p>\n",
    "<pre>\n",
    "df_inexec_copy.to_excel('NEW-SCRIPT - LIMPO/RAW_iNEXECUTADO (pendências até 24).xlsx', index=False)\n",
    "</pre>"
   ]
  },
  {
   "cell_type": "markdown",
   "metadata": {},
   "source": [
    "---"
   ]
  },
  {
   "cell_type": "markdown",
   "metadata": {},
   "source": [
    "<h1><b><i>'À EXECUTAR (2026 DIANTE)'</i></b></h1>\n",
    "<h2><b><i>1. Descrição do Processo</i></b></h2>\n",
    "<p>O processo de tratamento dos dados para \"À EXECUTAR (2026 DIANTE)\" segue uma metodologia similar à de \"iNEXECUTADO (pendências até 24)\", com o foco na limpeza, renomeação e transformação dos dados de execução para o ano de 2026 em diante.</p>\n",
    "\n",
    "<h2><b><i>2. Etapas do Processamento</i></b></h2>\n",
    "\n",
    "<h3><b><i>2.1. Leitura do Arquivo</i></b></h3>\n",
    "<p>O arquivo Excel é lido a partir da planilha \"À EXECUTAR (2026 DIANTE)\", e a leitura é feita a partir da terceira linha (header=2):</p>\n",
    "<pre>\n",
    "df_a_executar_copy = pd.read_excel(file_path, sheet_name='À EXECUTAR (2026 DIANTE)', header=2)\n",
    "</pre>\n",
    "\n",
    "<h3><b><i>2.2. Limpeza de Dados</i></b></h3>\n",
    "<p>As linhas desnecessárias são removidas e as colunas irrelevantes são descartadas. A coluna 'Região' também é descartada:</p>\n",
    "<pre>\n",
    "df_a_executar_copy.drop(columns=['Região'], inplace=True)\n",
    "</pre>\n",
    "\n",
    "<h3><b><i>2.3. Renomeação de Colunas</i></b></h3>\n",
    "<p>As colunas que representam diferentes áreas de execução, como Pavimentação, Duplicação, OAE, etc., são renomeadas para refletir a descrição atualizada dos dados:</p>\n",
    "<pre>\n",
    "df_a_executar_copy.rename(columns={'PAVIMENTAÇÃO': 'PAVIMENTAÇÃO - 2026 - Descrição'}, inplace=True)\n",
    "</pre>\n",
    "\n",
    "<h3><b><i>2.4. Preenchimento de Valores Ausentes</i></b></h3>\n",
    "<p>Valores ausentes nas colunas são preenchidos de maneira semelhante ao processo anterior para garantir que os dados estejam completos:</p>\n",
    "<pre>\n",
    "df_a_executar_copy['ESTADO/LOTE'] = df_a_executar_copy['ESTADO/LOTE'].fillna(method='ffill')\n",
    "</pre>\n",
    "\n",
    "<h3><b><i>2.5. Unpivot dos Dados</i></b></h3>\n",
    "<p>Os dados são transformados para o formato longo utilizando a função <code>melt</code>, movendo as variáveis de colunas para linhas para facilitar a análise:</p>\n",
    "<pre>\n",
    "df_a_executar_copy = df_a_executar_copy.melt(id_vars=colunas_manter, value_vars=colunas_unpivot, var_name='Atributo', value_name='Valor')\n",
    "</pre>\n",
    "\n",
    "<h3><b><i>2.6. Salvamento Final</i></b></h3>\n",
    "<p>O DataFrame processado é salvo em um novo arquivo Excel:</p>\n",
    "<pre>\n",
    "df_a_executar_copy.to_excel('NEW-SCRIPT - LIMPO/RAW_À EXECUTAR (2026 DIANTE).xlsx', index=False)\n",
    "</pre>\n",
    "\n",
    "<h2><b><i>3. Conclusão</i></b></h2>\n",
    "<p>Os processos descritos acima são implementados para os arquivos \"iNEXECUTADO (pendências até 24)\" e \"À EXECUTAR (2026 DIANTE)\", garantindo que os dados estejam organizados e prontos para análises detalhadas em cada área específica.</p>"
   ]
  },
  {
   "cell_type": "markdown",
   "metadata": {},
   "source": [
    "---"
   ]
  },
  {
   "cell_type": "markdown",
   "metadata": {},
   "source": [
    "<h2><b><i>FINAL -> TT - NS</i></b></h2>\n",
    "<p>Após todo esse processo de transformações e limpeza, os arquivos estão prontos para ser fundidos em uma tabela e planilha mãe para alimentação do Relatório, este processo acontece dentro de outro notebook dentro da pasta NEW-SCRIPT - LIMPO, aonde se econtram todos os arquivos gerados/limpos por este código e se localiza o notebook que acabamos de falar nomeado de \"TT - NS\" (Todas as Tabelas do New Script).</p>"
   ]
  },
  {
   "cell_type": "markdown",
   "metadata": {},
   "source": []
  }
 ],
 "metadata": {
  "kernelspec": {
   "display_name": "Python 3 (ipykernel)",
   "language": "python",
   "name": "python3"
  },
  "language_info": {
   "codemirror_mode": {
    "name": "ipython",
    "version": 3
   },
   "file_extension": ".py",
   "mimetype": "text/x-python",
   "name": "python",
   "nbconvert_exporter": "python",
   "pygments_lexer": "ipython3",
   "version": "3.13.7"
  }
 },
 "nbformat": 4,
 "nbformat_minor": 4
}
